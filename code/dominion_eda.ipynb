{
 "cells": [
  {
   "cell_type": "code",
   "execution_count": null,
   "id": "2418e128-31b5-413b-b216-285bffab80af",
   "metadata": {},
   "outputs": [],
   "source": []
  },
  {
   "cell_type": "code",
   "execution_count": null,
   "id": "6ec1c875-aba1-40be-a822-ad9745d595df",
   "metadata": {},
   "outputs": [],
   "source": []
  },
  {
   "cell_type": "code",
   "execution_count": 44,
   "id": "3de93a9f-b05a-4131-ace7-0f406d17b112",
   "metadata": {},
   "outputs": [],
   "source": [
    "import pytz\n",
    "import pandas as pd\n",
    "import numpy as np\n",
    "import datetime as dt\n",
    "\n",
    "\n",
    "import matplotlib.pyplot as plt\n",
    "import seaborn as sns\n",
    "import numpy as np\n",
    "from sklearn.feature_extraction.text import CountVectorizer\n",
    "\n",
    "# this setting widens how many characters pandas will display in a column:\n",
    "pd.options.display.max_colwidth = 100\n",
    "# help with layout\n",
    "plt.rcParams.update({'figure.autolayout': True})\n"
   ]
  },
  {
   "cell_type": "code",
   "execution_count": 45,
   "id": "8639ba53-9f2a-40ef-826c-049942412c54",
   "metadata": {},
   "outputs": [],
   "source": [
    "df = pd.read_csv('../data/reddit_dominion.csv')"
   ]
  },
  {
   "cell_type": "code",
   "execution_count": 46,
   "id": "1052a1bc-6136-4177-84a4-2c5b0af326fe",
   "metadata": {},
   "outputs": [],
   "source": [
    "df.drop(columns = ['Unnamed: 0'], inplace = True)"
   ]
  },
  {
   "cell_type": "code",
   "execution_count": 47,
   "id": "c0d6ad37-1b13-45fa-8669-5f80dd9c3730",
   "metadata": {},
   "outputs": [
    {
     "data": {
      "text/plain": [
       "(7121, 4)"
      ]
     },
     "execution_count": 47,
     "metadata": {},
     "output_type": "execute_result"
    }
   ],
   "source": [
    "df.shape"
   ]
  },
  {
   "cell_type": "code",
   "execution_count": 48,
   "id": "b92f8ac6-94de-4725-aa5d-69d348e58831",
   "metadata": {},
   "outputs": [],
   "source": [
    "df.sort_values(by = ['created_utc'], inplace = True)"
   ]
  },
  {
   "cell_type": "code",
   "execution_count": 49,
   "id": "b3fc8af8-d5af-4def-8417-760e0a459eba",
   "metadata": {},
   "outputs": [
    {
     "data": {
      "text/html": [
       "<div>\n",
       "<style scoped>\n",
       "    .dataframe tbody tr th:only-of-type {\n",
       "        vertical-align: middle;\n",
       "    }\n",
       "\n",
       "    .dataframe tbody tr th {\n",
       "        vertical-align: top;\n",
       "    }\n",
       "\n",
       "    .dataframe thead th {\n",
       "        text-align: right;\n",
       "    }\n",
       "</style>\n",
       "<table border=\"1\" class=\"dataframe\">\n",
       "  <thead>\n",
       "    <tr style=\"text-align: right;\">\n",
       "      <th></th>\n",
       "      <th>title</th>\n",
       "      <th>created_utc</th>\n",
       "      <th>full_link</th>\n",
       "      <th>num_comments</th>\n",
       "    </tr>\n",
       "  </thead>\n",
       "  <tbody>\n",
       "    <tr>\n",
       "      <th>7105</th>\n",
       "      <td>Dominion Deck Builder | Share, discuss and rate Dominion card combinations</td>\n",
       "      <td>1292565223</td>\n",
       "      <td>https://www.reddit.com/r/dominion/comments/en9hw/dominion_deck_builder_share_discuss_and_rate/</td>\n",
       "      <td>0</td>\n",
       "    </tr>\n",
       "    <tr>\n",
       "      <th>7106</th>\n",
       "      <td>Dominion: Cornucopia announced. Theme: Variety.</td>\n",
       "      <td>1295040872</td>\n",
       "      <td>https://www.reddit.com/r/dominion/comments/f2gt5/dominion_cornucopia_announced_theme_variety/</td>\n",
       "      <td>1</td>\n",
       "    </tr>\n",
       "    <tr>\n",
       "      <th>7109</th>\n",
       "      <td>Online Dominion</td>\n",
       "      <td>1296680348</td>\n",
       "      <td>https://www.reddit.com/r/dominion/comments/fe1r5/online_dominion/</td>\n",
       "      <td>3</td>\n",
       "    </tr>\n",
       "    <tr>\n",
       "      <th>7108</th>\n",
       "      <td>Looking for someone to play a multiple rounds</td>\n",
       "      <td>1297381276</td>\n",
       "      <td>https://www.reddit.com/r/dominion/comments/fj3la/looking_for_someone_to_play_a_multiple_rounds/</td>\n",
       "      <td>6</td>\n",
       "    </tr>\n",
       "    <tr>\n",
       "      <th>7107</th>\n",
       "      <td>The Secret History of the Dominion Cards (written by Donald X himself!)</td>\n",
       "      <td>1299108955</td>\n",
       "      <td>https://www.reddit.com/r/dominion/comments/fw55j/the_secret_history_of_the_dominion_cards_written/</td>\n",
       "      <td>0</td>\n",
       "    </tr>\n",
       "  </tbody>\n",
       "</table>\n",
       "</div>"
      ],
      "text/plain": [
       "                                                                           title  \\\n",
       "7105  Dominion Deck Builder | Share, discuss and rate Dominion card combinations   \n",
       "7106                             Dominion: Cornucopia announced. Theme: Variety.   \n",
       "7109                                                             Online Dominion   \n",
       "7108                               Looking for someone to play a multiple rounds   \n",
       "7107     The Secret History of the Dominion Cards (written by Donald X himself!)   \n",
       "\n",
       "      created_utc  \\\n",
       "7105   1292565223   \n",
       "7106   1295040872   \n",
       "7109   1296680348   \n",
       "7108   1297381276   \n",
       "7107   1299108955   \n",
       "\n",
       "                                                                                               full_link  \\\n",
       "7105      https://www.reddit.com/r/dominion/comments/en9hw/dominion_deck_builder_share_discuss_and_rate/   \n",
       "7106       https://www.reddit.com/r/dominion/comments/f2gt5/dominion_cornucopia_announced_theme_variety/   \n",
       "7109                                   https://www.reddit.com/r/dominion/comments/fe1r5/online_dominion/   \n",
       "7108     https://www.reddit.com/r/dominion/comments/fj3la/looking_for_someone_to_play_a_multiple_rounds/   \n",
       "7107  https://www.reddit.com/r/dominion/comments/fw55j/the_secret_history_of_the_dominion_cards_written/   \n",
       "\n",
       "      num_comments  \n",
       "7105             0  \n",
       "7106             1  \n",
       "7109             3  \n",
       "7108             6  \n",
       "7107             0  "
      ]
     },
     "execution_count": 49,
     "metadata": {},
     "output_type": "execute_result"
    }
   ],
   "source": [
    "df.head()"
   ]
  },
  {
   "cell_type": "code",
   "execution_count": 50,
   "id": "eba68367-d0e2-4341-82b6-51d8b38c4c83",
   "metadata": {},
   "outputs": [],
   "source": [
    "# Modified code from: https://stackoverflow.com/questions/52451105/python-converting-utc-millisecond-timestamp-to-local-time\n",
    "def tz_from_utc_s_ts(utc_s_ts, tz_info):\n",
    "    \"\"\"Given second utc timestamp and a timezone return dateime\n",
    "\n",
    "    :param utc_s_ts: Unix UTC timestamp in seconds\n",
    "    :param tz_info: timezone info\n",
    "    :return: timezone aware datetime\n",
    "    \"\"\"\n",
    "    # convert from time stamp to datetime\n",
    "    utc_datetime = dt.datetime.utcfromtimestamp(utc_s_ts)\n",
    "\n",
    "    # set the timezone to UTC, and then convert to desired timezone\n",
    "    return utc_datetime.replace(tzinfo=pytz.timezone('UTC')).astimezone(tz_info)"
   ]
  },
  {
   "cell_type": "code",
   "execution_count": 64,
   "id": "8844b049-b096-49a5-922d-cae46e59692f",
   "metadata": {},
   "outputs": [
    {
     "data": {
      "text/html": [
       "<div>\n",
       "<style scoped>\n",
       "    .dataframe tbody tr th:only-of-type {\n",
       "        vertical-align: middle;\n",
       "    }\n",
       "\n",
       "    .dataframe tbody tr th {\n",
       "        vertical-align: top;\n",
       "    }\n",
       "\n",
       "    .dataframe thead th {\n",
       "        text-align: right;\n",
       "    }\n",
       "</style>\n",
       "<table border=\"1\" class=\"dataframe\">\n",
       "  <thead>\n",
       "    <tr style=\"text-align: right;\">\n",
       "      <th></th>\n",
       "      <th>title</th>\n",
       "      <th>created_utc</th>\n",
       "      <th>full_link</th>\n",
       "      <th>num_comments</th>\n",
       "      <th>GMT_time</th>\n",
       "      <th>year</th>\n",
       "      <th>month</th>\n",
       "      <th>day</th>\n",
       "      <th>hour</th>\n",
       "      <th>char_count</th>\n",
       "      <th>word_count</th>\n",
       "      <th>commments_greater</th>\n",
       "    </tr>\n",
       "  </thead>\n",
       "  <tbody>\n",
       "    <tr>\n",
       "      <th>7105</th>\n",
       "      <td>Dominion Deck Builder | Share, discuss and rate Dominion card combinations</td>\n",
       "      <td>1292565223</td>\n",
       "      <td>https://www.reddit.com/r/dominion/comments/en9hw/dominion_deck_builder_share_discuss_and_rate/</td>\n",
       "      <td>0</td>\n",
       "      <td>2010-12-17 05:53:43+00:00</td>\n",
       "      <td>2010</td>\n",
       "      <td>12</td>\n",
       "      <td>17</td>\n",
       "      <td>05</td>\n",
       "      <td>74</td>\n",
       "      <td>11</td>\n",
       "      <td>0</td>\n",
       "    </tr>\n",
       "    <tr>\n",
       "      <th>7106</th>\n",
       "      <td>Dominion: Cornucopia announced. Theme: Variety.</td>\n",
       "      <td>1295040872</td>\n",
       "      <td>https://www.reddit.com/r/dominion/comments/f2gt5/dominion_cornucopia_announced_theme_variety/</td>\n",
       "      <td>1</td>\n",
       "      <td>2011-01-14 21:34:32+00:00</td>\n",
       "      <td>2011</td>\n",
       "      <td>01</td>\n",
       "      <td>14</td>\n",
       "      <td>21</td>\n",
       "      <td>47</td>\n",
       "      <td>5</td>\n",
       "      <td>0</td>\n",
       "    </tr>\n",
       "    <tr>\n",
       "      <th>7109</th>\n",
       "      <td>Online Dominion</td>\n",
       "      <td>1296680348</td>\n",
       "      <td>https://www.reddit.com/r/dominion/comments/fe1r5/online_dominion/</td>\n",
       "      <td>3</td>\n",
       "      <td>2011-02-02 20:59:08+00:00</td>\n",
       "      <td>2011</td>\n",
       "      <td>02</td>\n",
       "      <td>02</td>\n",
       "      <td>20</td>\n",
       "      <td>15</td>\n",
       "      <td>2</td>\n",
       "      <td>0</td>\n",
       "    </tr>\n",
       "    <tr>\n",
       "      <th>7108</th>\n",
       "      <td>Looking for someone to play a multiple rounds</td>\n",
       "      <td>1297381276</td>\n",
       "      <td>https://www.reddit.com/r/dominion/comments/fj3la/looking_for_someone_to_play_a_multiple_rounds/</td>\n",
       "      <td>6</td>\n",
       "      <td>2011-02-10 23:41:16+00:00</td>\n",
       "      <td>2011</td>\n",
       "      <td>02</td>\n",
       "      <td>10</td>\n",
       "      <td>23</td>\n",
       "      <td>45</td>\n",
       "      <td>8</td>\n",
       "      <td>0</td>\n",
       "    </tr>\n",
       "    <tr>\n",
       "      <th>7107</th>\n",
       "      <td>The Secret History of the Dominion Cards (written by Donald X himself!)</td>\n",
       "      <td>1299108955</td>\n",
       "      <td>https://www.reddit.com/r/dominion/comments/fw55j/the_secret_history_of_the_dominion_cards_written/</td>\n",
       "      <td>0</td>\n",
       "      <td>2011-03-02 23:35:55+00:00</td>\n",
       "      <td>2011</td>\n",
       "      <td>03</td>\n",
       "      <td>02</td>\n",
       "      <td>23</td>\n",
       "      <td>71</td>\n",
       "      <td>12</td>\n",
       "      <td>0</td>\n",
       "    </tr>\n",
       "  </tbody>\n",
       "</table>\n",
       "</div>"
      ],
      "text/plain": [
       "                                                                           title  \\\n",
       "7105  Dominion Deck Builder | Share, discuss and rate Dominion card combinations   \n",
       "7106                             Dominion: Cornucopia announced. Theme: Variety.   \n",
       "7109                                                             Online Dominion   \n",
       "7108                               Looking for someone to play a multiple rounds   \n",
       "7107     The Secret History of the Dominion Cards (written by Donald X himself!)   \n",
       "\n",
       "      created_utc  \\\n",
       "7105   1292565223   \n",
       "7106   1295040872   \n",
       "7109   1296680348   \n",
       "7108   1297381276   \n",
       "7107   1299108955   \n",
       "\n",
       "                                                                                               full_link  \\\n",
       "7105      https://www.reddit.com/r/dominion/comments/en9hw/dominion_deck_builder_share_discuss_and_rate/   \n",
       "7106       https://www.reddit.com/r/dominion/comments/f2gt5/dominion_cornucopia_announced_theme_variety/   \n",
       "7109                                   https://www.reddit.com/r/dominion/comments/fe1r5/online_dominion/   \n",
       "7108     https://www.reddit.com/r/dominion/comments/fj3la/looking_for_someone_to_play_a_multiple_rounds/   \n",
       "7107  https://www.reddit.com/r/dominion/comments/fw55j/the_secret_history_of_the_dominion_cards_written/   \n",
       "\n",
       "      num_comments                  GMT_time  year month day hour  char_count  \\\n",
       "7105             0 2010-12-17 05:53:43+00:00  2010    12  17   05          74   \n",
       "7106             1 2011-01-14 21:34:32+00:00  2011    01  14   21          47   \n",
       "7109             3 2011-02-02 20:59:08+00:00  2011    02  02   20          15   \n",
       "7108             6 2011-02-10 23:41:16+00:00  2011    02  10   23          45   \n",
       "7107             0 2011-03-02 23:35:55+00:00  2011    03  02   23          71   \n",
       "\n",
       "      word_count  commments_greater  \n",
       "7105          11                  0  \n",
       "7106           5                  0  \n",
       "7109           2                  0  \n",
       "7108           8                  0  \n",
       "7107          12                  0  "
      ]
     },
     "execution_count": 64,
     "metadata": {},
     "output_type": "execute_result"
    }
   ],
   "source": [
    "# Adding potentially useful columns\n",
    "df['GMT_time'] = df['created_utc'].apply(lambda time_seconds: \n",
    "                                        tz_from_utc_s_ts(time_seconds, pytz.timezone('UTC')))\n",
    "df['year'] = df['GMT_time'].apply(lambda date:  (date.strftime('%Y')))\n",
    "df['month'] = df['GMT_time'].apply(lambda date:  (date.strftime('%m')))\n",
    "df['day'] = df['GMT_time'].apply(lambda date:  (date.strftime('%d')))\n",
    "df['hour'] = df['GMT_time'].apply(lambda date:  (date.strftime('%H')))\n",
    "\n",
    "df['char_count'] = df['title'].apply(lambda text: len(text))\n",
    "df['word_count'] = df['title'].apply(lambda text: len(text.split()))\n",
    "med = df['num_comments'].median()\n",
    "df['commments_greater'] = df['num_comments'].apply(lambda val: 1 if val > med else 0)\n",
    "\n",
    "\n",
    "\n",
    "df.to_csv('../data/reddit_dominion_full.csv', index=False)\n",
    "df.head()"
   ]
  },
  {
   "cell_type": "code",
   "execution_count": 53,
   "id": "00fb95c2-d96b-45ac-8799-24cbaba275b6",
   "metadata": {},
   "outputs": [
    {
     "data": {
      "text/plain": [
       "0    0.518607\n",
       "1    0.481393\n",
       "Name: commments_greater, dtype: float64"
      ]
     },
     "execution_count": 53,
     "metadata": {},
     "output_type": "execute_result"
    }
   ],
   "source": [
    "df['commments_greater'].value_counts(normalize=True)"
   ]
  },
  {
   "cell_type": "code",
   "execution_count": 54,
   "id": "1124cec2-b2fe-44f6-9100-a0b4d5c98bce",
   "metadata": {},
   "outputs": [
    {
     "data": {
      "image/png": "[encoded data removed]",
      "text/plain": [
       "<Figure size 1440x576 with 2 Axes>"
      ]
     },
     "metadata": {
      "needs_background": "light"
     },
     "output_type": "display_data"
    }
   ],
   "source": [
    "fig, ax = plt.subplots(1,2, figsize = (20,8))\n",
    "sns.histplot(df['word_count'], ax=ax[0], bins = 20);\n",
    "sns.histplot(df['char_count'], ax = ax[1], bins = 20);"
   ]
  },
  {
   "cell_type": "code",
   "execution_count": 56,
   "id": "19325183-a248-4363-bfb9-9760763a052c",
   "metadata": {},
   "outputs": [
    {
     "data": {
      "image/png": "[encoded data removed]",
      "text/plain": [
       "<Figure size 1440x576 with 1 Axes>"
      ]
     },
     "metadata": {
      "needs_background": "light"
     },
     "output_type": "display_data"
    },
    {
     "data": {
      "image/png": "[encoded data removed]",
      "text/plain": [
       "<Figure size 1440x576 with 1 Axes>"
      ]
     },
     "metadata": {
      "needs_background": "light"
     },
     "output_type": "display_data"
    }
   ],
   "source": [
    "features = ['word_count', 'char_count']\n",
    "labels = ['Word Count', 'Character Count']\n",
    "color1 = (1,0,0,0.3)\n",
    "color2 = (0,0,1,0.3)\n",
    "target = df['commments_greater']\n",
    "for i in range(len(features)):\n",
    "    fig, ax = plt.subplots(figsize = (20,8))\n",
    "    feature = features[i]\n",
    "    bins = np.histogram(df[feature], bins=50)[1]\n",
    "    lab = labels[i]\n",
    "    avg_high_comments = df[target==1][feature].mean()\n",
    "    avg_low_comments = df[target == 0][feature].mean()\n",
    "    ax.hist(df[target==1][feature], bins = bins, label = f'High Comments: {lab}, mean = {round(avg_high_comments)}', color = color1,edgecolor='k');\n",
    "    ax.hist(df[target==0][feature], bins = bins, label = f'Low Comments: {lab}, mean = {round(avg_low_comments)}', color = color2, edgecolor='w');\n",
    "    ax.axvline(avg_high_comments, color = color1)\n",
    "    ax.axvline(avg_low_comments, color = color2)\n",
    "\n",
    "    ax.set_xlabel(f'Status Length', size=15)\n",
    "    ax.set(title = f'Freq vs status length')\n",
    "    ax.legend(loc='center');"
   ]
  },
  {
   "cell_type": "markdown",
   "id": "02c87588-58c0-4235-aa49-0a82d2053b80",
   "metadata": {},
   "source": [
    "# Modeling"
   ]
  },
  {
   "cell_type": "code",
   "execution_count": 57,
   "id": "737e53fd-d36f-45e6-bcf9-e82dae94585a",
   "metadata": {},
   "outputs": [
    {
     "name": "stdout",
     "output_type": "stream",
     "text": [
      "shape of words df = (7121, 6062)\n"
     ]
    },
    {
     "data": {
      "text/html": [
       "<div>\n",
       "<style scoped>\n",
       "    .dataframe tbody tr th:only-of-type {\n",
       "        vertical-align: middle;\n",
       "    }\n",
       "\n",
       "    .dataframe tbody tr th {\n",
       "        vertical-align: top;\n",
       "    }\n",
       "\n",
       "    .dataframe thead th {\n",
       "        text-align: right;\n",
       "    }\n",
       "</style>\n",
       "<table border=\"1\" class=\"dataframe\">\n",
       "  <thead>\n",
       "    <tr style=\"text-align: right;\">\n",
       "      <th></th>\n",
       "      <th>00</th>\n",
       "      <th>000</th>\n",
       "      <th>00pm</th>\n",
       "      <th>01</th>\n",
       "      <th>01006069927</th>\n",
       "      <th>06</th>\n",
       "      <th>07</th>\n",
       "      <th>10</th>\n",
       "      <th>100</th>\n",
       "      <th>1000</th>\n",
       "      <th>...</th>\n",
       "      <th>หวย</th>\n",
       "      <th>าออนไลน</th>\n",
       "      <th>เครด</th>\n",
       "      <th>เว</th>\n",
       "      <th>แทงบอลออนไลน</th>\n",
       "      <th>โนออนไลน</th>\n",
       "      <th>먹튀검증</th>\n",
       "      <th>먹튀사이트</th>\n",
       "      <th>먹튀샵</th>\n",
       "      <th>토토사이트</th>\n",
       "    </tr>\n",
       "  </thead>\n",
       "  <tbody>\n",
       "    <tr>\n",
       "      <th>0</th>\n",
       "      <td>0</td>\n",
       "      <td>0</td>\n",
       "      <td>0</td>\n",
       "      <td>0</td>\n",
       "      <td>0</td>\n",
       "      <td>0</td>\n",
       "      <td>0</td>\n",
       "      <td>0</td>\n",
       "      <td>0</td>\n",
       "      <td>0</td>\n",
       "      <td>...</td>\n",
       "      <td>0</td>\n",
       "      <td>0</td>\n",
       "      <td>0</td>\n",
       "      <td>0</td>\n",
       "      <td>0</td>\n",
       "      <td>0</td>\n",
       "      <td>0</td>\n",
       "      <td>0</td>\n",
       "      <td>0</td>\n",
       "      <td>0</td>\n",
       "    </tr>\n",
       "    <tr>\n",
       "      <th>1</th>\n",
       "      <td>0</td>\n",
       "      <td>0</td>\n",
       "      <td>0</td>\n",
       "      <td>0</td>\n",
       "      <td>0</td>\n",
       "      <td>0</td>\n",
       "      <td>0</td>\n",
       "      <td>0</td>\n",
       "      <td>0</td>\n",
       "      <td>0</td>\n",
       "      <td>...</td>\n",
       "      <td>0</td>\n",
       "      <td>0</td>\n",
       "      <td>0</td>\n",
       "      <td>0</td>\n",
       "      <td>0</td>\n",
       "      <td>0</td>\n",
       "      <td>0</td>\n",
       "      <td>0</td>\n",
       "      <td>0</td>\n",
       "      <td>0</td>\n",
       "    </tr>\n",
       "    <tr>\n",
       "      <th>2</th>\n",
       "      <td>0</td>\n",
       "      <td>0</td>\n",
       "      <td>0</td>\n",
       "      <td>0</td>\n",
       "      <td>0</td>\n",
       "      <td>0</td>\n",
       "      <td>0</td>\n",
       "      <td>0</td>\n",
       "      <td>0</td>\n",
       "      <td>0</td>\n",
       "      <td>...</td>\n",
       "      <td>0</td>\n",
       "      <td>0</td>\n",
       "      <td>0</td>\n",
       "      <td>0</td>\n",
       "      <td>0</td>\n",
       "      <td>0</td>\n",
       "      <td>0</td>\n",
       "      <td>0</td>\n",
       "      <td>0</td>\n",
       "      <td>0</td>\n",
       "    </tr>\n",
       "    <tr>\n",
       "      <th>3</th>\n",
       "      <td>0</td>\n",
       "      <td>0</td>\n",
       "      <td>0</td>\n",
       "      <td>0</td>\n",
       "      <td>0</td>\n",
       "      <td>0</td>\n",
       "      <td>0</td>\n",
       "      <td>0</td>\n",
       "      <td>0</td>\n",
       "      <td>0</td>\n",
       "      <td>...</td>\n",
       "      <td>0</td>\n",
       "      <td>0</td>\n",
       "      <td>0</td>\n",
       "      <td>0</td>\n",
       "      <td>0</td>\n",
       "      <td>0</td>\n",
       "      <td>0</td>\n",
       "      <td>0</td>\n",
       "      <td>0</td>\n",
       "      <td>0</td>\n",
       "    </tr>\n",
       "    <tr>\n",
       "      <th>4</th>\n",
       "      <td>0</td>\n",
       "      <td>0</td>\n",
       "      <td>0</td>\n",
       "      <td>0</td>\n",
       "      <td>0</td>\n",
       "      <td>0</td>\n",
       "      <td>0</td>\n",
       "      <td>0</td>\n",
       "      <td>0</td>\n",
       "      <td>0</td>\n",
       "      <td>...</td>\n",
       "      <td>0</td>\n",
       "      <td>0</td>\n",
       "      <td>0</td>\n",
       "      <td>0</td>\n",
       "      <td>0</td>\n",
       "      <td>0</td>\n",
       "      <td>0</td>\n",
       "      <td>0</td>\n",
       "      <td>0</td>\n",
       "      <td>0</td>\n",
       "    </tr>\n",
       "  </tbody>\n",
       "</table>\n",
       "<p>5 rows × 6062 columns</p>\n",
       "</div>"
      ],
      "text/plain": [
       "   00  000  00pm  01  01006069927  06  07  10  100  1000  ...  หวย  าออนไลน  \\\n",
       "0   0    0     0   0            0   0   0   0    0     0  ...    0        0   \n",
       "1   0    0     0   0            0   0   0   0    0     0  ...    0        0   \n",
       "2   0    0     0   0            0   0   0   0    0     0  ...    0        0   \n",
       "3   0    0     0   0            0   0   0   0    0     0  ...    0        0   \n",
       "4   0    0     0   0            0   0   0   0    0     0  ...    0        0   \n",
       "\n",
       "   เครด  เว  แทงบอลออนไลน  โนออนไลน  먹튀검증  먹튀사이트  먹튀샵  토토사이트  \n",
       "0     0   0             0         0     0      0    0      0  \n",
       "1     0   0             0         0     0      0    0      0  \n",
       "2     0   0             0         0     0      0    0      0  \n",
       "3     0   0             0         0     0      0    0      0  \n",
       "4     0   0             0         0     0      0    0      0  \n",
       "\n",
       "[5 rows x 6062 columns]"
      ]
     },
     "execution_count": 57,
     "metadata": {},
     "output_type": "execute_result"
    }
   ],
   "source": [
    "cv = CountVectorizer(stop_words='english')\n",
    "\n",
    "cv.fit(df['title'])\n",
    "words_df = pd.DataFrame(cv.transform(df['title']).A, columns = cv.get_feature_names_out())\n",
    "print(f'shape of words df = {words_df.shape}')\n",
    "words_df.head()"
   ]
  },
  {
   "cell_type": "code",
   "execution_count": 58,
   "id": "373f155f-fed2-47fd-b015-580d5fddca0c",
   "metadata": {},
   "outputs": [
    {
     "data": {
      "text/plain": [
       "0    7117\n",
       "1       4\n",
       "Name: 000, dtype: int64"
      ]
     },
     "execution_count": 58,
     "metadata": {},
     "output_type": "execute_result"
    }
   ],
   "source": [
    "words_df['000'].value_counts()"
   ]
  },
  {
   "cell_type": "code",
   "execution_count": 59,
   "id": "5e0ed02a-d636-4455-8f96-fb9fd8e596fc",
   "metadata": {},
   "outputs": [
    {
     "data": {
      "text/plain": [
       "dominion       1416\n",
       "card            902\n",
       "cards           683\n",
       "fan             529\n",
       "game            453\n",
       "kotw            386\n",
       "online          333\n",
       "prosperity      293\n",
       "intrigue        293\n",
       "village         281\n",
       "expansion       271\n",
       "ages            269\n",
       "dark            268\n",
       "seaside         250\n",
       "question        249\n",
       "play            247\n",
       "new             244\n",
       "adventures      237\n",
       "games           210\n",
       "empires         210\n",
       "shelters        198\n",
       "kingdom         196\n",
       "hinterlands     195\n",
       "colony          183\n",
       "platinum        176\n",
       "dtype: int64"
      ]
     },
     "execution_count": 59,
     "metadata": {},
     "output_type": "execute_result"
    }
   ],
   "source": [
    "# k most common words\n",
    "top_k = 25\n",
    "words_df.sum().sort_values(ascending=False)[:top_k]"
   ]
  },
  {
   "cell_type": "code",
   "execution_count": 60,
   "id": "088e74c6-00ad-4a20-afe3-324144c2b17d",
   "metadata": {},
   "outputs": [
    {
     "data": {
      "image/png": "[encoded data removed]",
      "text/plain": [
       "<Figure size 1440x576 with 1 Axes>"
      ]
     },
     "metadata": {
      "needs_background": "light"
     },
     "output_type": "display_data"
    }
   ],
   "source": [
    "\n",
    "fig, ax = plt.subplots(figsize = (20,8))\n",
    "ax.bar(x=words_df.sum().sort_values(ascending=False)[:top_k].index, height=words_df.sum().sort_values(ascending=False)[:top_k]);\n",
    "ax.set(title = f'Top {top_k} word frequencies', xlabel = 'word', ylabel = 'frequency')\n",
    "plt.show()"
   ]
  },
  {
   "cell_type": "code",
   "execution_count": 63,
   "id": "b3461654-eaa7-4b7c-aa34-bc617ca1428e",
   "metadata": {},
   "outputs": [
    {
     "data": {
      "text/plain": [
       "dominion      1416\n",
       "card           902\n",
       "cards          683\n",
       "fan            529\n",
       "game           453\n",
       "kotw           386\n",
       "fan card       376\n",
       "online         333\n",
       "intrigue       293\n",
       "prosperity     293\n",
       "dtype: int64"
      ]
     },
     "execution_count": 63,
     "metadata": {},
     "output_type": "execute_result"
    }
   ],
   "source": [
    "# excluding stopwords\n",
    "cv_bigrams = CountVectorizer(ngram_range=(1,3), stop_words='english')\n",
    "cv_bigrams.fit(df['title'])\n",
    "X_train_bigrams = cv_bigrams.transform(df['title'])\n",
    "pd.DataFrame(X_train_bigrams.A, columns=cv_bigrams.get_feature_names_out()).sum().sort_values(ascending = False)[:10]\n"
   ]
  },
  {
   "cell_type": "code",
   "execution_count": null,
   "id": "06e10411-ad51-40ff-b656-d2003324f805",
   "metadata": {},
   "outputs": [],
   "source": []
  }
 ],
 "metadata": {
  "kernelspec": {
   "display_name": "Python 3 (ipykernel)",
   "language": "python",
   "name": "python3"
  },
  "language_info": {
   "codemirror_mode": {
    "name": "ipython",
    "version": 3
   },
   "file_extension": ".py",
   "mimetype": "text/x-python",
   "name": "python",
   "nbconvert_exporter": "python",
   "pygments_lexer": "ipython3",
   "version": "3.9.12"
  }
 },
 "nbformat": 4,
 "nbformat_minor": 5
}
