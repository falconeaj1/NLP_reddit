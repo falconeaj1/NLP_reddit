{
 "cells": [
  {
   "cell_type": "markdown",
   "id": "54684e19-9b8e-45db-ac07-2b8c6d7bcc9d",
   "metadata": {},
   "source": [
    "# Modeling Part 2 (testing different models)"
   ]
  },
  {
   "cell_type": "code",
   "execution_count": 312,
   "id": "89c513b6-1e9f-49b8-aa36-7f7689f297c6",
   "metadata": {
    "tags": []
   },
   "outputs": [],
   "source": [
    "import pandas as pd\n",
    "import numpy as np\n",
    "import matplotlib.pyplot as plt\n",
    "import re, string\n",
    "from sklearn.ensemble import RandomForestClassifier, ExtraTreesClassifier, AdaBoostClassifier, GradientBoostingClassifier\n",
    "from sklearn.feature_extraction.text import CountVectorizer, TfidfVectorizer, TfidfTransformer\n",
    "from sklearn.linear_model import LogisticRegression\n",
    "from sklearn.model_selection import train_test_split, cross_val_score, GridSearchCV\n",
    "from sklearn.naive_bayes import MultinomialNB, BernoulliNB\n",
    "from sklearn.neighbors import KNeighborsClassifier\n",
    "from sklearn.pipeline import Pipeline\n",
    "from sklearn.preprocessing import StandardScaler, PolynomialFeatures, FunctionTransformer\n",
    "from sklearn.metrics import f1_score, confusion_matrix, plot_confusion_matrix, ConfusionMatrixDisplay\n",
    "from sklearn.svm import SVC\n",
    "import seaborn as sns\n",
    "from nltk import word_tokenize\n",
    "from nltk.stem import WordNetLemmatizer, PorterStemmer\n",
    "from nltk.tokenize import RegexpTokenizer\n",
    "import nltk\n",
    "from nltk.corpus import stopwords\n",
    "pd.options.display.max_colwidth = 300\n",
    "\n",
    "\n",
    "import pandas as pd\n",
    "from sklearn.feature_extraction.text import CountVectorizer, TfidfTransformer\n",
    "from sklearn.pipeline import Pipeline\n",
    "from sklearn.svm import LinearSVC\n",
    "from sklearn.preprocessing import MinMaxScaler\n",
    "from sklearn.compose import ColumnTransformer"
   ]
  },
  {
   "cell_type": "code",
   "execution_count": 76,
   "id": "accb2c15-6d44-431d-92e4-e2d05f57c77c",
   "metadata": {},
   "outputs": [
    {
     "data": {
      "text/html": [
       "<div>\n",
       "<style scoped>\n",
       "    .dataframe tbody tr th:only-of-type {\n",
       "        vertical-align: middle;\n",
       "    }\n",
       "\n",
       "    .dataframe tbody tr th {\n",
       "        vertical-align: top;\n",
       "    }\n",
       "\n",
       "    .dataframe thead th {\n",
       "        text-align: right;\n",
       "    }\n",
       "</style>\n",
       "<table border=\"1\" class=\"dataframe\">\n",
       "  <thead>\n",
       "    <tr style=\"text-align: right;\">\n",
       "      <th></th>\n",
       "      <th>title</th>\n",
       "      <th>id</th>\n",
       "      <th>created_utc</th>\n",
       "      <th>year</th>\n",
       "      <th>month</th>\n",
       "      <th>full_link</th>\n",
       "      <th>body_len</th>\n",
       "      <th>word_count</th>\n",
       "      <th>char_count</th>\n",
       "      <th>has_media</th>\n",
       "      <th>num_comments</th>\n",
       "      <th>commments_greater</th>\n",
       "    </tr>\n",
       "  </thead>\n",
       "  <tbody>\n",
       "    <tr>\n",
       "      <th>0</th>\n",
       "      <td>Dominion Deck Builder | Share, discuss and rate Dominion card combinations</td>\n",
       "      <td>en9hw</td>\n",
       "      <td>1292565223</td>\n",
       "      <td>2010</td>\n",
       "      <td>12</td>\n",
       "      <td>https://www.reddit.com/r/dominion/comments/en9hw/dominion_deck_builder_share_discuss_and_rate/</td>\n",
       "      <td>0</td>\n",
       "      <td>11</td>\n",
       "      <td>74</td>\n",
       "      <td>0</td>\n",
       "      <td>0</td>\n",
       "      <td>0</td>\n",
       "    </tr>\n",
       "    <tr>\n",
       "      <th>1</th>\n",
       "      <td>Dominion: Cornucopia announced. Theme: Variety.</td>\n",
       "      <td>f2gt5</td>\n",
       "      <td>1295040872</td>\n",
       "      <td>2011</td>\n",
       "      <td>1</td>\n",
       "      <td>https://www.reddit.com/r/dominion/comments/f2gt5/dominion_cornucopia_announced_theme_variety/</td>\n",
       "      <td>0</td>\n",
       "      <td>5</td>\n",
       "      <td>47</td>\n",
       "      <td>0</td>\n",
       "      <td>1</td>\n",
       "      <td>0</td>\n",
       "    </tr>\n",
       "    <tr>\n",
       "      <th>2</th>\n",
       "      <td>Online Dominion</td>\n",
       "      <td>fe1r5</td>\n",
       "      <td>1296680348</td>\n",
       "      <td>2011</td>\n",
       "      <td>2</td>\n",
       "      <td>https://www.reddit.com/r/dominion/comments/fe1r5/online_dominion/</td>\n",
       "      <td>0</td>\n",
       "      <td>2</td>\n",
       "      <td>15</td>\n",
       "      <td>0</td>\n",
       "      <td>3</td>\n",
       "      <td>0</td>\n",
       "    </tr>\n",
       "    <tr>\n",
       "      <th>3</th>\n",
       "      <td>Looking for someone to play a multiple rounds</td>\n",
       "      <td>fj3la</td>\n",
       "      <td>1297381276</td>\n",
       "      <td>2011</td>\n",
       "      <td>2</td>\n",
       "      <td>https://www.reddit.com/r/dominion/comments/fj3la/looking_for_someone_to_play_a_multiple_rounds/</td>\n",
       "      <td>274</td>\n",
       "      <td>8</td>\n",
       "      <td>45</td>\n",
       "      <td>0</td>\n",
       "      <td>6</td>\n",
       "      <td>0</td>\n",
       "    </tr>\n",
       "    <tr>\n",
       "      <th>4</th>\n",
       "      <td>The Secret History of the Dominion Cards (written by Donald X himself!)</td>\n",
       "      <td>fw55j</td>\n",
       "      <td>1299108955</td>\n",
       "      <td>2011</td>\n",
       "      <td>3</td>\n",
       "      <td>https://www.reddit.com/r/dominion/comments/fw55j/the_secret_history_of_the_dominion_cards_written/</td>\n",
       "      <td>0</td>\n",
       "      <td>12</td>\n",
       "      <td>71</td>\n",
       "      <td>0</td>\n",
       "      <td>0</td>\n",
       "      <td>0</td>\n",
       "    </tr>\n",
       "  </tbody>\n",
       "</table>\n",
       "</div>"
      ],
      "text/plain": [
       "                                                                        title  \\\n",
       "0  Dominion Deck Builder | Share, discuss and rate Dominion card combinations   \n",
       "1                             Dominion: Cornucopia announced. Theme: Variety.   \n",
       "2                                                             Online Dominion   \n",
       "3                               Looking for someone to play a multiple rounds   \n",
       "4     The Secret History of the Dominion Cards (written by Donald X himself!)   \n",
       "\n",
       "      id  created_utc  year  month  \\\n",
       "0  en9hw   1292565223  2010     12   \n",
       "1  f2gt5   1295040872  2011      1   \n",
       "2  fe1r5   1296680348  2011      2   \n",
       "3  fj3la   1297381276  2011      2   \n",
       "4  fw55j   1299108955  2011      3   \n",
       "\n",
       "                                                                                            full_link  \\\n",
       "0      https://www.reddit.com/r/dominion/comments/en9hw/dominion_deck_builder_share_discuss_and_rate/   \n",
       "1       https://www.reddit.com/r/dominion/comments/f2gt5/dominion_cornucopia_announced_theme_variety/   \n",
       "2                                   https://www.reddit.com/r/dominion/comments/fe1r5/online_dominion/   \n",
       "3     https://www.reddit.com/r/dominion/comments/fj3la/looking_for_someone_to_play_a_multiple_rounds/   \n",
       "4  https://www.reddit.com/r/dominion/comments/fw55j/the_secret_history_of_the_dominion_cards_written/   \n",
       "\n",
       "   body_len  word_count  char_count  has_media  num_comments  \\\n",
       "0         0          11          74          0             0   \n",
       "1         0           5          47          0             1   \n",
       "2         0           2          15          0             3   \n",
       "3       274           8          45          0             6   \n",
       "4         0          12          71          0             0   \n",
       "\n",
       "   commments_greater  \n",
       "0                  0  \n",
       "1                  0  \n",
       "2                  0  \n",
       "3                  0  \n",
       "4                  0  "
      ]
     },
     "execution_count": 76,
     "metadata": {},
     "output_type": "execute_result"
    }
   ],
   "source": [
    "df = pd.read_csv('../data/reddit_dominion_fixed.csv')\n",
    "df.head()"
   ]
  },
  {
   "cell_type": "code",
   "execution_count": 310,
   "id": "751d5745-c9eb-4dc0-ad0f-6134a3191423",
   "metadata": {},
   "outputs": [
    {
     "data": {
      "image/png": "[encoded data removed]",
      "text/plain": [
       "<Figure size 432x288 with 1 Axes>"
      ]
     },
     "metadata": {
      "needs_background": "light"
     },
     "output_type": "display_data"
    }
   ],
   "source": [
    "plt.hist(df[df['num_comments']<60]['num_comments'], bins = 30)\n",
    "plt.title('Comment Frequency')\n",
    "plt.xlabel('Number of Comments')\n",
    "plt.ylabel('Frequency')\n",
    "\n",
    "plt.show()"
   ]
  },
  {
   "cell_type": "markdown",
   "id": "e390f435-0eab-47c0-bfd1-d98c798d2ca5",
   "metadata": {},
   "source": [
    "- ## Initialization"
   ]
  },
  {
   "cell_type": "code",
   "execution_count": 143,
   "id": "1cfbcd3f-2437-43dc-8dbe-db14f7685eff",
   "metadata": {},
   "outputs": [],
   "source": [
    "y = df['commments_greater']\n",
    "X = df[['title', 'year', 'month', 'body_len', 'word_count', 'has_media']]\n",
    "\n",
    "X_train, X_test, y_train, y_test = train_test_split(X, y, random_state=0, stratify=y)\n",
    "X_train_simple = X_train['title']\n",
    "X_test_simple = X_test['title']"
   ]
  },
  {
   "cell_type": "markdown",
   "id": "2c7cfa3c-5ca4-4f2b-9561-c263d8707d46",
   "metadata": {
    "tags": []
   },
   "source": [
    "- ## Baseline model"
   ]
  },
  {
   "cell_type": "code",
   "execution_count": 131,
   "id": "8b392703-51fe-48d0-821c-f29b696bee38",
   "metadata": {},
   "outputs": [
    {
     "data": {
      "text/plain": [
       "0    0.511024\n",
       "1    0.488976\n",
       "Name: commments_greater, dtype: float64"
      ]
     },
     "execution_count": 131,
     "metadata": {},
     "output_type": "execute_result"
    }
   ],
   "source": [
    "y.value_counts(normalize=True)"
   ]
  },
  {
   "cell_type": "markdown",
   "id": "8c98e528-405d-437e-a8cf-595b24ad89ef",
   "metadata": {},
   "source": [
    "- #### If the model predicted majority class (less than or equal to 1 comment), the model would be right 51% of the time. The goal is to improve upon this baseline accuracy."
   ]
  },
  {
   "cell_type": "markdown",
   "id": "5e6847ab-e401-4d3c-8394-c28c47a6822c",
   "metadata": {},
   "source": [
    "- ## Define lemmatization and stemming functions"
   ]
  },
  {
   "cell_type": "code",
   "execution_count": 172,
   "id": "14f08f85-074f-4811-9e86-a5f6f8e34cb3",
   "metadata": {},
   "outputs": [],
   "source": [
    "# Used code from https://datagy.io/python-remove-special-characters-from-string/\n",
    "# to clean strings\n",
    "\n",
    "# Tested only stemming function\n",
    "# def lemma_tokenizer(doc):\n",
    "#     wnl = WordNetLemmatizer()\n",
    "#     tokens = word_tokenize(doc)\n",
    "#     return [wnl.lemmatize(t) for t in tokens]\n",
    "\n",
    "def stemmer_tokenizer(doc):\n",
    "    ps = PorterStemmer()\n",
    "    tokens = word_tokenize(doc)\n",
    "    tokens = [ps.stem(re.sub(r\"[^a-zA-Z0-9 ]\", \"\", t)) for t in tokens \n",
    "              if t not in stops and t not in string.punctuation] #other languages\n",
    "    tokens = [re.sub(r'\\W+', ' ', t) for t in tokens \n",
    "              if t not in stops and t not in string.punctuation] #strange characters\n",
    "    tokens = [re.sub('\\d+', '', t) for t in tokens \n",
    "              if t not in stops and t not in string.punctuation ] #numerical\n",
    "    return [ps.stem(re.sub(\"\\\\W\",'',t)) for t in tokens \n",
    "              if t not in stops and t not in string.punctuation]\n",
    "stops = set(stopwords.words('english'))"
   ]
  },
  {
   "cell_type": "markdown",
   "id": "3ae4cec1-4c24-44a4-9f3b-f09849bf0eb2",
   "metadata": {},
   "source": [
    "- ## Outline\n",
    "The following models were tested on just the title data using both CountVectorizer\n",
    "and TfidfVectorizer. Stemming was applied in each model (lemmatization was skipped\n",
    "due to time constraints).\n",
    "- - Logistic Regression\n",
    "- - Naïve Bayes (Bernoulli and Multinomial)\n",
    "- - Random forest\n",
    "- - Gradient Boosting\n",
    "- - Ada Boost\n",
    "- - K Nearest Neighbors\n",
    "\n",
    "A few models were run using more features, including:\n",
    "- - Logistic Regression\n",
    "- - Naïve Bayes (Bernoulli)\n",
    "- - Random Forest\n",
    "- - Extra Trees\n",
    "- - K Nearest Neighbors\n",
    "- - Support Vector Classification"
   ]
  },
  {
   "cell_type": "markdown",
   "id": "7cc6f4d5-08df-461f-9042-f82e4b66cdb1",
   "metadata": {},
   "source": [
    "- ## Logistic Regression"
   ]
  },
  {
   "cell_type": "markdown",
   "id": "ce7bc719-4cc1-4100-8ea6-0c7ddf6866b2",
   "metadata": {
    "tags": []
   },
   "source": [
    "### Count Vectorizer"
   ]
  },
  {
   "cell_type": "code",
   "execution_count": 144,
   "id": "80deaa69-72e5-4fbe-bf38-6bb85e8a2568",
   "metadata": {},
   "outputs": [
    {
     "name": "stdout",
     "output_type": "stream",
     "text": [
      "Fitting 5 folds for each of 6 candidates, totalling 30 fits\n",
      "Best Params:  {'cv__ngram_range': (1, 2), 'lr__C': 0.5}\n",
      "Best Estimator Score Train:  0.7696629213483146\n",
      "Best Estimator Score Test:  0.5760808534531162\n"
     ]
    }
   ],
   "source": [
    "pipe = Pipeline([    \n",
    "    ('cv', CountVectorizer(tokenizer = stemmer_tokenizer, min_df=3)),\n",
    "    ('lr', LogisticRegression(max_iter=1000)),\n",
    "])\n",
    "\n",
    "params = {\n",
    "    'cv__ngram_range' : [(1,1),(1,2)],\n",
    "    'lr__C': [1,1.5,0.5]\n",
    "}\n",
    "\n",
    "gs = GridSearchCV(pipe, params, cv=5, verbose=2, n_jobs=-1)\n",
    "gs.fit(X_train_simple, y_train)\n",
    "print('Best Params: ', gs.best_params_)\n",
    "print('Best Estimator Score Train: ', gs.best_estimator_.score(X_train_simple, y_train))\n",
    "print('Best Estimator Score Test: ', gs.best_estimator_.score(X_test_simple, y_test))"
   ]
  },
  {
   "cell_type": "markdown",
   "id": "6c49b132-c825-4bab-828f-4177ebb22475",
   "metadata": {
    "tags": []
   },
   "source": [
    "### TFID "
   ]
  },
  {
   "cell_type": "code",
   "execution_count": 145,
   "id": "68691851-a0cd-4155-b1f1-f3cd69db9699",
   "metadata": {},
   "outputs": [
    {
     "name": "stdout",
     "output_type": "stream",
     "text": [
      "Fitting 5 folds for each of 3 candidates, totalling 15 fits\n",
      "Best Params:  {'tfid__ngram_range': (1, 2)}\n",
      "Best Estimator Score Train:  0.7601123595505618\n",
      "Best Estimator Score Test:  0.5901179112857945\n"
     ]
    }
   ],
   "source": [
    "pipe = Pipeline([    \n",
    "    ('tfid', TfidfVectorizer(tokenizer=stemmer_tokenizer, min_df=3)),\n",
    "    ('lr', LogisticRegression(max_iter=1000)),\n",
    "])\n",
    "\n",
    "params = {\n",
    "    # 'tfid__stop_words' : [None, 'english'],\n",
    "    'tfid__ngram_range' : [(1,1),(1,2), (2,2)],\n",
    "}\n",
    "\n",
    "gs = GridSearchCV(pipe, params, cv=5, verbose=2, n_jobs=-1)\n",
    "\n",
    "gs.fit(X_train_simple, y_train)\n",
    "\n",
    "print('Best Params: ', gs.best_params_)\n",
    "print('Best Estimator Score Train: ', gs.best_estimator_.score(X_train_simple, y_train))\n",
    "print('Best Estimator Score Test: ', gs.best_estimator_.score(X_test_simple, y_test))"
   ]
  },
  {
   "cell_type": "markdown",
   "id": "37465184-e073-403f-83a2-15f1953493da",
   "metadata": {},
   "source": [
    "- ## Naive Bayes (Bernouilli)"
   ]
  },
  {
   "cell_type": "markdown",
   "id": "5faf4541-6594-446b-b914-9031e3c16281",
   "metadata": {},
   "source": [
    "### Count Vectorizer"
   ]
  },
  {
   "cell_type": "code",
   "execution_count": 149,
   "id": "7f81cae8-44b0-4e5d-a889-dc23d6cb8ad2",
   "metadata": {},
   "outputs": [
    {
     "name": "stdout",
     "output_type": "stream",
     "text": [
      "Fitting 5 folds for each of 9 candidates, totalling 45 fits\n",
      "Best Params:  {'cv__ngram_range': (1, 2), 'nb__alpha': 2}\n",
      "Best Estimator Score Train:  0.900561797752809\n",
      "Best Estimator Score Test:  0.5901179112857945\n"
     ]
    }
   ],
   "source": [
    "pipe = Pipeline([\n",
    "    ('cv', CountVectorizer(tokenizer=stemmer_tokenizer)),\n",
    "    ('nb', BernoulliNB())\n",
    "])\n",
    "\n",
    "params = {\n",
    "    'cv__ngram_range' : [(1,1), (1,2), (1,3)],\n",
    "    'nb__alpha': [0.1,1,2]\n",
    "}\n",
    "\n",
    "gs = GridSearchCV(pipe, params, cv=5, verbose=2, n_jobs=-1)\n",
    "\n",
    "gs.fit(X_train_simple, y_train)\n",
    "\n",
    "print('Best Params: ', gs.best_params_)\n",
    "print('Best Estimator Score Train: ', gs.best_estimator_.score(X_train_simple, y_train))\n",
    "print('Best Estimator Score Test: ', gs.best_estimator_.score(X_test_simple, y_test))"
   ]
  },
  {
   "cell_type": "markdown",
   "id": "529a08e8-3efe-41b6-9b65-f8f9cbbe3d1e",
   "metadata": {},
   "source": [
    "### TFID"
   ]
  },
  {
   "cell_type": "code",
   "execution_count": 150,
   "id": "c5a0cb2d-4bdf-4a71-be07-db2407914bfc",
   "metadata": {},
   "outputs": [
    {
     "name": "stdout",
     "output_type": "stream",
     "text": [
      "Fitting 5 folds for each of 9 candidates, totalling 45 fits\n",
      "Best Params:  {'nb__alpha': 2, 'tfid__ngram_range': (1, 2)}\n",
      "Best Estimator Score Train:  0.900561797752809\n",
      "Best Estimator Score Test:  0.5901179112857945\n"
     ]
    }
   ],
   "source": [
    "pipe = Pipeline([\n",
    "    ('tfid', TfidfVectorizer(tokenizer=stemmer_tokenizer)),\n",
    "    ('nb', BernoulliNB())\n",
    "])\n",
    "\n",
    "params = {\n",
    "    'tfid__ngram_range' : [(1,1), (1,2), (1,3)],\n",
    "    'nb__alpha': [1,2,2.5]\n",
    "}\n",
    "\n",
    "gs = GridSearchCV(pipe, params, cv=5, verbose=2, n_jobs=-1)\n",
    "\n",
    "gs.fit(X_train_simple, y_train)\n",
    "\n",
    "print('Best Params: ', gs.best_params_)\n",
    "print('Best Estimator Score Train: ', gs.best_estimator_.score(X_train_simple, y_train))\n",
    "print('Best Estimator Score Test: ', gs.best_estimator_.score(X_test_simple, y_test))"
   ]
  },
  {
   "cell_type": "markdown",
   "id": "f2b02125-3703-4c0c-8f79-69e3c4f99c4a",
   "metadata": {},
   "source": [
    "- ## Naive Bayes (Multinomial)"
   ]
  },
  {
   "cell_type": "markdown",
   "id": "dbcb69a5-51a8-41c8-9628-044af08a3d9e",
   "metadata": {},
   "source": [
    "### Count Vectorizer"
   ]
  },
  {
   "cell_type": "code",
   "execution_count": 153,
   "id": "a94edea0-35f4-4c45-a38e-945410e69bb2",
   "metadata": {},
   "outputs": [
    {
     "name": "stdout",
     "output_type": "stream",
     "text": [
      "Fitting 5 folds for each of 4 candidates, totalling 20 fits\n",
      "Best Params:  {'cv__ngram_range': (1, 2), 'nbm__alpha': 1}\n",
      "Best Estimator Score Train:  0.9284644194756554\n",
      "Best Estimator Score Test:  0.5822571588994947\n"
     ]
    }
   ],
   "source": [
    "pipe = Pipeline([\n",
    "    ('cv', CountVectorizer(tokenizer=stemmer_tokenizer)),\n",
    "    ('nbm', MultinomialNB())\n",
    "])\n",
    "\n",
    "params = {\n",
    "    'cv__ngram_range' : [(1,1), (1,2)],\n",
    "    'nbm__alpha': [1,2]\n",
    "}\n",
    "\n",
    "gs = GridSearchCV(pipe, param_grid=params, cv=5, verbose=2, n_jobs=-1)\n",
    "\n",
    "gs.fit(X_train_simple, y_train)\n",
    "\n",
    "print('Best Params: ', gs.best_params_)\n",
    "print('Best Estimator Score Train: ', gs.best_estimator_.score(X_train_simple, y_train))\n",
    "print('Best Estimator Score Test: ', gs.best_estimator_.score(X_test_simple, y_test))"
   ]
  },
  {
   "cell_type": "markdown",
   "id": "46eecb47-de9e-400a-a518-f1f9e0e1c43e",
   "metadata": {},
   "source": [
    "### TFID"
   ]
  },
  {
   "cell_type": "code",
   "execution_count": 154,
   "id": "6b0b8905-e2df-4f78-aaeb-42b9d8b97a1b",
   "metadata": {},
   "outputs": [
    {
     "name": "stdout",
     "output_type": "stream",
     "text": [
      "Fitting 5 folds for each of 9 candidates, totalling 45 fits\n",
      "Best Params:  {'nbm__alpha': 1, 'tfid__ngram_range': (1, 2)}\n",
      "Best Estimator Score Train:  0.9415730337078652\n",
      "Best Estimator Score Test:  0.5912408759124088\n"
     ]
    }
   ],
   "source": [
    "pipe = Pipeline([\n",
    "    ('tfid', TfidfVectorizer(tokenizer=stemmer_tokenizer)),\n",
    "    ('nbm', MultinomialNB())\n",
    "])\n",
    "\n",
    "params = {\n",
    "    'tfid__ngram_range' : [(1,1), (1,2), (1,3)],\n",
    "    'nbm__alpha': [.1,1,2]\n",
    "}\n",
    "\n",
    "gs = GridSearchCV(pipe, params, cv=5, verbose=2, n_jobs=-1)\n",
    "\n",
    "gs.fit(X_train_simple, y_train)\n",
    "\n",
    "print('Best Params: ', gs.best_params_)\n",
    "print('Best Estimator Score Train: ', gs.best_estimator_.score(X_train_simple, y_train))\n",
    "print('Best Estimator Score Test: ', gs.best_estimator_.score(X_test_simple, y_test))"
   ]
  },
  {
   "cell_type": "markdown",
   "id": "12c6c0e1-295e-47a1-93e6-25ca07134bc0",
   "metadata": {},
   "source": [
    "- ## Random Forest Classifier"
   ]
  },
  {
   "cell_type": "markdown",
   "id": "b73806f6-a680-4995-9670-2cab0fdedd10",
   "metadata": {},
   "source": [
    "### Count Vectorizer"
   ]
  },
  {
   "cell_type": "code",
   "execution_count": 157,
   "id": "e486d16e-5efe-4a8f-9064-fc0c36dbcb52",
   "metadata": {},
   "outputs": [
    {
     "name": "stdout",
     "output_type": "stream",
     "text": [
      "Fitting 5 folds for each of 8 candidates, totalling 40 fits\n",
      "Best Params:  {'cv__ngram_range': (1, 2), 'rf__min_samples_leaf': 5, 'rf__n_estimators': 300}\n",
      "Best Estimator Score Train:  0.6747191011235955\n",
      "Best Estimator Score Test:  0.5873104997192589\n"
     ]
    }
   ],
   "source": [
    "pipe = Pipeline([\n",
    "    ('cv', CountVectorizer(tokenizer=stemmer_tokenizer)),\n",
    "    ('rf', RandomForestClassifier())\n",
    "])\n",
    "\n",
    "params = {\n",
    "    'cv__ngram_range' : [(1,1), (1,2)],\n",
    "    'rf__n_estimators': [100, 300],\n",
    "    'rf__min_samples_leaf': [1,5]\n",
    "}\n",
    "\n",
    "gs = GridSearchCV(pipe, params, cv=5, verbose=2, n_jobs=-1)\n",
    "\n",
    "gs.fit(X_train_simple, y_train)\n",
    "\n",
    "print('Best Params: ', gs.best_params_)\n",
    "print('Best Estimator Score Train: ', gs.best_estimator_.score(X_train_simple, y_train))\n",
    "print('Best Estimator Score Test: ', gs.best_estimator_.score(X_test_simple, y_test))"
   ]
  },
  {
   "cell_type": "markdown",
   "id": "dbbb50c7-b7c6-4986-88b4-85b1ca5f74be",
   "metadata": {},
   "source": [
    "### TFID"
   ]
  },
  {
   "cell_type": "code",
   "execution_count": 159,
   "id": "4c4cee75-e096-496f-943c-fe20519bf2fa",
   "metadata": {},
   "outputs": [
    {
     "name": "stdout",
     "output_type": "stream",
     "text": [
      "Fitting 5 folds for each of 4 candidates, totalling 20 fits\n",
      "Best Params:  {'rf__n_estimators': 300, 'tfid__ngram_range': (1, 1)}\n",
      "Best Estimator Score Train:  0.9868913857677902\n",
      "Best Estimator Score Test:  0.5985401459854015\n"
     ]
    }
   ],
   "source": [
    "pipe = Pipeline([\n",
    "    ('tfid', TfidfVectorizer(tokenizer=stemmer_tokenizer)),\n",
    "    ('rf', RandomForestClassifier())\n",
    "])\n",
    "\n",
    "params = {\n",
    "    'tfid__ngram_range' : [(1,1), (1,2)],\n",
    "    'rf__n_estimators': [100, 300]\n",
    "\n",
    "}\n",
    "\n",
    "gs = GridSearchCV(pipe, params, cv=5, verbose=2, n_jobs=-1)\n",
    "\n",
    "gs.fit(X_train_simple, y_train)\n",
    "\n",
    "print('Best Params: ', gs.best_params_)\n",
    "print('Best Estimator Score Train: ', gs.best_estimator_.score(X_train_simple, y_train))\n",
    "print('Best Estimator Score Test: ', gs.best_estimator_.score(X_test_simple, y_test))"
   ]
  },
  {
   "cell_type": "markdown",
   "id": "af6143cc-fd40-44e7-8b37-15f3f1e0c573",
   "metadata": {},
   "source": [
    "- ## Gradient Boosting Classifier"
   ]
  },
  {
   "cell_type": "markdown",
   "id": "79caf6df-a493-4e08-aa29-5753b97b0145",
   "metadata": {},
   "source": [
    "### Count Vectorizer"
   ]
  },
  {
   "cell_type": "code",
   "execution_count": 164,
   "id": "d3dcba2f-1356-448a-9510-ea8a857f3585",
   "metadata": {},
   "outputs": [
    {
     "name": "stdout",
     "output_type": "stream",
     "text": [
      "Fitting 5 folds for each of 2 candidates, totalling 10 fits\n",
      "Best Params:  {'cv__ngram_range': (1, 1)}\n",
      "Best Estimator Score Train:  0.7423220973782771\n",
      "Best Estimator Score Test:  0.5884334643458731\n"
     ]
    }
   ],
   "source": [
    "pipe = Pipeline([\n",
    "    ('cv', CountVectorizer(tokenizer=stemmer_tokenizer)),\n",
    "    ('gb', GradientBoostingClassifier(n_estimators=500))\n",
    "])\n",
    "\n",
    "params = {\n",
    "    'cv__ngram_range' : [(1,1), (1,2)],\n",
    "}\n",
    "\n",
    "gs = GridSearchCV(pipe, params, cv=5, verbose=2, n_jobs=-1)\n",
    "\n",
    "gs.fit(X_train_simple, y_train)\n",
    "\n",
    "print('Best Params: ', gs.best_params_)\n",
    "print('Best Estimator Score Train: ', gs.best_estimator_.score(X_train_simple, y_train))\n",
    "print('Best Estimator Score Test: ', gs.best_estimator_.score(X_test_simple, y_test))"
   ]
  },
  {
   "cell_type": "markdown",
   "id": "76fd9214-40d5-42d5-acd3-a944c5d5b479",
   "metadata": {},
   "source": [
    "### TFID"
   ]
  },
  {
   "cell_type": "code",
   "execution_count": 165,
   "id": "f8140230-3ce2-4396-8fb0-2ef11c5c2744",
   "metadata": {},
   "outputs": [
    {
     "name": "stdout",
     "output_type": "stream",
     "text": [
      "Fitting 5 folds for each of 3 candidates, totalling 15 fits\n",
      "Best Params:  {'tfid__ngram_range': (1, 2)}\n",
      "Best Estimator Score Train:  0.6795880149812734\n",
      "Best Estimator Score Test:  0.5884334643458731\n"
     ]
    }
   ],
   "source": [
    "pipe = Pipeline([\n",
    "    ('tfid', TfidfVectorizer(tokenizer=stemmer_tokenizer)),\n",
    "    ('gb', GradientBoostingClassifier())\n",
    "])\n",
    "\n",
    "params = {\n",
    "    'tfid__ngram_range' : [(1,1), (1,2), (1,3)],\n",
    "}\n",
    "\n",
    "gs = GridSearchCV(pipe, params, cv=5, verbose=2, n_jobs=-1)\n",
    "\n",
    "gs.fit(X_train_simple, y_train)\n",
    "\n",
    "print('Best Params: ', gs.best_params_)\n",
    "print('Best Estimator Score Train: ', gs.best_estimator_.score(X_train_simple, y_train))\n",
    "print('Best Estimator Score Test: ', gs.best_estimator_.score(X_test_simple, y_test))"
   ]
  },
  {
   "cell_type": "markdown",
   "id": "6ba43d26-f4f4-4084-ad09-0877a26b9702",
   "metadata": {},
   "source": [
    "- ## Ada Boost GradientBoostingClassifier"
   ]
  },
  {
   "cell_type": "markdown",
   "id": "1c5fde21-6df5-497c-8385-2f5d94d29ec6",
   "metadata": {},
   "source": [
    "### Count Vectorizer"
   ]
  },
  {
   "cell_type": "code",
   "execution_count": 167,
   "id": "f71e83e1-8865-4996-9624-a6ff2bf16834",
   "metadata": {},
   "outputs": [
    {
     "name": "stdout",
     "output_type": "stream",
     "text": [
      "Fitting 5 folds for each of 4 candidates, totalling 20 fits\n",
      "Best Params:  {'ab__n_estimators': 100, 'cv__ngram_range': (1, 2)}\n",
      "Best Estimator Score Train:  0.6529962546816479\n",
      "Best Estimator Score Test:  0.5822571588994947\n"
     ]
    }
   ],
   "source": [
    "pipe = Pipeline([\n",
    "    ('cv', CountVectorizer(tokenizer=stemmer_tokenizer)),\n",
    "    ('tf', TfidfTransformer()),\n",
    "    ('ab', AdaBoostClassifier())\n",
    "])\n",
    "\n",
    "params = {\n",
    "    'cv__ngram_range' : [(1,1), (1,2)],\n",
    "    'ab__n_estimators': [50,100]\n",
    "}\n",
    "\n",
    "gs = GridSearchCV(pipe, params, cv=5, verbose=2, n_jobs=-1)\n",
    "\n",
    "gs.fit(X_train_simple, y_train)\n",
    "\n",
    "print('Best Params: ', gs.best_params_)\n",
    "print('Best Estimator Score Train: ', gs.best_estimator_.score(X_train_simple, y_train))\n",
    "print('Best Estimator Score Test: ', gs.best_estimator_.score(X_test_simple, y_test))"
   ]
  },
  {
   "cell_type": "markdown",
   "id": "02737335-1047-486d-b39b-5ffe17515b83",
   "metadata": {},
   "source": [
    "### TFID"
   ]
  },
  {
   "cell_type": "code",
   "execution_count": 168,
   "id": "dcb41df8-983e-4087-9754-aba886cfcadd",
   "metadata": {},
   "outputs": [
    {
     "name": "stdout",
     "output_type": "stream",
     "text": [
      "Fitting 5 folds for each of 2 candidates, totalling 10 fits\n",
      "Best Params:  {'tfid__ngram_range': (1, 2)}\n",
      "Best Estimator Score Train:  0.6204119850187266\n",
      "Best Estimator Score Test:  0.5777653003930376\n"
     ]
    }
   ],
   "source": [
    "pipe = Pipeline([\n",
    "    ('tfid', TfidfVectorizer(tokenizer=stemmer_tokenizer)),\n",
    "    ('ab', AdaBoostClassifier())\n",
    "])\n",
    "\n",
    "params = {\n",
    "    'tfid__ngram_range' : [(1,1), (1,2)],\n",
    "}\n",
    "\n",
    "gs = GridSearchCV(pipe, params, cv=5, verbose=2, n_jobs=-1)\n",
    "\n",
    "gs.fit(X_train_simple, y_train)\n",
    "\n",
    "print('Best Params: ', gs.best_params_)\n",
    "print('Best Estimator Score Train: ', gs.best_estimator_.score(X_train_simple, y_train))\n",
    "print('Best Estimator Score Test: ', gs.best_estimator_.score(X_test_simple, y_test))"
   ]
  },
  {
   "cell_type": "markdown",
   "id": "80ba2e4a-3beb-4e9f-ad71-9c69f3b7c234",
   "metadata": {},
   "source": [
    "- ## KNN"
   ]
  },
  {
   "cell_type": "markdown",
   "id": "a8e91af1-8b98-4fd3-8052-7234ab06765e",
   "metadata": {},
   "source": [
    "### Count Vectorizer"
   ]
  },
  {
   "cell_type": "code",
   "execution_count": 169,
   "id": "35ecb1fa-c0e1-4c2d-b869-c0b174cf2a3e",
   "metadata": {},
   "outputs": [
    {
     "name": "stdout",
     "output_type": "stream",
     "text": [
      "Fitting 5 folds for each of 2 candidates, totalling 10 fits\n",
      "Best Params:  {'cv__ngram_range': (1, 1)}\n",
      "Best Estimator Score Train:  0.704307116104869\n",
      "Best Estimator Score Test:  0.5592363840539023\n"
     ]
    }
   ],
   "source": [
    "pipe = Pipeline([\n",
    "    ('cv', CountVectorizer(tokenizer=stemmer_tokenizer)),\n",
    "    ('knn', KNeighborsClassifier())\n",
    "])\n",
    "\n",
    "params = {\n",
    "    'cv__ngram_range' : [(1,1), (1,2)],\n",
    "}\n",
    "\n",
    "gs = GridSearchCV(pipe, params, cv=5, verbose=2, n_jobs=-1)\n",
    "\n",
    "gs.fit(X_train_simple, y_train)\n",
    "\n",
    "print('Best Params: ', gs.best_params_)\n",
    "print('Best Estimator Score Train: ', gs.best_estimator_.score(X_train_simple, y_train))\n",
    "print('Best Estimator Score Test: ', gs.best_estimator_.score(X_test_simple, y_test))"
   ]
  },
  {
   "cell_type": "markdown",
   "id": "4d54e038-c94a-4c20-9c45-9f6c431246af",
   "metadata": {},
   "source": [
    "### TFID"
   ]
  },
  {
   "cell_type": "code",
   "execution_count": 171,
   "id": "9e15ffa7-cf6f-487d-8023-a7b87a1343a1",
   "metadata": {},
   "outputs": [
    {
     "name": "stdout",
     "output_type": "stream",
     "text": [
      "Fitting 5 folds for each of 2 candidates, totalling 10 fits\n",
      "Best Params:  {'tfid__ngram_range': (1, 1)}\n",
      "Best Estimator Score Train:  0.5818352059925094\n",
      "Best Estimator Score Test:  0.5480067377877597\n"
     ]
    }
   ],
   "source": [
    "pipe = Pipeline([\n",
    "    ('tfid', TfidfVectorizer(tokenizer=stemmer_tokenizer)),\n",
    "    ('knn', KNeighborsClassifier())\n",
    "])\n",
    "\n",
    "params = {\n",
    "    'tfid__ngram_range' : [(1,1), (1,2)],\n",
    "}\n",
    "\n",
    "gs = GridSearchCV(pipe, params, cv=5, verbose=2, n_jobs=-1)\n",
    "\n",
    "gs.fit(X_train_simple, y_train)\n",
    "\n",
    "print('Best Params: ', gs.best_params_)\n",
    "print('Best Estimator Score Train: ', gs.best_estimator_.score(X_train_simple, y_train))\n",
    "print('Best Estimator Score Test: ', gs.best_estimator_.score(X_test_simple, y_test))"
   ]
  },
  {
   "cell_type": "markdown",
   "id": "0dd8f406-24fc-4066-bf5a-3a20299c41e9",
   "metadata": {},
   "source": [
    "# Models using more features"
   ]
  },
  {
   "cell_type": "markdown",
   "id": "29de3ef1-e818-4aed-91aa-64e9517129ea",
   "metadata": {},
   "source": [
    "- ## Logistic Regression"
   ]
  },
  {
   "cell_type": "code",
   "execution_count": 182,
   "id": "a572ec1f-4756-45ff-ae6c-b7340ddc054e",
   "metadata": {},
   "outputs": [],
   "source": [
    "# Used code from: \n",
    "# https://stackoverflow.com/questions/61179217/sklearn-pipeline-all-the-input-array-dimensions-for-the-concatenation-axis-must\n",
    "\n",
    "\n",
    "vectorizer_params = dict(ngram_range=(1, 2), stop_words = 'english', \n",
    "                         binary = True, min_df=3, max_df=0.8)\n",
    "\n",
    "PostTextProcessor = Pipeline(steps=[\n",
    "    (\"squeez\", FunctionTransformer(lambda x: x.squeeze())),\n",
    "    (\"vect\", CountVectorizer(**vectorizer_params)),\n",
    "    (\"tfidf\", TfidfTransformer()),\n",
    "    (\"toarray\", FunctionTransformer(lambda x: x.toarray())),\n",
    "])\n",
    "\n",
    "numeric_transformer = Pipeline(steps=[\n",
    "    ('scaler', StandardScaler())\n",
    "])\n",
    "\n",
    "preprocessor = ColumnTransformer(transformers=[\n",
    "    ('post', PostTextProcessor, ['title']),\n",
    "    ('numeric', numeric_transformer, ['year', 'month', 'body_len', \n",
    "                                      'word_count', 'has_media'])\n",
    "])\n",
    "\n",
    "pipeline = Pipeline(steps=[\n",
    "    ('preprocessor', preprocessor),\n",
    "    ('classifier', LogisticRegression(max_iter=1000))\n",
    "])"
   ]
  },
  {
   "cell_type": "code",
   "execution_count": 183,
   "id": "6f27721d-190f-42b4-86c7-c9992ef4ffc7",
   "metadata": {},
   "outputs": [
    {
     "data": {
      "text/plain": [
       "Pipeline(steps=[('preprocessor',\n",
       "                 ColumnTransformer(transformers=[('post',\n",
       "                                                  Pipeline(steps=[('squeez',\n",
       "                                                                   FunctionTransformer(func=<function <lambda> at 0x7fc0966109d0>)),\n",
       "                                                                  ('vect',\n",
       "                                                                   CountVectorizer(binary=True,\n",
       "                                                                                   max_df=0.8,\n",
       "                                                                                   min_df=3,\n",
       "                                                                                   ngram_range=(1,\n",
       "                                                                                                2),\n",
       "                                                                                   stop_words='english')),\n",
       "                                                                  ('tfidf',\n",
       "                                                                   TfidfTransformer()),\n",
       "                                                                  ('toarray',\n",
       "                                                                   FunctionTransformer(func=<function <lambda> at 0x7fc096610a60>))]),\n",
       "                                                  ['title']),\n",
       "                                                 ('numeric',\n",
       "                                                  Pipeline(steps=[('scaler',\n",
       "                                                                   StandardScaler())]),\n",
       "                                                  ['year', 'month', 'body_len',\n",
       "                                                   'word_count',\n",
       "                                                   'has_media'])])),\n",
       "                ('classifier', LogisticRegression(max_iter=1000))])"
      ]
     },
     "execution_count": 183,
     "metadata": {},
     "output_type": "execute_result"
    }
   ],
   "source": [
    "pipeline.fit(X_train, y_train)"
   ]
  },
  {
   "cell_type": "code",
   "execution_count": 184,
   "id": "cf8f4c60-9652-4ad5-835d-cc4f3c41bf02",
   "metadata": {},
   "outputs": [
    {
     "data": {
      "text/plain": [
       "(0.7576779026217229, 0.6075238629983155)"
      ]
     },
     "execution_count": 184,
     "metadata": {},
     "output_type": "execute_result"
    }
   ],
   "source": [
    "pipeline.score(X_train, y_train), pipeline.score(X_test, y_test)"
   ]
  },
  {
   "cell_type": "markdown",
   "id": "51c37dd7-cc75-4268-aa92-261e72a0cc53",
   "metadata": {},
   "source": [
    "- ## Bernoulli Naïve Bayes"
   ]
  },
  {
   "cell_type": "code",
   "execution_count": 187,
   "id": "9bdc256d-ed2c-4b6d-80b6-75642acf1ffb",
   "metadata": {},
   "outputs": [],
   "source": [
    "# Used code from: \n",
    "# https://stackoverflow.com/questions/61179217/sklearn-pipeline-all-the-input-array-dimensions-for-the-concatenation-axis-must\n",
    "\n",
    "\n",
    "vectorizer_params = dict(ngram_range=(1, 2), stop_words = 'english', \n",
    "                         binary = True, min_df=3, max_df=0.8)\n",
    "\n",
    "PostTextProcessor = Pipeline(steps=[\n",
    "    (\"squeez\", FunctionTransformer(lambda x: x.squeeze())),\n",
    "    (\"vect\", CountVectorizer(**vectorizer_params)),\n",
    "    (\"tfidf\", TfidfTransformer()),\n",
    "    (\"toarray\", FunctionTransformer(lambda x: x.toarray())),\n",
    "])\n",
    "\n",
    "numeric_transformer = Pipeline(steps=[\n",
    "    ('scaler', StandardScaler())\n",
    "])\n",
    "\n",
    "preprocessor = ColumnTransformer(transformers=[\n",
    "    ('post', PostTextProcessor, ['title']),\n",
    "    ('numeric', numeric_transformer, ['year', 'month', 'body_len', \n",
    "                                      'word_count', 'has_media'])\n",
    "])\n",
    "\n",
    "pipeline = Pipeline(steps=[\n",
    "    ('preprocessor', preprocessor),\n",
    "    ('classifier', BernoulliNB())\n",
    "])"
   ]
  },
  {
   "cell_type": "code",
   "execution_count": 188,
   "id": "a5bc8ada-2140-4d8b-8576-ff2adc2fd876",
   "metadata": {},
   "outputs": [
    {
     "data": {
      "text/plain": [
       "Pipeline(steps=[('preprocessor',\n",
       "                 ColumnTransformer(transformers=[('post',\n",
       "                                                  Pipeline(steps=[('squeez',\n",
       "                                                                   FunctionTransformer(func=<function <lambda> at 0x7fc09114c820>)),\n",
       "                                                                  ('vect',\n",
       "                                                                   CountVectorizer(binary=True,\n",
       "                                                                                   max_df=0.8,\n",
       "                                                                                   min_df=3,\n",
       "                                                                                   ngram_range=(1,\n",
       "                                                                                                2),\n",
       "                                                                                   stop_words='english')),\n",
       "                                                                  ('tfidf',\n",
       "                                                                   TfidfTransformer()),\n",
       "                                                                  ('toarray',\n",
       "                                                                   FunctionTransformer(func=<function <lambda> at 0x7fc0b3575940>))]),\n",
       "                                                  ['title']),\n",
       "                                                 ('numeric',\n",
       "                                                  Pipeline(steps=[('scaler',\n",
       "                                                                   StandardScaler())]),\n",
       "                                                  ['year', 'month', 'body_len',\n",
       "                                                   'word_count',\n",
       "                                                   'has_media'])])),\n",
       "                ('classifier', BernoulliNB())])"
      ]
     },
     "execution_count": 188,
     "metadata": {},
     "output_type": "execute_result"
    }
   ],
   "source": [
    "pipeline.fit(X_train, y_train)"
   ]
  },
  {
   "cell_type": "code",
   "execution_count": 189,
   "id": "b6849bed-2eab-4048-a5b2-bfbaf1329f97",
   "metadata": {},
   "outputs": [
    {
     "data": {
      "text/plain": [
       "(0.7243445692883895, 0.6002245929253228)"
      ]
     },
     "execution_count": 189,
     "metadata": {},
     "output_type": "execute_result"
    }
   ],
   "source": [
    "pipeline.score(X_train, y_train), pipeline.score(X_test, y_test)"
   ]
  },
  {
   "cell_type": "markdown",
   "id": "499095d8-e818-44d4-8a99-444e21225e62",
   "metadata": {},
   "source": [
    "- ## Random Forest"
   ]
  },
  {
   "cell_type": "code",
   "execution_count": 199,
   "id": "b8c94f7f-7ddd-446c-904d-6e30b684c41b",
   "metadata": {},
   "outputs": [],
   "source": [
    "# Used code from: \n",
    "# https://stackoverflow.com/questions/61179217/sklearn-pipeline-all-the-input-array-dimensions-for-the-concatenation-axis-must\n",
    "\n",
    "\n",
    "vectorizer_params = dict(ngram_range=(1, 2), stop_words = 'english', \n",
    "                         binary = True, min_df=3, max_df=0.8)\n",
    "\n",
    "PostTextProcessor = Pipeline(steps=[\n",
    "    (\"squeez\", FunctionTransformer(lambda x: x.squeeze())),\n",
    "    (\"vect\", CountVectorizer(**vectorizer_params)),\n",
    "    (\"tfidf\", TfidfTransformer()),\n",
    "    (\"toarray\", FunctionTransformer(lambda x: x.toarray())),\n",
    "])\n",
    "\n",
    "numeric_transformer = Pipeline(steps=[\n",
    "    ('scaler', StandardScaler())\n",
    "])\n",
    "\n",
    "preprocessor = ColumnTransformer(transformers=[\n",
    "    ('post', PostTextProcessor, ['title']),\n",
    "    ('numeric', numeric_transformer, ['year', 'month', 'body_len', \n",
    "                                      'word_count', 'has_media'])\n",
    "])\n",
    "\n",
    "pipeline = Pipeline(steps=[\n",
    "    ('preprocessor', preprocessor),\n",
    "    ('classifier', RandomForestClassifier(n_estimators=300,\n",
    "                                         max_depth=15))\n",
    "])"
   ]
  },
  {
   "cell_type": "code",
   "execution_count": 200,
   "id": "3569d2b4-06e5-48f7-9e45-2a1f4477ef90",
   "metadata": {},
   "outputs": [
    {
     "data": {
      "text/plain": [
       "Pipeline(steps=[('preprocessor',\n",
       "                 ColumnTransformer(transformers=[('post',\n",
       "                                                  Pipeline(steps=[('squeez',\n",
       "                                                                   FunctionTransformer(func=<function <lambda> at 0x7fc0a9f1caf0>)),\n",
       "                                                                  ('vect',\n",
       "                                                                   CountVectorizer(binary=True,\n",
       "                                                                                   max_df=0.8,\n",
       "                                                                                   min_df=3,\n",
       "                                                                                   ngram_range=(1,\n",
       "                                                                                                2),\n",
       "                                                                                   stop_words='english')),\n",
       "                                                                  ('tfidf',\n",
       "                                                                   TfidfTransformer()),\n",
       "                                                                  ('toarray',\n",
       "                                                                   FunctionTransformer(func=<function <lambda> at 0x7fc0a9f1c0d0>))]),\n",
       "                                                  ['title']),\n",
       "                                                 ('numeric',\n",
       "                                                  Pipeline(steps=[('scaler',\n",
       "                                                                   StandardScaler())]),\n",
       "                                                  ['year', 'month', 'body_len',\n",
       "                                                   'word_count',\n",
       "                                                   'has_media'])])),\n",
       "                ('classifier',\n",
       "                 RandomForestClassifier(max_depth=15, n_estimators=300))])"
      ]
     },
     "execution_count": 200,
     "metadata": {},
     "output_type": "execute_result"
    }
   ],
   "source": [
    "pipeline.fit(X_train, y_train)"
   ]
  },
  {
   "cell_type": "code",
   "execution_count": 201,
   "id": "410af620-1e88-40b2-a564-33e1dfdf8a65",
   "metadata": {},
   "outputs": [
    {
     "data": {
      "text/plain": [
       "(0.7380149812734083, 0.6086468276249298)"
      ]
     },
     "execution_count": 201,
     "metadata": {},
     "output_type": "execute_result"
    }
   ],
   "source": [
    "pipeline.score(X_train, y_train), pipeline.score(X_test, y_test)"
   ]
  },
  {
   "cell_type": "markdown",
   "id": "02ce23bf-538d-42a0-98da-7df7a093413c",
   "metadata": {},
   "source": [
    "- ## Extra Trees"
   ]
  },
  {
   "cell_type": "code",
   "execution_count": 205,
   "id": "2fa88c30-3ea2-4777-86cb-1fa0fc2df002",
   "metadata": {},
   "outputs": [],
   "source": [
    "# Used code from: \n",
    "# https://stackoverflow.com/questions/61179217/sklearn-pipeline-all-the-input-array-dimensions-for-the-concatenation-axis-must\n",
    "\n",
    "\n",
    "vectorizer_params = dict(ngram_range=(1, 2), stop_words = 'english', \n",
    "                         binary = True, min_df=3, max_df=0.8)\n",
    "\n",
    "PostTextProcessor = Pipeline(steps=[\n",
    "    (\"squeez\", FunctionTransformer(lambda x: x.squeeze())),\n",
    "    (\"vect\", CountVectorizer(**vectorizer_params)),\n",
    "    (\"tfidf\", TfidfTransformer()),\n",
    "    (\"toarray\", FunctionTransformer(lambda x: x.toarray())),\n",
    "])\n",
    "\n",
    "numeric_transformer = Pipeline(steps=[\n",
    "    ('scaler', StandardScaler())\n",
    "])\n",
    "\n",
    "preprocessor = ColumnTransformer(transformers=[\n",
    "    ('post', PostTextProcessor, ['title']),\n",
    "    ('numeric', numeric_transformer, ['year', 'month', 'body_len', \n",
    "                                      'word_count', 'has_media'])\n",
    "])\n",
    "\n",
    "pipeline = Pipeline(steps=[\n",
    "    ('preprocessor', preprocessor),\n",
    "    ('classifier', ExtraTreesClassifier())\n",
    "])"
   ]
  },
  {
   "cell_type": "code",
   "execution_count": 206,
   "id": "80ee7c64-6854-4e2b-b174-f3fc96312a19",
   "metadata": {},
   "outputs": [
    {
     "data": {
      "text/plain": [
       "Pipeline(steps=[('preprocessor',\n",
       "                 ColumnTransformer(transformers=[('post',\n",
       "                                                  Pipeline(steps=[('squeez',\n",
       "                                                                   FunctionTransformer(func=<function <lambda> at 0x7fc0e4402a60>)),\n",
       "                                                                  ('vect',\n",
       "                                                                   CountVectorizer(binary=True,\n",
       "                                                                                   max_df=0.8,\n",
       "                                                                                   min_df=3,\n",
       "                                                                                   ngram_range=(1,\n",
       "                                                                                                2),\n",
       "                                                                                   stop_words='english')),\n",
       "                                                                  ('tfidf',\n",
       "                                                                   TfidfTransformer()),\n",
       "                                                                  ('toarray',\n",
       "                                                                   FunctionTransformer(func=<function <lambda> at 0x7fc0f0be0ee0>))]),\n",
       "                                                  ['title']),\n",
       "                                                 ('numeric',\n",
       "                                                  Pipeline(steps=[('scaler',\n",
       "                                                                   StandardScaler())]),\n",
       "                                                  ['year', 'month', 'body_len',\n",
       "                                                   'word_count',\n",
       "                                                   'has_media'])])),\n",
       "                ('classifier', ExtraTreesClassifier())])"
      ]
     },
     "execution_count": 206,
     "metadata": {},
     "output_type": "execute_result"
    }
   ],
   "source": [
    "pipeline.fit(X_train, y_train)"
   ]
  },
  {
   "cell_type": "code",
   "execution_count": 207,
   "id": "be8ee133-1801-4a6b-829e-c55b544580ed",
   "metadata": {},
   "outputs": [
    {
     "data": {
      "text/plain": [
       "(0.9895131086142323, 0.596294216732173)"
      ]
     },
     "execution_count": 207,
     "metadata": {},
     "output_type": "execute_result"
    }
   ],
   "source": [
    "pipeline.score(X_train, y_train), pipeline.score(X_test, y_test)"
   ]
  },
  {
   "cell_type": "markdown",
   "id": "9244d511-1927-40f2-8e21-de2f826c53d0",
   "metadata": {},
   "source": [
    "- ## KNN"
   ]
  },
  {
   "cell_type": "code",
   "execution_count": 208,
   "id": "d5d2fcf5-c702-46a7-a093-78e54aeace7c",
   "metadata": {},
   "outputs": [],
   "source": [
    "# Used code from: \n",
    "# https://stackoverflow.com/questions/61179217/sklearn-pipeline-all-the-input-array-dimensions-for-the-concatenation-axis-must\n",
    "\n",
    "\n",
    "vectorizer_params = dict(ngram_range=(1, 2), stop_words = 'english', \n",
    "                         binary = True, min_df=3, max_df=0.8)\n",
    "\n",
    "PostTextProcessor = Pipeline(steps=[\n",
    "    (\"squeez\", FunctionTransformer(lambda x: x.squeeze())),\n",
    "    (\"vect\", CountVectorizer(**vectorizer_params)),\n",
    "    (\"tfidf\", TfidfTransformer()),\n",
    "    (\"toarray\", FunctionTransformer(lambda x: x.toarray())),\n",
    "])\n",
    "\n",
    "numeric_transformer = Pipeline(steps=[\n",
    "    ('scaler', StandardScaler())\n",
    "])\n",
    "\n",
    "preprocessor = ColumnTransformer(transformers=[\n",
    "    ('post', PostTextProcessor, ['title']),\n",
    "    ('numeric', numeric_transformer, ['year', 'month', 'body_len', \n",
    "                                      'word_count', 'has_media'])\n",
    "])\n",
    "\n",
    "pipeline = Pipeline(steps=[\n",
    "    ('preprocessor', preprocessor),\n",
    "    ('classifier', KNeighborsClassifier())\n",
    "])"
   ]
  },
  {
   "cell_type": "code",
   "execution_count": 209,
   "id": "a0c85776-775d-4bcc-8746-5f81133b858b",
   "metadata": {},
   "outputs": [
    {
     "data": {
      "text/plain": [
       "Pipeline(steps=[('preprocessor',\n",
       "                 ColumnTransformer(transformers=[('post',\n",
       "                                                  Pipeline(steps=[('squeez',\n",
       "                                                                   FunctionTransformer(func=<function <lambda> at 0x7fc0a9f1c700>)),\n",
       "                                                                  ('vect',\n",
       "                                                                   CountVectorizer(binary=True,\n",
       "                                                                                   max_df=0.8,\n",
       "                                                                                   min_df=3,\n",
       "                                                                                   ngram_range=(1,\n",
       "                                                                                                2),\n",
       "                                                                                   stop_words='english')),\n",
       "                                                                  ('tfidf',\n",
       "                                                                   TfidfTransformer()),\n",
       "                                                                  ('toarray',\n",
       "                                                                   FunctionTransformer(func=<function <lambda> at 0x7fc0a9f1c310>))]),\n",
       "                                                  ['title']),\n",
       "                                                 ('numeric',\n",
       "                                                  Pipeline(steps=[('scaler',\n",
       "                                                                   StandardScaler())]),\n",
       "                                                  ['year', 'month', 'body_len',\n",
       "                                                   'word_count',\n",
       "                                                   'has_media'])])),\n",
       "                ('classifier', KNeighborsClassifier())])"
      ]
     },
     "execution_count": 209,
     "metadata": {},
     "output_type": "execute_result"
    }
   ],
   "source": [
    "pipeline.fit(X_train, y_train)"
   ]
  },
  {
   "cell_type": "code",
   "execution_count": 207,
   "id": "2fb992a1-bef9-42e6-b6f3-197ae9274360",
   "metadata": {},
   "outputs": [
    {
     "data": {
      "text/plain": [
       "(0.9895131086142323, 0.596294216732173)"
      ]
     },
     "execution_count": 207,
     "metadata": {},
     "output_type": "execute_result"
    }
   ],
   "source": [
    "pipeline.score(X_train, y_train), pipeline.score(X_test, y_test)"
   ]
  },
  {
   "cell_type": "markdown",
   "id": "edc24e54-1c61-4829-8eaf-40784a2cb3d1",
   "metadata": {},
   "source": [
    "- ## Support Vector Classification"
   ]
  },
  {
   "cell_type": "code",
   "execution_count": 258,
   "id": "03919d4a-33d2-4df5-982b-6c46328ae569",
   "metadata": {},
   "outputs": [],
   "source": [
    "# Used code from: \n",
    "# https://stackoverflow.com/questions/61179217/sklearn-pipeline-all-the-input-array-dimensions-for-the-concatenation-axis-must\n",
    "\n",
    "\n",
    "vectorizer_params = dict(ngram_range=(1, 2), stop_words = 'english', \n",
    "                         binary = True, min_df=3, max_df=0.8)\n",
    "\n",
    "PostTextProcessor = Pipeline(steps=[\n",
    "    (\"squeez\", FunctionTransformer(lambda x: x.squeeze())),\n",
    "    (\"vect\", CountVectorizer(**vectorizer_params)),\n",
    "    (\"tfidf\", TfidfTransformer()),\n",
    "    (\"toarray\", FunctionTransformer(lambda x: x.toarray())),\n",
    "])\n",
    "\n",
    "numeric_transformer = Pipeline(steps=[\n",
    "    ('scaler', StandardScaler())\n",
    "])\n",
    "\n",
    "preprocessor = ColumnTransformer(transformers=[\n",
    "    ('post', PostTextProcessor, ['title']),\n",
    "    ('numeric', numeric_transformer, ['year', 'month', 'body_len', \n",
    "                                      'word_count', 'has_media'])\n",
    "])\n",
    "\n",
    "pipeline = Pipeline(steps=[\n",
    "    ('preprocessor', preprocessor),\n",
    "    ('classifier', SVC(probability=True))\n",
    "])"
   ]
  },
  {
   "cell_type": "code",
   "execution_count": 259,
   "id": "1dc94ebb-17da-4ff8-b815-5e3eea914ac2",
   "metadata": {},
   "outputs": [
    {
     "data": {
      "text/plain": [
       "Pipeline(steps=[('preprocessor',\n",
       "                 ColumnTransformer(transformers=[('post',\n",
       "                                                  Pipeline(steps=[('squeez',\n",
       "                                                                   FunctionTransformer(func=<function <lambda> at 0x7fc0e5e60040>)),\n",
       "                                                                  ('vect',\n",
       "                                                                   CountVectorizer(binary=True,\n",
       "                                                                                   max_df=0.8,\n",
       "                                                                                   min_df=3,\n",
       "                                                                                   ngram_range=(1,\n",
       "                                                                                                2),\n",
       "                                                                                   stop_words='english')),\n",
       "                                                                  ('tfidf',\n",
       "                                                                   TfidfTransformer()),\n",
       "                                                                  ('toarray',\n",
       "                                                                   FunctionTransformer(func=<function <lambda> at 0x7fc0e5e60d30>))]),\n",
       "                                                  ['title']),\n",
       "                                                 ('numeric',\n",
       "                                                  Pipeline(steps=[('scaler',\n",
       "                                                                   StandardScaler())]),\n",
       "                                                  ['year', 'month', 'body_len',\n",
       "                                                   'word_count',\n",
       "                                                   'has_media'])])),\n",
       "                ('classifier', SVC(probability=True))])"
      ]
     },
     "execution_count": 259,
     "metadata": {},
     "output_type": "execute_result"
    }
   ],
   "source": [
    "pipeline.fit(X_train, y_train)"
   ]
  },
  {
   "cell_type": "code",
   "execution_count": 260,
   "id": "ab724ca3-7a13-430f-b56a-e43f77381df0",
   "metadata": {},
   "outputs": [
    {
     "data": {
      "text/plain": [
       "(0.7522471910112359, 0.6165075800112296)"
      ]
     },
     "execution_count": 260,
     "metadata": {},
     "output_type": "execute_result"
    }
   ],
   "source": [
    "pipeline.score(X_train, y_train), pipeline.score(X_test, y_test)"
   ]
  },
  {
   "cell_type": "markdown",
   "id": "cbff9711-971e-46b9-a0fb-3f757207fb1d",
   "metadata": {},
   "source": [
    "# Conclusions On Model Selection"
   ]
  },
  {
   "cell_type": "markdown",
   "id": "c756634b-aed6-43db-ac79-f545f0b3fdc3",
   "metadata": {},
   "source": [
    "Using just the title, most models performed around 59% an improvement of around 8% \n",
    "compared to the baseline of 51%. Using more features (such as title length, body\n",
    "length, and whether there was attached media) increased model accuracy to over 60%\n",
    "with the best performing model being the support vector classifier at 61.7% accuracy.\n"
   ]
  },
  {
   "cell_type": "markdown",
   "id": "c1fbf8ea-ea00-4ac7-ba98-1a4e79d4dd37",
   "metadata": {},
   "source": [
    "- ## Analysis of best model: SVC"
   ]
  },
  {
   "cell_type": "code",
   "execution_count": 261,
   "id": "248a8e1f-8b57-444e-a2dd-cc2f2f04887b",
   "metadata": {},
   "outputs": [],
   "source": [
    "predictions = pipeline.predict(X_test)\n",
    "probabilities = pipeline.predict_proba(X_test)\n",
    "cm = confusion_matrix(y_test, predictions)\n",
    "tn, fp, fn, tp = cm.ravel()"
   ]
  },
  {
   "cell_type": "code",
   "execution_count": 319,
   "id": "2f2254ac-c405-4ce7-b8c2-d6f24d86c280",
   "metadata": {},
   "outputs": [
    {
     "data": {
      "image/png": "[encoded data removed]",
      "text/plain": [
       "<Figure size 1440x720 with 4 Axes>"
      ]
     },
     "metadata": {
      "needs_background": "light"
     },
     "output_type": "display_data"
    }
   ],
   "source": [
    "# Confusion Matrix\n",
    "\n",
    "fig,ax = plt.subplots(1,2,figsize=(20,10))\n",
    "disp = ConfusionMatrixDisplay(confusion_matrix=cm, display_labels=pipeline.classes_)\n",
    "disp.plot(ax=ax[0]);\n",
    "\n",
    "\n",
    "# Used this as template: \n",
    "# https://www.stackvidhya.com/plot-confusion-matrix-in-python-and-why/#:~:text=To%20plot%20the%20confusion%20matrix%20with%20percentages%2C%20first%2C%20you%20need,the%20sum%20of%20all%20values.\n",
    "a = sns.heatmap(cm/np.sum(cm), annot=True, \n",
    "            fmt='.2%', cmap='Blues', ax = ax[1])\n",
    "\n",
    "a.set_title('Confusion Matrix with labels\\n\\n');\n",
    "a.set_xlabel('\\nPredicted Values')\n",
    "a.set_ylabel('Actual Values ');\n",
    "\n",
    "## Ticket labels - List must be in alphabetical order\n",
    "a.xaxis.set_ticklabels(['False','True'])\n",
    "a.yaxis.set_ticklabels(['False','True']);\n"
   ]
  },
  {
   "cell_type": "code",
   "execution_count": 263,
   "id": "28cea2f7-b1df-4d92-900a-e8aa4510e0f3",
   "metadata": {},
   "outputs": [
    {
     "data": {
      "text/plain": [
       "0.6165075800112296"
      ]
     },
     "execution_count": 263,
     "metadata": {},
     "output_type": "execute_result"
    }
   ],
   "source": [
    "accuracy = (tp+tn)/ (tp+fn+tn+fp)\n",
    "accuracy"
   ]
  },
  {
   "cell_type": "code",
   "execution_count": 264,
   "id": "aaba31d6-dc0a-4f4a-b00f-3efa1c771d93",
   "metadata": {},
   "outputs": [
    {
     "data": {
      "text/plain": [
       "0.38349241998877037"
      ]
     },
     "execution_count": 264,
     "metadata": {},
     "output_type": "execute_result"
    }
   ],
   "source": [
    "misclass = 1 - accuracy\n",
    "misclass"
   ]
  },
  {
   "cell_type": "code",
   "execution_count": 265,
   "id": "3ce1b759-9e3a-4c10-b65e-9982116625fd",
   "metadata": {},
   "outputs": [
    {
     "data": {
      "text/plain": [
       "0.539609644087256"
      ]
     },
     "execution_count": 265,
     "metadata": {},
     "output_type": "execute_result"
    }
   ],
   "source": [
    "recall = tp / (tp+fn)\n",
    "recall"
   ]
  },
  {
   "cell_type": "code",
   "execution_count": 266,
   "id": "d67f6c8b-e337-4f35-b3f2-aee82366c72b",
   "metadata": {},
   "outputs": [
    {
     "data": {
      "text/plain": [
       "0.6901098901098901"
      ]
     },
     "execution_count": 266,
     "metadata": {},
     "output_type": "execute_result"
    }
   ],
   "source": [
    "specificity = tn/ (tn+fp)\n",
    "specificity"
   ]
  },
  {
   "cell_type": "code",
   "execution_count": 267,
   "id": "b3ef5dee-77f1-46ba-8faf-ea557e701276",
   "metadata": {},
   "outputs": [
    {
     "data": {
      "text/plain": [
       "0.625"
      ]
     },
     "execution_count": 267,
     "metadata": {},
     "output_type": "execute_result"
    }
   ],
   "source": [
    "precision = tp/(tp+fp)\n",
    "precision"
   ]
  },
  {
   "cell_type": "code",
   "execution_count": 268,
   "id": "02018426-8981-4ba4-82cb-6d5bd62c3ea0",
   "metadata": {},
   "outputs": [
    {
     "data": {
      "text/plain": [
       "0.5791743684534811"
      ]
     },
     "execution_count": 268,
     "metadata": {},
     "output_type": "execute_result"
    }
   ],
   "source": [
    "f1 = 2*precision*recall / (precision+recall)\n",
    "f1"
   ]
  },
  {
   "cell_type": "code",
   "execution_count": 288,
   "id": "2961ede6-61df-482d-b362-9610f6a8f647",
   "metadata": {},
   "outputs": [
    {
     "data": {
      "text/html": [
       "<div>\n",
       "<style scoped>\n",
       "    .dataframe tbody tr th:only-of-type {\n",
       "        vertical-align: middle;\n",
       "    }\n",
       "\n",
       "    .dataframe tbody tr th {\n",
       "        vertical-align: top;\n",
       "    }\n",
       "\n",
       "    .dataframe thead th {\n",
       "        text-align: right;\n",
       "    }\n",
       "</style>\n",
       "<table border=\"1\" class=\"dataframe\">\n",
       "  <thead>\n",
       "    <tr style=\"text-align: right;\">\n",
       "      <th></th>\n",
       "      <th>title</th>\n",
       "      <th>id</th>\n",
       "      <th>created_utc</th>\n",
       "      <th>year</th>\n",
       "      <th>month</th>\n",
       "      <th>full_link</th>\n",
       "      <th>body_len</th>\n",
       "      <th>word_count</th>\n",
       "      <th>char_count</th>\n",
       "      <th>has_media</th>\n",
       "      <th>num_comments</th>\n",
       "      <th>commments_greater</th>\n",
       "    </tr>\n",
       "  </thead>\n",
       "  <tbody>\n",
       "    <tr>\n",
       "      <th>120</th>\n",
       "      <td>What card did you mis-evaluate the worst on first impression?</td>\n",
       "      <td>t4tcr</td>\n",
       "      <td>1336032756</td>\n",
       "      <td>2012</td>\n",
       "      <td>5</td>\n",
       "      <td>https://www.reddit.com/r/dominion/comments/t4tcr/what_card_did_you_misevaluate_the_worst_on_first/</td>\n",
       "      <td>446</td>\n",
       "      <td>10</td>\n",
       "      <td>61</td>\n",
       "      <td>0</td>\n",
       "      <td>49</td>\n",
       "      <td>1</td>\n",
       "    </tr>\n",
       "    <tr>\n",
       "      <th>42</th>\n",
       "      <td>New Dominion expansions announced (1 big, 1 small, 1 digital &amp;amp; a base treasure/victory set)</td>\n",
       "      <td>oo3sc</td>\n",
       "      <td>1327019579</td>\n",
       "      <td>2012</td>\n",
       "      <td>1</td>\n",
       "      <td>https://www.reddit.com/r/dominion/comments/oo3sc/new_dominion_expansions_announced_1_big_1_small_1/</td>\n",
       "      <td>0</td>\n",
       "      <td>15</td>\n",
       "      <td>95</td>\n",
       "      <td>0</td>\n",
       "      <td>9</td>\n",
       "      <td>0</td>\n",
       "    </tr>\n",
       "  </tbody>\n",
       "</table>\n",
       "</div>"
      ],
      "text/plain": [
       "                                                                                               title  \\\n",
       "120                                    What card did you mis-evaluate the worst on first impression?   \n",
       "42   New Dominion expansions announced (1 big, 1 small, 1 digital &amp; a base treasure/victory set)   \n",
       "\n",
       "        id  created_utc  year  month  \\\n",
       "120  t4tcr   1336032756  2012      5   \n",
       "42   oo3sc   1327019579  2012      1   \n",
       "\n",
       "                                                                                               full_link  \\\n",
       "120   https://www.reddit.com/r/dominion/comments/t4tcr/what_card_did_you_misevaluate_the_worst_on_first/   \n",
       "42   https://www.reddit.com/r/dominion/comments/oo3sc/new_dominion_expansions_announced_1_big_1_small_1/   \n",
       "\n",
       "     body_len  word_count  char_count  has_media  num_comments  \\\n",
       "120       446          10          61          0            49   \n",
       "42          0          15          95          0             9   \n",
       "\n",
       "     commments_greater  \n",
       "120                  1  \n",
       "42                   0  "
      ]
     },
     "execution_count": 288,
     "metadata": {},
     "output_type": "execute_result"
    }
   ],
   "source": [
    "df.iloc[[120,42]]"
   ]
  },
  {
   "cell_type": "code",
   "execution_count": 290,
   "id": "c98ac1a4-b135-4f41-b9c1-1ada4add5f53",
   "metadata": {},
   "outputs": [],
   "source": [
    "probability_df = pd.DataFrame({'title' : X_test['title'], 'true' : y_test, \n",
    "                               'predicted' : predictions,\n",
    "    'probability_viral' : [x[1] for x in probabilities],\n",
    "    'probability_low_interaction' : [x[0] for x in probabilities],\n",
    "    'link': [df.iloc[x]['full_link'] for x in X_test.index]})"
   ]
  },
  {
   "cell_type": "code",
   "execution_count": 324,
   "id": "5b071e9e-d9c1-41f2-ba17-b194977c28fc",
   "metadata": {},
   "outputs": [
    {
     "data": {
      "text/html": [
       "<div>\n",
       "<style scoped>\n",
       "    .dataframe tbody tr th:only-of-type {\n",
       "        vertical-align: middle;\n",
       "    }\n",
       "\n",
       "    .dataframe tbody tr th {\n",
       "        vertical-align: top;\n",
       "    }\n",
       "\n",
       "    .dataframe thead th {\n",
       "        text-align: right;\n",
       "    }\n",
       "</style>\n",
       "<table border=\"1\" class=\"dataframe\">\n",
       "  <thead>\n",
       "    <tr style=\"text-align: right;\">\n",
       "      <th></th>\n",
       "      <th>title</th>\n",
       "      <th>true</th>\n",
       "      <th>predicted</th>\n",
       "      <th>probability_viral</th>\n",
       "      <th>probability_low_interaction</th>\n",
       "      <th>link</th>\n",
       "    </tr>\n",
       "  </thead>\n",
       "  <tbody>\n",
       "    <tr>\n",
       "      <th>167</th>\n",
       "      <td>Dominion Storage solution: 5 boxes compacted to 2.</td>\n",
       "      <td>1</td>\n",
       "      <td>0</td>\n",
       "      <td>0.201075</td>\n",
       "      <td>0.798925</td>\n",
       "      <td>https://www.reddit.com/r/dominion/comments/uwjmw/dominion_storage_solution_5_boxes_compacted_to_2/</td>\n",
       "    </tr>\n",
       "    <tr>\n",
       "      <th>6192</th>\n",
       "      <td>Voyage bug?</td>\n",
       "      <td>1</td>\n",
       "      <td>0</td>\n",
       "      <td>0.219597</td>\n",
       "      <td>0.780403</td>\n",
       "      <td>https://www.reddit.com/r/dominion/comments/t8i46u/voyage_bug/</td>\n",
       "    </tr>\n",
       "    <tr>\n",
       "      <th>1269</th>\n",
       "      <td>Dominion League S13 Championship Match - Tomorrow at 18:00 UTC</td>\n",
       "      <td>0</td>\n",
       "      <td>0</td>\n",
       "      <td>0.225099</td>\n",
       "      <td>0.774901</td>\n",
       "      <td>https://www.reddit.com/r/dominion/comments/4d1qck/dominion_league_s13_championship_match_tomorrow/</td>\n",
       "    </tr>\n",
       "    <tr>\n",
       "      <th>3813</th>\n",
       "      <td>Dominion online down?</td>\n",
       "      <td>1</td>\n",
       "      <td>0</td>\n",
       "      <td>0.227320</td>\n",
       "      <td>0.772680</td>\n",
       "      <td>https://www.reddit.com/r/dominion/comments/fuye0a/dominion_online_down/</td>\n",
       "    </tr>\n",
       "    <tr>\n",
       "      <th>3928</th>\n",
       "      <td>Small Games Tournament 3</td>\n",
       "      <td>0</td>\n",
       "      <td>0</td>\n",
       "      <td>0.228046</td>\n",
       "      <td>0.771954</td>\n",
       "      <td>https://www.reddit.com/r/dominion/comments/g9fp17/small_games_tournament_3/</td>\n",
       "    </tr>\n",
       "    <tr>\n",
       "      <th>126</th>\n",
       "      <td>Dominion | Recommended Sets</td>\n",
       "      <td>0</td>\n",
       "      <td>0</td>\n",
       "      <td>0.231641</td>\n",
       "      <td>0.768359</td>\n",
       "      <td>https://www.reddit.com/r/dominion/comments/t95dt/dominion_recommended_sets/</td>\n",
       "    </tr>\n",
       "    <tr>\n",
       "      <th>3998</th>\n",
       "      <td>Small Games Tournament 4</td>\n",
       "      <td>0</td>\n",
       "      <td>0</td>\n",
       "      <td>0.232499</td>\n",
       "      <td>0.767501</td>\n",
       "      <td>https://www.reddit.com/r/dominion/comments/ghrbl6/small_games_tournament_4/</td>\n",
       "    </tr>\n",
       "    <tr>\n",
       "      <th>3744</th>\n",
       "      <td>Online rating</td>\n",
       "      <td>0</td>\n",
       "      <td>0</td>\n",
       "      <td>0.236490</td>\n",
       "      <td>0.763510</td>\n",
       "      <td>https://www.reddit.com/r/dominion/comments/fmsn26/online_rating/</td>\n",
       "    </tr>\n",
       "    <tr>\n",
       "      <th>5045</th>\n",
       "      <td>Way of the Frog Question</td>\n",
       "      <td>0</td>\n",
       "      <td>0</td>\n",
       "      <td>0.237767</td>\n",
       "      <td>0.762233</td>\n",
       "      <td>https://www.reddit.com/r/dominion/comments/m0udll/way_of_the_frog_question/</td>\n",
       "    </tr>\n",
       "    <tr>\n",
       "      <th>1461</th>\n",
       "      <td>Dominion League S15 Championship Match - Sunday at 18:00 UTC</td>\n",
       "      <td>0</td>\n",
       "      <td>0</td>\n",
       "      <td>0.242355</td>\n",
       "      <td>0.757645</td>\n",
       "      <td>https://www.reddit.com/r/dominion/comments/4qr9js/dominion_league_s15_championship_match_sunday_at/</td>\n",
       "    </tr>\n",
       "    <tr>\n",
       "      <th>80</th>\n",
       "      <td>lvl 45 on Isotropic with 3k games played AMA</td>\n",
       "      <td>1</td>\n",
       "      <td>0</td>\n",
       "      <td>0.243516</td>\n",
       "      <td>0.756484</td>\n",
       "      <td>https://www.reddit.com/r/dominion/comments/rl4ru/lvl_45_on_isotropic_with_3k_games_played_ama/</td>\n",
       "    </tr>\n",
       "    <tr>\n",
       "      <th>1819</th>\n",
       "      <td>Slowrolling in Dominion Online</td>\n",
       "      <td>1</td>\n",
       "      <td>0</td>\n",
       "      <td>0.244076</td>\n",
       "      <td>0.755924</td>\n",
       "      <td>https://www.reddit.com/r/dominion/comments/5mhbbp/slowrolling_in_dominion_online/</td>\n",
       "    </tr>\n",
       "    <tr>\n",
       "      <th>189</th>\n",
       "      <td>Do ya have have one of those games..</td>\n",
       "      <td>0</td>\n",
       "      <td>0</td>\n",
       "      <td>0.245151</td>\n",
       "      <td>0.754849</td>\n",
       "      <td>https://www.reddit.com/r/dominion/comments/vycf8/do_ya_have_have_one_of_those_games/</td>\n",
       "    </tr>\n",
       "    <tr>\n",
       "      <th>3133</th>\n",
       "      <td>Question about Curses</td>\n",
       "      <td>0</td>\n",
       "      <td>0</td>\n",
       "      <td>0.245159</td>\n",
       "      <td>0.754841</td>\n",
       "      <td>https://www.reddit.com/r/dominion/comments/b7uuop/question_about_curses/</td>\n",
       "    </tr>\n",
       "    <tr>\n",
       "      <th>866</th>\n",
       "      <td>Dominion League Season 9 Championship Match - Tomorrow 17:00 UTC</td>\n",
       "      <td>0</td>\n",
       "      <td>0</td>\n",
       "      <td>0.248542</td>\n",
       "      <td>0.751458</td>\n",
       "      <td>https://www.reddit.com/r/dominion/comments/3gadim/dominion_league_season_9_championship_match/</td>\n",
       "    </tr>\n",
       "    <tr>\n",
       "      <th>1219</th>\n",
       "      <td>Adorable Teen Babe seduced and fucked in Barn zRaeSlx</td>\n",
       "      <td>0</td>\n",
       "      <td>0</td>\n",
       "      <td>0.250607</td>\n",
       "      <td>0.749393</td>\n",
       "      <td>https://www.reddit.com/r/dominion/comments/48ch19/adorable_teen_babe_seduced_and_fucked_in_barn/</td>\n",
       "    </tr>\n",
       "    <tr>\n",
       "      <th>3794</th>\n",
       "      <td>My Dominion Storage Solution</td>\n",
       "      <td>0</td>\n",
       "      <td>0</td>\n",
       "      <td>0.252419</td>\n",
       "      <td>0.747581</td>\n",
       "      <td>https://www.reddit.com/r/dominion/comments/fsf42d/my_dominion_storage_solution/</td>\n",
       "    </tr>\n",
       "    <tr>\n",
       "      <th>2092</th>\n",
       "      <td>\"Continue with Bots\" now on dominion.games</td>\n",
       "      <td>0</td>\n",
       "      <td>0</td>\n",
       "      <td>0.252434</td>\n",
       "      <td>0.747566</td>\n",
       "      <td>https://www.reddit.com/r/dominion/comments/6io667/continue_with_bots_now_on_dominiongames/</td>\n",
       "    </tr>\n",
       "    <tr>\n",
       "      <th>4064</th>\n",
       "      <td>Must see</td>\n",
       "      <td>0</td>\n",
       "      <td>0</td>\n",
       "      <td>0.253398</td>\n",
       "      <td>0.746602</td>\n",
       "      <td>https://www.reddit.com/r/dominion/comments/guifvd/must_see/</td>\n",
       "    </tr>\n",
       "    <tr>\n",
       "      <th>6395</th>\n",
       "      <td>Question about spending $</td>\n",
       "      <td>0</td>\n",
       "      <td>0</td>\n",
       "      <td>0.255353</td>\n",
       "      <td>0.744647</td>\n",
       "      <td>https://www.reddit.com/r/dominion/comments/tv1h1t/question_about_spending/</td>\n",
       "    </tr>\n",
       "  </tbody>\n",
       "</table>\n",
       "</div>"
      ],
      "text/plain": [
       "                                                                 title  true  \\\n",
       "167                 Dominion Storage solution: 5 boxes compacted to 2.     1   \n",
       "6192                                                       Voyage bug?     1   \n",
       "1269    Dominion League S13 Championship Match - Tomorrow at 18:00 UTC     0   \n",
       "3813                                             Dominion online down?     1   \n",
       "3928                                          Small Games Tournament 3     0   \n",
       "126                                        Dominion | Recommended Sets     0   \n",
       "3998                                          Small Games Tournament 4     0   \n",
       "3744                                                     Online rating     0   \n",
       "5045                                          Way of the Frog Question     0   \n",
       "1461      Dominion League S15 Championship Match - Sunday at 18:00 UTC     0   \n",
       "80                        lvl 45 on Isotropic with 3k games played AMA     1   \n",
       "1819                                    Slowrolling in Dominion Online     1   \n",
       "189                               Do ya have have one of those games..     0   \n",
       "3133                                             Question about Curses     0   \n",
       "866   Dominion League Season 9 Championship Match - Tomorrow 17:00 UTC     0   \n",
       "1219             Adorable Teen Babe seduced and fucked in Barn zRaeSlx     0   \n",
       "3794                                      My Dominion Storage Solution     0   \n",
       "2092                        \"Continue with Bots\" now on dominion.games     0   \n",
       "4064                                                          Must see     0   \n",
       "6395                                         Question about spending $     0   \n",
       "\n",
       "      predicted  probability_viral  probability_low_interaction  \\\n",
       "167           0           0.201075                     0.798925   \n",
       "6192          0           0.219597                     0.780403   \n",
       "1269          0           0.225099                     0.774901   \n",
       "3813          0           0.227320                     0.772680   \n",
       "3928          0           0.228046                     0.771954   \n",
       "126           0           0.231641                     0.768359   \n",
       "3998          0           0.232499                     0.767501   \n",
       "3744          0           0.236490                     0.763510   \n",
       "5045          0           0.237767                     0.762233   \n",
       "1461          0           0.242355                     0.757645   \n",
       "80            0           0.243516                     0.756484   \n",
       "1819          0           0.244076                     0.755924   \n",
       "189           0           0.245151                     0.754849   \n",
       "3133          0           0.245159                     0.754841   \n",
       "866           0           0.248542                     0.751458   \n",
       "1219          0           0.250607                     0.749393   \n",
       "3794          0           0.252419                     0.747581   \n",
       "2092          0           0.252434                     0.747566   \n",
       "4064          0           0.253398                     0.746602   \n",
       "6395          0           0.255353                     0.744647   \n",
       "\n",
       "                                                                                                     link  \n",
       "167    https://www.reddit.com/r/dominion/comments/uwjmw/dominion_storage_solution_5_boxes_compacted_to_2/  \n",
       "6192                                        https://www.reddit.com/r/dominion/comments/t8i46u/voyage_bug/  \n",
       "1269   https://www.reddit.com/r/dominion/comments/4d1qck/dominion_league_s13_championship_match_tomorrow/  \n",
       "3813                              https://www.reddit.com/r/dominion/comments/fuye0a/dominion_online_down/  \n",
       "3928                          https://www.reddit.com/r/dominion/comments/g9fp17/small_games_tournament_3/  \n",
       "126                           https://www.reddit.com/r/dominion/comments/t95dt/dominion_recommended_sets/  \n",
       "3998                          https://www.reddit.com/r/dominion/comments/ghrbl6/small_games_tournament_4/  \n",
       "3744                                     https://www.reddit.com/r/dominion/comments/fmsn26/online_rating/  \n",
       "5045                          https://www.reddit.com/r/dominion/comments/m0udll/way_of_the_frog_question/  \n",
       "1461  https://www.reddit.com/r/dominion/comments/4qr9js/dominion_league_s15_championship_match_sunday_at/  \n",
       "80         https://www.reddit.com/r/dominion/comments/rl4ru/lvl_45_on_isotropic_with_3k_games_played_ama/  \n",
       "1819                    https://www.reddit.com/r/dominion/comments/5mhbbp/slowrolling_in_dominion_online/  \n",
       "189                  https://www.reddit.com/r/dominion/comments/vycf8/do_ya_have_have_one_of_those_games/  \n",
       "3133                             https://www.reddit.com/r/dominion/comments/b7uuop/question_about_curses/  \n",
       "866        https://www.reddit.com/r/dominion/comments/3gadim/dominion_league_season_9_championship_match/  \n",
       "1219     https://www.reddit.com/r/dominion/comments/48ch19/adorable_teen_babe_seduced_and_fucked_in_barn/  \n",
       "3794                      https://www.reddit.com/r/dominion/comments/fsf42d/my_dominion_storage_solution/  \n",
       "2092           https://www.reddit.com/r/dominion/comments/6io667/continue_with_bots_now_on_dominiongames/  \n",
       "4064                                          https://www.reddit.com/r/dominion/comments/guifvd/must_see/  \n",
       "6395                           https://www.reddit.com/r/dominion/comments/tv1h1t/question_about_spending/  "
      ]
     },
     "execution_count": 324,
     "metadata": {},
     "output_type": "execute_result"
    }
   ],
   "source": [
    "# top 10 believed to have low comments\n",
    "probability_df.sort_values(by='probability_viral').head(20)"
   ]
  },
  {
   "cell_type": "code",
   "execution_count": 295,
   "id": "d1914b09-64bd-41e4-8f32-b6e95ca861d0",
   "metadata": {},
   "outputs": [
    {
     "data": {
      "text/html": [
       "<div>\n",
       "<style scoped>\n",
       "    .dataframe tbody tr th:only-of-type {\n",
       "        vertical-align: middle;\n",
       "    }\n",
       "\n",
       "    .dataframe tbody tr th {\n",
       "        vertical-align: top;\n",
       "    }\n",
       "\n",
       "    .dataframe thead th {\n",
       "        text-align: right;\n",
       "    }\n",
       "</style>\n",
       "<table border=\"1\" class=\"dataframe\">\n",
       "  <thead>\n",
       "    <tr style=\"text-align: right;\">\n",
       "      <th></th>\n",
       "      <th>title</th>\n",
       "      <th>true</th>\n",
       "      <th>predicted</th>\n",
       "      <th>probability_viral</th>\n",
       "      <th>probability_low_interaction</th>\n",
       "      <th>link</th>\n",
       "    </tr>\n",
       "  </thead>\n",
       "  <tbody>\n",
       "    <tr>\n",
       "      <th>167</th>\n",
       "      <td>Dominion Storage solution: 5 boxes compacted to 2.</td>\n",
       "      <td>1</td>\n",
       "      <td>0</td>\n",
       "      <td>0.201075</td>\n",
       "      <td>0.798925</td>\n",
       "      <td>https://www.reddit.com/r/dominion/comments/uwjmw/dominion_storage_solution_5_boxes_compacted_to_2/</td>\n",
       "    </tr>\n",
       "    <tr>\n",
       "      <th>6192</th>\n",
       "      <td>Voyage bug?</td>\n",
       "      <td>1</td>\n",
       "      <td>0</td>\n",
       "      <td>0.219597</td>\n",
       "      <td>0.780403</td>\n",
       "      <td>https://www.reddit.com/r/dominion/comments/t8i46u/voyage_bug/</td>\n",
       "    </tr>\n",
       "    <tr>\n",
       "      <th>3813</th>\n",
       "      <td>Dominion online down?</td>\n",
       "      <td>1</td>\n",
       "      <td>0</td>\n",
       "      <td>0.227320</td>\n",
       "      <td>0.772680</td>\n",
       "      <td>https://www.reddit.com/r/dominion/comments/fuye0a/dominion_online_down/</td>\n",
       "    </tr>\n",
       "    <tr>\n",
       "      <th>80</th>\n",
       "      <td>lvl 45 on Isotropic with 3k games played AMA</td>\n",
       "      <td>1</td>\n",
       "      <td>0</td>\n",
       "      <td>0.243516</td>\n",
       "      <td>0.756484</td>\n",
       "      <td>https://www.reddit.com/r/dominion/comments/rl4ru/lvl_45_on_isotropic_with_3k_games_played_ama/</td>\n",
       "    </tr>\n",
       "    <tr>\n",
       "      <th>1819</th>\n",
       "      <td>Slowrolling in Dominion Online</td>\n",
       "      <td>1</td>\n",
       "      <td>0</td>\n",
       "      <td>0.244076</td>\n",
       "      <td>0.755924</td>\n",
       "      <td>https://www.reddit.com/r/dominion/comments/5mhbbp/slowrolling_in_dominion_online/</td>\n",
       "    </tr>\n",
       "    <tr>\n",
       "      <th>6745</th>\n",
       "      <td>Question about Bauble</td>\n",
       "      <td>1</td>\n",
       "      <td>0</td>\n",
       "      <td>0.258897</td>\n",
       "      <td>0.741103</td>\n",
       "      <td>https://www.reddit.com/r/dominion/comments/vaxrrc/question_about_bauble/</td>\n",
       "    </tr>\n",
       "    <tr>\n",
       "      <th>583</th>\n",
       "      <td>Deals on Dominion online</td>\n",
       "      <td>1</td>\n",
       "      <td>0</td>\n",
       "      <td>0.259069</td>\n",
       "      <td>0.740931</td>\n",
       "      <td>https://www.reddit.com/r/dominion/comments/2safjd/deals_on_dominion_online/</td>\n",
       "    </tr>\n",
       "    <tr>\n",
       "      <th>3054</th>\n",
       "      <td>Dominion online help</td>\n",
       "      <td>1</td>\n",
       "      <td>0</td>\n",
       "      <td>0.260382</td>\n",
       "      <td>0.739618</td>\n",
       "      <td>https://www.reddit.com/r/dominion/comments/aoap4z/dominion_online_help/</td>\n",
       "    </tr>\n",
       "    <tr>\n",
       "      <th>3876</th>\n",
       "      <td>Is there any way to report someone on dominion online?</td>\n",
       "      <td>1</td>\n",
       "      <td>0</td>\n",
       "      <td>0.262858</td>\n",
       "      <td>0.737142</td>\n",
       "      <td>https://www.reddit.com/r/dominion/comments/g3wl0j/is_there_any_way_to_report_someone_on_dominion/</td>\n",
       "    </tr>\n",
       "    <tr>\n",
       "      <th>349</th>\n",
       "      <td>Resignation on 8th turn. Tournament, Tactician, Border Village, Baron, ... could this have been more efficient?</td>\n",
       "      <td>1</td>\n",
       "      <td>0</td>\n",
       "      <td>0.264847</td>\n",
       "      <td>0.735153</td>\n",
       "      <td>https://www.reddit.com/r/dominion/comments/12rmd0/resignation_on_8th_turn_tournament_tactician/</td>\n",
       "    </tr>\n",
       "  </tbody>\n",
       "</table>\n",
       "</div>"
      ],
      "text/plain": [
       "                                                                                                                title  \\\n",
       "167                                                                Dominion Storage solution: 5 boxes compacted to 2.   \n",
       "6192                                                                                                      Voyage bug?   \n",
       "3813                                                                                            Dominion online down?   \n",
       "80                                                                       lvl 45 on Isotropic with 3k games played AMA   \n",
       "1819                                                                                   Slowrolling in Dominion Online   \n",
       "6745                                                                                            Question about Bauble   \n",
       "583                                                                                          Deals on Dominion online   \n",
       "3054                                                                                             Dominion online help   \n",
       "3876                                                           Is there any way to report someone on dominion online?   \n",
       "349   Resignation on 8th turn. Tournament, Tactician, Border Village, Baron, ... could this have been more efficient?   \n",
       "\n",
       "      true  predicted  probability_viral  probability_low_interaction  \\\n",
       "167      1          0           0.201075                     0.798925   \n",
       "6192     1          0           0.219597                     0.780403   \n",
       "3813     1          0           0.227320                     0.772680   \n",
       "80       1          0           0.243516                     0.756484   \n",
       "1819     1          0           0.244076                     0.755924   \n",
       "6745     1          0           0.258897                     0.741103   \n",
       "583      1          0           0.259069                     0.740931   \n",
       "3054     1          0           0.260382                     0.739618   \n",
       "3876     1          0           0.262858                     0.737142   \n",
       "349      1          0           0.264847                     0.735153   \n",
       "\n",
       "                                                                                                    link  \n",
       "167   https://www.reddit.com/r/dominion/comments/uwjmw/dominion_storage_solution_5_boxes_compacted_to_2/  \n",
       "6192                                       https://www.reddit.com/r/dominion/comments/t8i46u/voyage_bug/  \n",
       "3813                             https://www.reddit.com/r/dominion/comments/fuye0a/dominion_online_down/  \n",
       "80        https://www.reddit.com/r/dominion/comments/rl4ru/lvl_45_on_isotropic_with_3k_games_played_ama/  \n",
       "1819                   https://www.reddit.com/r/dominion/comments/5mhbbp/slowrolling_in_dominion_online/  \n",
       "6745                            https://www.reddit.com/r/dominion/comments/vaxrrc/question_about_bauble/  \n",
       "583                          https://www.reddit.com/r/dominion/comments/2safjd/deals_on_dominion_online/  \n",
       "3054                             https://www.reddit.com/r/dominion/comments/aoap4z/dominion_online_help/  \n",
       "3876   https://www.reddit.com/r/dominion/comments/g3wl0j/is_there_any_way_to_report_someone_on_dominion/  \n",
       "349      https://www.reddit.com/r/dominion/comments/12rmd0/resignation_on_8th_turn_tournament_tactician/  "
      ]
     },
     "execution_count": 295,
     "metadata": {},
     "output_type": "execute_result"
    }
   ],
   "source": [
    "# TOP 10 Mistakes- thought would NOT be viral\n",
    "probability_df[probability_df['true'] != probability_df['predicted']].sort_values(by='probability_viral').head(10)"
   ]
  },
  {
   "cell_type": "code",
   "execution_count": 322,
   "id": "add7ae15-d3f1-42db-9280-727ad159040b",
   "metadata": {},
   "outputs": [
    {
     "data": {
      "text/html": [
       "<div>\n",
       "<style scoped>\n",
       "    .dataframe tbody tr th:only-of-type {\n",
       "        vertical-align: middle;\n",
       "    }\n",
       "\n",
       "    .dataframe tbody tr th {\n",
       "        vertical-align: top;\n",
       "    }\n",
       "\n",
       "    .dataframe thead th {\n",
       "        text-align: right;\n",
       "    }\n",
       "</style>\n",
       "<table border=\"1\" class=\"dataframe\">\n",
       "  <thead>\n",
       "    <tr style=\"text-align: right;\">\n",
       "      <th></th>\n",
       "      <th>title</th>\n",
       "      <th>true</th>\n",
       "      <th>predicted</th>\n",
       "      <th>probability_viral</th>\n",
       "      <th>probability_low_interaction</th>\n",
       "      <th>link</th>\n",
       "    </tr>\n",
       "  </thead>\n",
       "  <tbody>\n",
       "    <tr>\n",
       "      <th>5425</th>\n",
       "      <td>Laminating cards</td>\n",
       "      <td>0</td>\n",
       "      <td>1</td>\n",
       "      <td>0.793602</td>\n",
       "      <td>0.206398</td>\n",
       "      <td>https://www.reddit.com/r/dominion/comments/ox70v2/laminating_cards/</td>\n",
       "    </tr>\n",
       "    <tr>\n",
       "      <th>3269</th>\n",
       "      <td>Expansion Recommendations based on liked Base Game Cards</td>\n",
       "      <td>0</td>\n",
       "      <td>1</td>\n",
       "      <td>0.794619</td>\n",
       "      <td>0.205381</td>\n",
       "      <td>https://www.reddit.com/r/dominion/comments/cd7sb2/expansion_recommendations_based_on_liked_base/</td>\n",
       "    </tr>\n",
       "    <tr>\n",
       "      <th>3587</th>\n",
       "      <td>Mini-expansion based on my alma mater (RPI)</td>\n",
       "      <td>1</td>\n",
       "      <td>1</td>\n",
       "      <td>0.795888</td>\n",
       "      <td>0.204112</td>\n",
       "      <td>https://www.reddit.com/r/dominion/comments/er87he/miniexpansion_based_on_my_alma_mater_rpi/</td>\n",
       "    </tr>\n",
       "    <tr>\n",
       "      <th>2979</th>\n",
       "      <td>Discard clarification for Renaissance Cards</td>\n",
       "      <td>1</td>\n",
       "      <td>1</td>\n",
       "      <td>0.799648</td>\n",
       "      <td>0.200352</td>\n",
       "      <td>https://www.reddit.com/r/dominion/comments/aclo10/discard_clarification_for_renaissance_cards/</td>\n",
       "    </tr>\n",
       "    <tr>\n",
       "      <th>3115</th>\n",
       "      <td>Some less-than-half-baked fan card ideas</td>\n",
       "      <td>1</td>\n",
       "      <td>1</td>\n",
       "      <td>0.805280</td>\n",
       "      <td>0.194720</td>\n",
       "      <td>https://www.reddit.com/r/dominion/comments/b52k54/some_lessthanhalfbaked_fan_card_ideas/</td>\n",
       "    </tr>\n",
       "    <tr>\n",
       "      <th>5213</th>\n",
       "      <td>Which expansion to buy next for ESL family?</td>\n",
       "      <td>1</td>\n",
       "      <td>1</td>\n",
       "      <td>0.809034</td>\n",
       "      <td>0.190966</td>\n",
       "      <td>https://www.reddit.com/r/dominion/comments/nhsiby/which_expansion_to_buy_next_for_esl_family/</td>\n",
       "    </tr>\n",
       "    <tr>\n",
       "      <th>5342</th>\n",
       "      <td>Should I go simple or more complex with my fan card?</td>\n",
       "      <td>1</td>\n",
       "      <td>1</td>\n",
       "      <td>0.812931</td>\n",
       "      <td>0.187069</td>\n",
       "      <td>https://www.reddit.com/r/dominion/comments/oer156/should_i_go_simple_or_more_complex_with_my_fan/</td>\n",
       "    </tr>\n",
       "    <tr>\n",
       "      <th>3040</th>\n",
       "      <td>Opinions on the removed first edition Intrigue cards</td>\n",
       "      <td>1</td>\n",
       "      <td>1</td>\n",
       "      <td>0.813512</td>\n",
       "      <td>0.186488</td>\n",
       "      <td>https://www.reddit.com/r/dominion/comments/akwjbs/opinions_on_the_removed_first_edition_intrigue/</td>\n",
       "    </tr>\n",
       "    <tr>\n",
       "      <th>3671</th>\n",
       "      <td>Menagerie Previews 5: More Cards</td>\n",
       "      <td>1</td>\n",
       "      <td>1</td>\n",
       "      <td>0.815293</td>\n",
       "      <td>0.184707</td>\n",
       "      <td>https://www.reddit.com/r/dominion/comments/feac0w/menagerie_previews_5_more_cards/</td>\n",
       "    </tr>\n",
       "    <tr>\n",
       "      <th>4217</th>\n",
       "      <td>Do you take the placeholder cards?</td>\n",
       "      <td>1</td>\n",
       "      <td>1</td>\n",
       "      <td>0.830814</td>\n",
       "      <td>0.169186</td>\n",
       "      <td>https://www.reddit.com/r/dominion/comments/hpd2u7/do_you_take_the_placeholder_cards/</td>\n",
       "    </tr>\n",
       "  </tbody>\n",
       "</table>\n",
       "</div>"
      ],
      "text/plain": [
       "                                                         title  true  \\\n",
       "5425                                          Laminating cards     0   \n",
       "3269  Expansion Recommendations based on liked Base Game Cards     0   \n",
       "3587               Mini-expansion based on my alma mater (RPI)     1   \n",
       "2979               Discard clarification for Renaissance Cards     1   \n",
       "3115                  Some less-than-half-baked fan card ideas     1   \n",
       "5213               Which expansion to buy next for ESL family?     1   \n",
       "5342      Should I go simple or more complex with my fan card?     1   \n",
       "3040      Opinions on the removed first edition Intrigue cards     1   \n",
       "3671                          Menagerie Previews 5: More Cards     1   \n",
       "4217                        Do you take the placeholder cards?     1   \n",
       "\n",
       "      predicted  probability_viral  probability_low_interaction  \\\n",
       "5425          1           0.793602                     0.206398   \n",
       "3269          1           0.794619                     0.205381   \n",
       "3587          1           0.795888                     0.204112   \n",
       "2979          1           0.799648                     0.200352   \n",
       "3115          1           0.805280                     0.194720   \n",
       "5213          1           0.809034                     0.190966   \n",
       "5342          1           0.812931                     0.187069   \n",
       "3040          1           0.813512                     0.186488   \n",
       "3671          1           0.815293                     0.184707   \n",
       "4217          1           0.830814                     0.169186   \n",
       "\n",
       "                                                                                                   link  \n",
       "5425                                https://www.reddit.com/r/dominion/comments/ox70v2/laminating_cards/  \n",
       "3269   https://www.reddit.com/r/dominion/comments/cd7sb2/expansion_recommendations_based_on_liked_base/  \n",
       "3587        https://www.reddit.com/r/dominion/comments/er87he/miniexpansion_based_on_my_alma_mater_rpi/  \n",
       "2979     https://www.reddit.com/r/dominion/comments/aclo10/discard_clarification_for_renaissance_cards/  \n",
       "3115           https://www.reddit.com/r/dominion/comments/b52k54/some_lessthanhalfbaked_fan_card_ideas/  \n",
       "5213      https://www.reddit.com/r/dominion/comments/nhsiby/which_expansion_to_buy_next_for_esl_family/  \n",
       "5342  https://www.reddit.com/r/dominion/comments/oer156/should_i_go_simple_or_more_complex_with_my_fan/  \n",
       "3040  https://www.reddit.com/r/dominion/comments/akwjbs/opinions_on_the_removed_first_edition_intrigue/  \n",
       "3671                 https://www.reddit.com/r/dominion/comments/feac0w/menagerie_previews_5_more_cards/  \n",
       "4217               https://www.reddit.com/r/dominion/comments/hpd2u7/do_you_take_the_placeholder_cards/  "
      ]
     },
     "execution_count": 322,
     "metadata": {},
     "output_type": "execute_result"
    }
   ],
   "source": [
    "# Top ten believed to go viral\n",
    "probability_df.sort_values(by='probability_viral').tail(10)"
   ]
  },
  {
   "cell_type": "code",
   "execution_count": 330,
   "id": "29136539-36e6-4db7-8aac-fc343ea7c9ee",
   "metadata": {},
   "outputs": [
    {
     "data": {
      "text/html": [
       "<div>\n",
       "<style scoped>\n",
       "    .dataframe tbody tr th:only-of-type {\n",
       "        vertical-align: middle;\n",
       "    }\n",
       "\n",
       "    .dataframe tbody tr th {\n",
       "        vertical-align: top;\n",
       "    }\n",
       "\n",
       "    .dataframe thead th {\n",
       "        text-align: right;\n",
       "    }\n",
       "</style>\n",
       "<table border=\"1\" class=\"dataframe\">\n",
       "  <thead>\n",
       "    <tr style=\"text-align: right;\">\n",
       "      <th></th>\n",
       "      <th>title</th>\n",
       "      <th>true</th>\n",
       "      <th>predicted</th>\n",
       "      <th>probability_viral</th>\n",
       "      <th>probability_low_interaction</th>\n",
       "      <th>link</th>\n",
       "    </tr>\n",
       "  </thead>\n",
       "  <tbody>\n",
       "    <tr>\n",
       "      <th>3965</th>\n",
       "      <td>Weekly Fan Card Concept May 3 - Quarantine</td>\n",
       "      <td>0</td>\n",
       "      <td>1</td>\n",
       "      <td>0.744016</td>\n",
       "      <td>0.255984</td>\n",
       "      <td>https://www.reddit.com/r/dominion/comments/gd1v4q/weekly_fan_card_concept_may_3_quarantine/</td>\n",
       "    </tr>\n",
       "    <tr>\n",
       "      <th>5817</th>\n",
       "      <td>If a card states that each other player gains a copy if the card and there is not enough in the pile for all players, what should you do?</td>\n",
       "      <td>0</td>\n",
       "      <td>1</td>\n",
       "      <td>0.745995</td>\n",
       "      <td>0.254005</td>\n",
       "      <td>https://www.reddit.com/r/dominion/comments/rnrv37/if_a_card_states_that_each_other_player_gains_a/</td>\n",
       "    </tr>\n",
       "    <tr>\n",
       "      <th>6548</th>\n",
       "      <td>Cards: Apparition and Ward</td>\n",
       "      <td>0</td>\n",
       "      <td>1</td>\n",
       "      <td>0.752085</td>\n",
       "      <td>0.247915</td>\n",
       "      <td>https://www.reddit.com/r/dominion/comments/umydfd/cards_apparition_and_ward/</td>\n",
       "    </tr>\n",
       "    <tr>\n",
       "      <th>6643</th>\n",
       "      <td>I would buy a set with fan cards from CarlinePatricia</td>\n",
       "      <td>0</td>\n",
       "      <td>1</td>\n",
       "      <td>0.754026</td>\n",
       "      <td>0.245974</td>\n",
       "      <td>https://www.reddit.com/r/dominion/comments/uybjmd/i_would_buy_a_set_with_fan_cards_from/</td>\n",
       "    </tr>\n",
       "    <tr>\n",
       "      <th>6904</th>\n",
       "      <td>How often do you want to see Fan Cards?</td>\n",
       "      <td>0</td>\n",
       "      <td>1</td>\n",
       "      <td>0.755573</td>\n",
       "      <td>0.244427</td>\n",
       "      <td>https://www.reddit.com/r/dominion/comments/w37c9f/how_often_do_you_want_to_see_fan_cards/</td>\n",
       "    </tr>\n",
       "    <tr>\n",
       "      <th>3640</th>\n",
       "      <td>IRL Dominion Tracker - Getting Ready for Menagerie</td>\n",
       "      <td>0</td>\n",
       "      <td>1</td>\n",
       "      <td>0.759888</td>\n",
       "      <td>0.240112</td>\n",
       "      <td>https://www.reddit.com/r/dominion/comments/f5ce4q/irl_dominion_tracker_getting_ready_for_menagerie/</td>\n",
       "    </tr>\n",
       "    <tr>\n",
       "      <th>5358</th>\n",
       "      <td>Fan Card - Forced Migration</td>\n",
       "      <td>0</td>\n",
       "      <td>1</td>\n",
       "      <td>0.760547</td>\n",
       "      <td>0.239453</td>\n",
       "      <td>https://www.reddit.com/r/dominion/comments/ohluo2/fan_card_forced_migration/</td>\n",
       "    </tr>\n",
       "    <tr>\n",
       "      <th>6436</th>\n",
       "      <td>Fan Card: Prosperous Village 2.0</td>\n",
       "      <td>0</td>\n",
       "      <td>1</td>\n",
       "      <td>0.777012</td>\n",
       "      <td>0.222988</td>\n",
       "      <td>https://www.reddit.com/r/dominion/comments/u1glo4/fan_card_prosperous_village_20/</td>\n",
       "    </tr>\n",
       "    <tr>\n",
       "      <th>5425</th>\n",
       "      <td>Laminating cards</td>\n",
       "      <td>0</td>\n",
       "      <td>1</td>\n",
       "      <td>0.793602</td>\n",
       "      <td>0.206398</td>\n",
       "      <td>https://www.reddit.com/r/dominion/comments/ox70v2/laminating_cards/</td>\n",
       "    </tr>\n",
       "    <tr>\n",
       "      <th>3269</th>\n",
       "      <td>Expansion Recommendations based on liked Base Game Cards</td>\n",
       "      <td>0</td>\n",
       "      <td>1</td>\n",
       "      <td>0.794619</td>\n",
       "      <td>0.205381</td>\n",
       "      <td>https://www.reddit.com/r/dominion/comments/cd7sb2/expansion_recommendations_based_on_liked_base/</td>\n",
       "    </tr>\n",
       "  </tbody>\n",
       "</table>\n",
       "</div>"
      ],
      "text/plain": [
       "                                                                                                                                          title  \\\n",
       "3965                                                                                                 Weekly Fan Card Concept May 3 - Quarantine   \n",
       "5817  If a card states that each other player gains a copy if the card and there is not enough in the pile for all players, what should you do?   \n",
       "6548                                                                                                                 Cards: Apparition and Ward   \n",
       "6643                                                                                      I would buy a set with fan cards from CarlinePatricia   \n",
       "6904                                                                                                    How often do you want to see Fan Cards?   \n",
       "3640                                                                                         IRL Dominion Tracker - Getting Ready for Menagerie   \n",
       "5358                                                                                                                Fan Card - Forced Migration   \n",
       "6436                                                                                                           Fan Card: Prosperous Village 2.0   \n",
       "5425                                                                                                                           Laminating cards   \n",
       "3269                                                                                   Expansion Recommendations based on liked Base Game Cards   \n",
       "\n",
       "      true  predicted  probability_viral  probability_low_interaction  \\\n",
       "3965     0          1           0.744016                     0.255984   \n",
       "5817     0          1           0.745995                     0.254005   \n",
       "6548     0          1           0.752085                     0.247915   \n",
       "6643     0          1           0.754026                     0.245974   \n",
       "6904     0          1           0.755573                     0.244427   \n",
       "3640     0          1           0.759888                     0.240112   \n",
       "5358     0          1           0.760547                     0.239453   \n",
       "6436     0          1           0.777012                     0.222988   \n",
       "5425     0          1           0.793602                     0.206398   \n",
       "3269     0          1           0.794619                     0.205381   \n",
       "\n",
       "                                                                                                     link  \n",
       "3965          https://www.reddit.com/r/dominion/comments/gd1v4q/weekly_fan_card_concept_may_3_quarantine/  \n",
       "5817   https://www.reddit.com/r/dominion/comments/rnrv37/if_a_card_states_that_each_other_player_gains_a/  \n",
       "6548                         https://www.reddit.com/r/dominion/comments/umydfd/cards_apparition_and_ward/  \n",
       "6643             https://www.reddit.com/r/dominion/comments/uybjmd/i_would_buy_a_set_with_fan_cards_from/  \n",
       "6904            https://www.reddit.com/r/dominion/comments/w37c9f/how_often_do_you_want_to_see_fan_cards/  \n",
       "3640  https://www.reddit.com/r/dominion/comments/f5ce4q/irl_dominion_tracker_getting_ready_for_menagerie/  \n",
       "5358                         https://www.reddit.com/r/dominion/comments/ohluo2/fan_card_forced_migration/  \n",
       "6436                    https://www.reddit.com/r/dominion/comments/u1glo4/fan_card_prosperous_village_20/  \n",
       "5425                                  https://www.reddit.com/r/dominion/comments/ox70v2/laminating_cards/  \n",
       "3269     https://www.reddit.com/r/dominion/comments/cd7sb2/expansion_recommendations_based_on_liked_base/  "
      ]
     },
     "execution_count": 330,
     "metadata": {},
     "output_type": "execute_result"
    }
   ],
   "source": [
    "# TOP 10 mistakes- thought would be viral\n",
    "probability_df[probability_df['true'] != probability_df['predicted']].sort_values(by='probability_viral').tail(10)"
   ]
  },
  {
   "cell_type": "markdown",
   "id": "d9503c59-4dc6-4146-9a9a-f440ad4ef633",
   "metadata": {},
   "source": [
    "# Recommendations and Conclusions"
   ]
  },
  {
   "cell_type": "markdown",
   "id": "18ecc576-2297-49a3-811f-9690eaa900b7",
   "metadata": {},
   "source": [
    "This was a hard data problem and it is unsurprising that the model does not perform better. For a human, it is very difficult to read one of these titles and predict how popular the post will be compared to other posts and there are several reasons for this. A significant amount of information is hidden by just looking at words, in particular, the quality of any attached images is completely neglected. While the model did look at whether media was present, it is impossible to decipher whether the image is engaging or not without doing analysis on it. Further, many of the posts in this subreddit were questions about how the game is played and it is impossible for simple vectorizers to predict whether humans will have significant engagment with the post or just a few responses. Sometimes, a simple answer is all that is needed. Some of the posts did receive a bit of engagement, but were still shy of the median amount! I believe the model was able to pick up some of extreme cases, such as simple questions and spam content.\n",
    "\n",
    "I do not believe more data or other models would significantly help the model, although performance may improve marginally. Modeling a much more measurable task that does not depend on human likes and engagement would be much more achievalbe. Or using a Subreddit with the posts more evenly split between garbage/spam posts and actual content would achieve much higher accuracy scores for this task. Since the Dominion subreddit contains an active and passionate userbase, it is very difficult to achieve a high accuracy on this task. Looking at which posts the model thought would go viral and not, the model increased odds for a post if it contained 'card' or 'expansion' while posts with 'question' in them and posts with unrelated text (spam generally) were often correctly identified. My hypotheses for why posts with 'question' in them received less comments is because once a user answers the questions, there is not much reason for others to post on it. "
   ]
  }
 ],
 "metadata": {
  "kernelspec": {
   "display_name": "Python 3 (ipykernel)",
   "language": "python",
   "name": "python3"
  },
  "language_info": {
   "codemirror_mode": {
    "name": "ipython",
    "version": 3
   },
   "file_extension": ".py",
   "mimetype": "text/x-python",
   "name": "python",
   "nbconvert_exporter": "python",
   "pygments_lexer": "ipython3",
   "version": "3.9.12"
  }
 },
 "nbformat": 4,
 "nbformat_minor": 5
}
