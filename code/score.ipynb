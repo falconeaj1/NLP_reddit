{
 "cells": [
  {
   "cell_type": "code",
   "execution_count": 8,
   "id": "f86463ec-0f0d-427f-b027-7088966ffe01",
   "metadata": {},
   "outputs": [],
   "source": [
    "import pandas as pd\n",
    "import matplotlib.pyplot as plt"
   ]
  },
  {
   "cell_type": "code",
   "execution_count": 1,
   "id": "aa243d3a-2df5-4605-a17e-6976cb6ac86e",
   "metadata": {},
   "outputs": [],
   "source": [
    "from pmaw import PushshiftAPI\n",
    "api = PushshiftAPI()\n",
    "\n",
    "\n",
    "def fxn(item):\n",
    "    return item['score'] > 0 & item['over_18'] == False\n"
   ]
  },
  {
   "cell_type": "code",
   "execution_count": 2,
   "id": "e3eb5c60-63ef-44b0-8513-dc020857050c",
   "metadata": {},
   "outputs": [
    {
     "name": "stderr",
     "output_type": "stream",
     "text": [
      "Not all PushShift shards are active. Query results may be incomplete.\n",
      "Not all PushShift shards are active. Query results may be incomplete.\n",
      "Not all PushShift shards are active. Query results may be incomplete.\n",
      "Not all PushShift shards are active. Query results may be incomplete.\n",
      "Not all PushShift shards are active. Query results may be incomplete.\n",
      "Not all PushShift shards are active. Query results may be incomplete.\n",
      "Not all PushShift shards are active. Query results may be incomplete.\n",
      "Not all PushShift shards are active. Query results may be incomplete.\n",
      "Not all PushShift shards are active. Query results may be incomplete.\n",
      "Not all PushShift shards are active. Query results may be incomplete.\n",
      "Not all PushShift shards are active. Query results may be incomplete.\n",
      "Not all PushShift shards are active. Query results may be incomplete.\n",
      "Not all PushShift shards are active. Query results may be incomplete.\n",
      "Not all PushShift shards are active. Query results may be incomplete.\n",
      "Not all PushShift shards are active. Query results may be incomplete.\n",
      "Not all PushShift shards are active. Query results may be incomplete.\n",
      "Not all PushShift shards are active. Query results may be incomplete.\n",
      "Not all PushShift shards are active. Query results may be incomplete.\n",
      "Not all PushShift shards are active. Query results may be incomplete.\n",
      "Not all PushShift shards are active. Query results may be incomplete.\n",
      "Not all PushShift shards are active. Query results may be incomplete.\n",
      "Not all PushShift shards are active. Query results may be incomplete.\n",
      "Not all PushShift shards are active. Query results may be incomplete.\n",
      "Not all PushShift shards are active. Query results may be incomplete.\n",
      "Not all PushShift shards are active. Query results may be incomplete.\n",
      "Not all PushShift shards are active. Query results may be incomplete.\n",
      "Not all PushShift shards are active. Query results may be incomplete.\n",
      "Not all PushShift shards are active. Query results may be incomplete.\n",
      "Not all PushShift shards are active. Query results may be incomplete.\n",
      "Not all PushShift shards are active. Query results may be incomplete.\n",
      "Not all PushShift shards are active. Query results may be incomplete.\n",
      "Not all PushShift shards are active. Query results may be incomplete.\n",
      "Not all PushShift shards are active. Query results may be incomplete.\n",
      "Not all PushShift shards are active. Query results may be incomplete.\n",
      "Not all PushShift shards are active. Query results may be incomplete.\n",
      "Not all PushShift shards are active. Query results may be incomplete.\n",
      "Not all PushShift shards are active. Query results may be incomplete.\n"
     ]
    }
   ],
   "source": [
    "posts = api.search_submissions(filter_fn=fxn, subreddit=\"mathematics\", limit=50000)"
   ]
  },
  {
   "cell_type": "code",
   "execution_count": 3,
   "id": "69dea8fe-38b4-4010-9b32-dee339303956",
   "metadata": {},
   "outputs": [],
   "source": [
    "post_list = [post for post in posts]"
   ]
  },
  {
   "cell_type": "code",
   "execution_count": 4,
   "id": "e9323471-ec8d-4ed6-8c4d-61ae01b9bec0",
   "metadata": {},
   "outputs": [
    {
     "data": {
      "text/plain": [
       "18685"
      ]
     },
     "execution_count": 4,
     "metadata": {},
     "output_type": "execute_result"
    }
   ],
   "source": [
    "len(post_list)"
   ]
  },
  {
   "cell_type": "code",
   "execution_count": 6,
   "id": "b740463f-f590-401a-a0f1-52932ae0365b",
   "metadata": {},
   "outputs": [],
   "source": [
    "df = pd.DataFrame(post_list)"
   ]
  },
  {
   "cell_type": "code",
   "execution_count": 9,
   "id": "7cd2cfba-81ec-4af2-bb29-91337486a51c",
   "metadata": {},
   "outputs": [
    {
     "data": {
      "text/plain": [
       "(array([1.8086e+04, 4.8800e+02, 7.0000e+01, 2.4000e+01, 9.0000e+00,\n",
       "        4.0000e+00, 1.0000e+00, 1.0000e+00, 1.0000e+00, 1.0000e+00]),\n",
       " array([  0. ,  23.2,  46.4,  69.6,  92.8, 116. , 139.2, 162.4, 185.6,\n",
       "        208.8, 232. ]),\n",
       " <BarContainer object of 10 artists>)"
      ]
     },
     "execution_count": 9,
     "metadata": {},
     "output_type": "execute_result"
    },
    {
     "data": {
      "image/png": "[encoded data removed]",
      "text/plain": [
       "<Figure size 432x288 with 1 Axes>"
      ]
     },
     "metadata": {
      "needs_background": "light"
     },
     "output_type": "display_data"
    }
   ],
   "source": [
    "plt.hist(df['num_comments'])"
   ]
  },
  {
   "cell_type": "code",
   "execution_count": 20,
   "id": "b4090711-cffb-419a-93c0-04f4c6c9887e",
   "metadata": {},
   "outputs": [
    {
     "data": {
      "text/plain": [
       "50        1\n",
       "78        1\n",
       "89        1\n",
       "188       1\n",
       "92        1\n",
       "       ... \n",
       "4       824\n",
       "3       990\n",
       "2      1729\n",
       "1      1784\n",
       "0      8526\n",
       "Name: num_comments, Length: 103, dtype: int64"
      ]
     },
     "execution_count": 20,
     "metadata": {},
     "output_type": "execute_result"
    }
   ],
   "source": [
    "df['num_comments'].value_counts().sort_values(ascending = True)"
   ]
  },
  {
   "cell_type": "code",
   "execution_count": 21,
   "id": "372ba74f-025d-4df8-9eb4-35f75b7f5931",
   "metadata": {},
   "outputs": [
    {
     "data": {
      "text/plain": [
       "(array([4.000e+00, 4.100e+01, 1.710e+02, 1.180e+02, 5.460e+02, 1.005e+03,\n",
       "        1.116e+03, 1.907e+03, 4.932e+03, 8.845e+03]),\n",
       " array([1.21440002e+09, 1.25915672e+09, 1.30391341e+09, 1.34867010e+09,\n",
       "        1.39342679e+09, 1.43818349e+09, 1.48294018e+09, 1.52769687e+09,\n",
       "        1.57245357e+09, 1.61721026e+09, 1.66196695e+09]),\n",
       " <BarContainer object of 10 artists>)"
      ]
     },
     "execution_count": 21,
     "metadata": {},
     "output_type": "execute_result"
    },
    {
     "data": {
      "image/png": "[encoded data removed]",
      "text/plain": [
       "<Figure size 432x288 with 1 Axes>"
      ]
     },
     "metadata": {
      "needs_background": "light"
     },
     "output_type": "display_data"
    }
   ],
   "source": [
    "plt.hist(df['created_utc'])"
   ]
  },
  {
   "cell_type": "code",
   "execution_count": 24,
   "id": "7644dfb8-c875-4ac1-9830-b79c48f8bdbc",
   "metadata": {},
   "outputs": [
    {
     "data": {
      "text/plain": [
       "(1214400022, 1661966953)"
      ]
     },
     "execution_count": 24,
     "metadata": {},
     "output_type": "execute_result"
    }
   ],
   "source": [
    "df['created_utc'].min(), df['created_utc'].max()"
   ]
  },
  {
   "cell_type": "code",
   "execution_count": 27,
   "id": "5626075a-3f01-4aed-ab8d-157042e49d56",
   "metadata": {},
   "outputs": [
    {
     "name": "stdout",
     "output_type": "stream",
     "text": [
      "APL: A different Programming Language\n",
      "\thttps://www.reddit.com/r/mathematics/comments/rjs22e/apl_a_different_programming_language/\n",
      "Stanford Math Tournament (Solution link in comment box)\n",
      "\thttps://www.reddit.com/r/mathematics/comments/rjmmdf/stanford_math_tournament_solution_link_in_comment/\n",
      "Origami Constructible Numbers\n",
      "\thttps://www.reddit.com/r/mathematics/comments/rjkbkl/origami_constructible_numbers/\n",
      "Teaching math the way I wish I was taught part (5 out of N) BW theorem!\n",
      "\thttps://www.reddit.com/r/mathematics/comments/rjj081/teaching_math_the_way_i_wish_i_was_taught_part_5/\n",
      "Formulas for inradius of right triangle - do you think either of these hold in general?\n",
      "\thttps://www.reddit.com/r/mathematics/comments/rjhdyd/formulas_for_inradius_of_right_triangle_do_you/\n",
      "Is this considered maths?\n",
      "\thttps://www.reddit.com/r/mathematics/comments/rjdrew/is_this_considered_maths/\n",
      "EM algorithm and Akaike information criterion\n",
      "\thttps://www.reddit.com/r/mathematics/comments/rjccyz/em_algorithm_and_akaike_information_criterion/\n",
      "Can someone help me to solve this equation\n",
      "\thttps://www.reddit.com/r/mathematics/comments/rjbh9j/can_someone_help_me_to_solve_this_equation/\n",
      "What Is Trapdoor function?\n",
      "\thttps://www.reddit.com/r/mathematics/comments/rjazte/what_is_trapdoor_function/\n",
      "Maths Groups and Their Role in Computing Science\n",
      "\thttps://www.reddit.com/r/mathematics/comments/rjayvk/maths_groups_and_their_role_in_computing_science/\n",
      "Matrices Role in Linear Algebra\n",
      "\thttps://www.reddit.com/r/mathematics/comments/rjay47/matrices_role_in_linear_algebra/\n",
      "What Are Vector Spaces?\n",
      "\thttps://www.reddit.com/r/mathematics/comments/rjaxa5/what_are_vector_spaces/\n",
      "Orthogonality in Mathematics and Computer Science\n",
      "\thttps://www.reddit.com/r/mathematics/comments/rjawf2/orthogonality_in_mathematics_and_computer_science/\n",
      "Eigen Decomposition\n",
      "\thttps://www.reddit.com/r/mathematics/comments/rjav7x/eigen_decomposition/\n",
      "Redditors who have a math related disability or were bad at math: How did you get better at it, what thought processes did you change, what tips do you use, and what did you need to continuously practice?\n",
      "\thttps://www.reddit.com/r/mathematics/comments/rjag4r/redditors_who_have_a_math_related_disability_or/\n",
      "What's the area of this pattern? (Solution link in comment box)\n",
      "\thttps://www.reddit.com/r/mathematics/comments/rj7yt8/whats_the_area_of_this_pattern_solution_link_in/\n",
      "NEED HELP IN THIS ONE PLS\n",
      "\thttps://www.reddit.com/r/mathematics/comments/rizwqd/need_help_in_this_one_pls/\n",
      "Linear algebra-If a set of vectors is linearly dependent, can it be a basis? Because I know if a set is independent then it can be a basis but idk about dependent\n",
      "\thttps://www.reddit.com/r/mathematics/comments/riyi1q/linear_algebraif_a_set_of_vectors_is_linearly/\n",
      "Looking for math carrer ( path ) that i can take\n",
      "\thttps://www.reddit.com/r/mathematics/comments/riwdbi/looking_for_math_carrer_path_that_i_can_take/\n",
      "Why aren't differently constructed number types notated differently so they can be treated fairly in reference to how they interact?\n",
      "\thttps://www.reddit.com/r/mathematics/comments/rithon/why_arent_differently_constructed_number_types/\n",
      "Looking for good book(s) to learn Math\n",
      "\thttps://www.reddit.com/r/mathematics/comments/ritbkz/looking_for_good_books_to_learn_math/\n",
      "MAKING A BILLION FROM MATHS IS SIMPLE IF YOU KNOW HOW | JAMES SIMONS | THE WORLD'S RICHEST MATHEMATICIAN #MATHS #SLOAN #MIT\n",
      "\thttps://www.reddit.com/r/mathematics/comments/rirxc9/making_a_billion_from_maths_is_simple_if_you_know/\n",
      "One exponential generalization (different weight in its infinite sum)\n",
      "\thttps://www.reddit.com/r/mathematics/comments/riq2qh/one_exponential_generalization_different_weight/\n",
      "Self teach Set Theory?\n",
      "\thttps://www.reddit.com/r/mathematics/comments/rimsg0/self_teach_set_theory/\n",
      "Is this unsolvable or am I stupid?\n",
      "\thttps://www.reddit.com/r/mathematics/comments/rimm8b/is_this_unsolvable_or_am_i_stupid/\n",
      "Anyone who is interested to be my study math buddy?\n",
      "\thttps://www.reddit.com/r/mathematics/comments/rik6v1/anyone_who_is_interested_to_be_my_study_math_buddy/\n",
      "Looking for a term describing simplicity guised as complexity\n",
      "\thttps://www.reddit.com/r/mathematics/comments/rijwjh/looking_for_a_term_describing_simplicity_guised/\n",
      "Could someone pls help me with these two questions\n",
      "\thttps://www.reddit.com/r/mathematics/comments/rij3uc/could_someone_pls_help_me_with_these_two_questions/\n",
      "Experimenting with dual tessarines\n",
      "\thttps://www.reddit.com/r/mathematics/comments/rihq98/experimenting_with_dual_tessarines/\n",
      "Please help, a math noob: I found a paradox.\n",
      "\thttps://www.reddit.com/r/mathematics/comments/rigmql/please_help_a_math_noob_i_found_a_paradox/\n",
      "HELP!\n",
      "\thttps://www.reddit.com/r/mathematics/comments/rig0z3/help/\n",
      "Experimenting with dual numbers in Mathematica\n",
      "\thttps://www.reddit.com/r/mathematics/comments/rif62t/experimenting_with_dual_numbers_in_mathematica/\n",
      "Eigen Decomposition\n",
      "\thttps://www.reddit.com/r/mathematics/comments/rif1b5/eigen_decomposition/\n",
      "seeking help with population logics and chaos theory.\n",
      "\thttps://www.reddit.com/r/mathematics/comments/ri9mph/seeking_help_with_population_logics_and_chaos/\n",
      "f^1(x)=(12 x-9)e^3^x\n",
      "\thttps://www.reddit.com/r/mathematics/comments/ri69th/f1x12_x9e3x/\n",
      "Physics team project\n",
      "\thttps://www.reddit.com/r/mathematics/comments/ri5i2d/physics_team_project/\n",
      "I need help modeling cell growth.\n",
      "\thttps://www.reddit.com/r/mathematics/comments/ri3u1h/i_need_help_modeling_cell_growth/\n",
      "please if you can help me with this I'd appreciate it\n",
      "\thttps://www.reddit.com/r/mathematics/comments/ri218c/please_if_you_can_help_me_with_this_id_appreciate/\n",
      "Definite Integral of sin(t^4)\n",
      "\thttps://www.reddit.com/r/mathematics/comments/ri0x1r/definite_integral_of_sint4/\n",
      "Need advice on the branches of mathematics / jobs using maths.\n",
      "\thttps://www.reddit.com/r/mathematics/comments/rhzy2e/need_advice_on_the_branches_of_mathematics_jobs/\n",
      "comparing availability across different timezones\n",
      "\thttps://www.reddit.com/r/mathematics/comments/rhzegp/comparing_availability_across_different_timezones/\n",
      "Trouble writing rules for a marketing dashboard app.\n",
      "\thttps://www.reddit.com/r/mathematics/comments/rhza1u/trouble_writing_rules_for_a_marketing_dashboard/\n",
      "can anyone help me with this\n",
      "\thttps://www.reddit.com/r/mathematics/comments/rhwjn6/can_anyone_help_me_with_this/\n",
      "Multiplying two infinite divergent integrals in Mathematica\n",
      "\thttps://www.reddit.com/r/mathematics/comments/rhvkov/multiplying_two_infinite_divergent_integrals_in/\n",
      "I tried for about an hour can't seem to find proper equation that fits this word problem (grade 9 linear relations)\n",
      "\thttps://www.reddit.com/r/mathematics/comments/rhtvb9/i_tried_for_about_an_hour_cant_seem_to_find/\n",
      "4 Linear Algebra questions true or false and why?\n",
      "\thttps://www.reddit.com/r/mathematics/comments/rhqgiz/4_linear_algebra_questions_true_or_false_and_why/\n",
      "Anyone know how to figure this out\n",
      "\thttps://www.reddit.com/r/mathematics/comments/rhq0rc/anyone_know_how_to_figure_this_out/\n",
      "Do you know where Cube Sort is used?\n",
      "\thttps://www.reddit.com/r/mathematics/comments/rhoo2l/do_you_know_where_cube_sort_is_used/\n",
      "[Thermodynamics] Did I do this integration by parts right?\n",
      "\thttps://www.reddit.com/r/mathematics/comments/rhnn0r/thermodynamics_did_i_do_this_integration_by_parts/\n",
      "Best way to learn French for reading maths &amp; informatics books/papers\n",
      "\thttps://www.reddit.com/r/mathematics/comments/rhmaxy/best_way_to_learn_french_for_reading_maths/\n"
     ]
    }
   ],
   "source": [
    "for i in range(50):\n",
    "    print(df['title'].iloc[i])\n",
    "    print(f'\\t{df[\"full_link\"].iloc[i]}')"
   ]
  },
  {
   "cell_type": "code",
   "execution_count": 37,
   "id": "3530176a-edb8-424c-a08d-f2029a2ade78",
   "metadata": {},
   "outputs": [
    {
     "name": "stdout",
     "output_type": "stream",
     "text": [
      "Col = all_awardings\n"
     ]
    },
    {
     "ename": "TypeError",
     "evalue": "unhashable type: 'list'",
     "output_type": "error",
     "traceback": [
      "\u001b[0;31m---------------------------------------------------------------------------\u001b[0m",
      "\u001b[0;31mTypeError\u001b[0m                                 Traceback (most recent call last)",
      "Input \u001b[0;32mIn [37]\u001b[0m, in \u001b[0;36m<cell line: 1>\u001b[0;34m()\u001b[0m\n\u001b[1;32m      1\u001b[0m \u001b[38;5;28;01mfor\u001b[39;00m col \u001b[38;5;129;01min\u001b[39;00m \u001b[38;5;28mlist\u001b[39m(df\u001b[38;5;241m.\u001b[39mcolumns):\n\u001b[1;32m      2\u001b[0m     \u001b[38;5;28mprint\u001b[39m(\u001b[38;5;124mf\u001b[39m\u001b[38;5;124m'\u001b[39m\u001b[38;5;124mCol = \u001b[39m\u001b[38;5;132;01m{\u001b[39;00mcol\u001b[38;5;132;01m}\u001b[39;00m\u001b[38;5;124m'\u001b[39m)\n\u001b[0;32m----> 3\u001b[0m     \u001b[38;5;28;01mif\u001b[39;00m \u001b[43mdf\u001b[49m\u001b[43m[\u001b[49m\u001b[43mcol\u001b[49m\u001b[43m]\u001b[49m\u001b[38;5;241;43m.\u001b[39;49m\u001b[43mnunique\u001b[49m\u001b[43m(\u001b[49m\u001b[43m)\u001b[49m \u001b[38;5;241m<\u001b[39m \u001b[38;5;241m20\u001b[39m:\n\u001b[1;32m      4\u001b[0m         \u001b[38;5;28mprint\u001b[39m(\u001b[38;5;124mf\u001b[39m\u001b[38;5;124m'\u001b[39m\u001b[38;5;130;01m\\t\u001b[39;00m\u001b[38;5;124mValue_counts = \u001b[39m\u001b[38;5;132;01m{\u001b[39;00mdf[col]\u001b[38;5;241m.\u001b[39mvalue_counts()\u001b[38;5;132;01m}\u001b[39;00m\u001b[38;5;124m'\u001b[39m)\n\u001b[1;32m      5\u001b[0m     \u001b[38;5;28;01melse\u001b[39;00m:\n",
      "File \u001b[0;32m~/opt/anaconda3/lib/python3.9/site-packages/pandas/core/base.py:1027\u001b[0m, in \u001b[0;36mIndexOpsMixin.nunique\u001b[0;34m(self, dropna)\u001b[0m\n\u001b[1;32m    993\u001b[0m \u001b[38;5;28;01mdef\u001b[39;00m \u001b[38;5;21mnunique\u001b[39m(\u001b[38;5;28mself\u001b[39m, dropna: \u001b[38;5;28mbool\u001b[39m \u001b[38;5;241m=\u001b[39m \u001b[38;5;28;01mTrue\u001b[39;00m) \u001b[38;5;241m-\u001b[39m\u001b[38;5;241m>\u001b[39m \u001b[38;5;28mint\u001b[39m:\n\u001b[1;32m    994\u001b[0m     \u001b[38;5;124;03m\"\"\"\u001b[39;00m\n\u001b[1;32m    995\u001b[0m \u001b[38;5;124;03m    Return number of unique elements in the object.\u001b[39;00m\n\u001b[1;32m    996\u001b[0m \n\u001b[0;32m   (...)\u001b[0m\n\u001b[1;32m   1025\u001b[0m \u001b[38;5;124;03m    4\u001b[39;00m\n\u001b[1;32m   1026\u001b[0m \u001b[38;5;124;03m    \"\"\"\u001b[39;00m\n\u001b[0;32m-> 1027\u001b[0m     uniqs \u001b[38;5;241m=\u001b[39m \u001b[38;5;28;43mself\u001b[39;49m\u001b[38;5;241;43m.\u001b[39;49m\u001b[43munique\u001b[49m\u001b[43m(\u001b[49m\u001b[43m)\u001b[49m\n\u001b[1;32m   1028\u001b[0m     \u001b[38;5;28;01mif\u001b[39;00m dropna:\n\u001b[1;32m   1029\u001b[0m         uniqs \u001b[38;5;241m=\u001b[39m remove_na_arraylike(uniqs)\n",
      "File \u001b[0;32m~/opt/anaconda3/lib/python3.9/site-packages/pandas/core/series.py:2088\u001b[0m, in \u001b[0;36mSeries.unique\u001b[0;34m(self)\u001b[0m\n\u001b[1;32m   2030\u001b[0m \u001b[38;5;28;01mdef\u001b[39;00m \u001b[38;5;21munique\u001b[39m(\u001b[38;5;28mself\u001b[39m) \u001b[38;5;241m-\u001b[39m\u001b[38;5;241m>\u001b[39m ArrayLike:\n\u001b[1;32m   2031\u001b[0m     \u001b[38;5;124;03m\"\"\"\u001b[39;00m\n\u001b[1;32m   2032\u001b[0m \u001b[38;5;124;03m    Return unique values of Series object.\u001b[39;00m\n\u001b[1;32m   2033\u001b[0m \n\u001b[0;32m   (...)\u001b[0m\n\u001b[1;32m   2086\u001b[0m \u001b[38;5;124;03m    Categories (3, object): ['a' < 'b' < 'c']\u001b[39;00m\n\u001b[1;32m   2087\u001b[0m \u001b[38;5;124;03m    \"\"\"\u001b[39;00m\n\u001b[0;32m-> 2088\u001b[0m     \u001b[38;5;28;01mreturn\u001b[39;00m \u001b[38;5;28;43msuper\u001b[39;49m\u001b[43m(\u001b[49m\u001b[43m)\u001b[49m\u001b[38;5;241;43m.\u001b[39;49m\u001b[43munique\u001b[49m\u001b[43m(\u001b[49m\u001b[43m)\u001b[49m\n",
      "File \u001b[0;32m~/opt/anaconda3/lib/python3.9/site-packages/pandas/core/base.py:989\u001b[0m, in \u001b[0;36mIndexOpsMixin.unique\u001b[0;34m(self)\u001b[0m\n\u001b[1;32m    987\u001b[0m             result \u001b[38;5;241m=\u001b[39m np\u001b[38;5;241m.\u001b[39masarray(result)\n\u001b[1;32m    988\u001b[0m \u001b[38;5;28;01melse\u001b[39;00m:\n\u001b[0;32m--> 989\u001b[0m     result \u001b[38;5;241m=\u001b[39m \u001b[43munique1d\u001b[49m\u001b[43m(\u001b[49m\u001b[43mvalues\u001b[49m\u001b[43m)\u001b[49m\n\u001b[1;32m    991\u001b[0m \u001b[38;5;28;01mreturn\u001b[39;00m result\n",
      "File \u001b[0;32m~/opt/anaconda3/lib/python3.9/site-packages/pandas/core/algorithms.py:440\u001b[0m, in \u001b[0;36munique\u001b[0;34m(values)\u001b[0m\n\u001b[1;32m    437\u001b[0m htable, values \u001b[38;5;241m=\u001b[39m _get_hashtable_algo(values)\n\u001b[1;32m    439\u001b[0m table \u001b[38;5;241m=\u001b[39m htable(\u001b[38;5;28mlen\u001b[39m(values))\n\u001b[0;32m--> 440\u001b[0m uniques \u001b[38;5;241m=\u001b[39m \u001b[43mtable\u001b[49m\u001b[38;5;241;43m.\u001b[39;49m\u001b[43munique\u001b[49m\u001b[43m(\u001b[49m\u001b[43mvalues\u001b[49m\u001b[43m)\u001b[49m\n\u001b[1;32m    441\u001b[0m uniques \u001b[38;5;241m=\u001b[39m _reconstruct_data(uniques, original\u001b[38;5;241m.\u001b[39mdtype, original)\n\u001b[1;32m    442\u001b[0m \u001b[38;5;28;01mreturn\u001b[39;00m uniques\n",
      "File \u001b[0;32mpandas/_libs/hashtable_class_helper.pxi:5361\u001b[0m, in \u001b[0;36mpandas._libs.hashtable.PyObjectHashTable.unique\u001b[0;34m()\u001b[0m\n",
      "File \u001b[0;32mpandas/_libs/hashtable_class_helper.pxi:5310\u001b[0m, in \u001b[0;36mpandas._libs.hashtable.PyObjectHashTable._unique\u001b[0;34m()\u001b[0m\n",
      "\u001b[0;31mTypeError\u001b[0m: unhashable type: 'list'"
     ]
    }
   ],
   "source": [
    "for col in list(df.columns):\n",
    "    print(f'Col = {col}')\n",
    "    if df[col].nunique() < 20:\n",
    "        print(f'\\tValue_counts = {df[col].value_counts()}')\n",
    "    else:\n",
    "        print(f'\\ttoo many values={df[col].nunique()}')"
   ]
  },
  {
   "cell_type": "code",
   "execution_count": 41,
   "id": "0ff4cfc8-cfce-43e8-8dc6-6772e787719e",
   "metadata": {},
   "outputs": [
    {
     "data": {
      "text/plain": [
       "[]                                                                                                                                                                                                                                                                                                                                                                                                                                                                                                                                                                                                                                                                                                                                                                                                                                                                                                                                                                                                                                                                                                                                                                                                                                                                                                                                                                                                                                                                                                                                                                                                                                                                                                                                                                                                                                                                                                                                                                                                                                                                                                                                                                                                                                                                                                                                                                                                                                                                                                                                                                                                                                                                                                                                                                                                                                                                                                                                                                                                          14443\n",
       "[{'award_sub_type': 'GLOBAL', 'award_type': 'global', 'awardings_required_to_grant_benefits': None, 'coin_price': 125, 'coin_reward': 0, 'count': 1, 'days_of_drip_extension': 0, 'days_of_premium': 0, 'description': 'When you come across a feel-good thing.', 'end_date': None, 'giver_coin_reward': None, 'icon_format': None, 'icon_height': 2048, 'icon_url': 'https://i.redd.it/award_images/t5_22cerq/5izbv4fn0md41_Wholesome.png', 'icon_width': 2048, 'id': 'award_5f123e3d-4f48-42f4-9c11-e98b566d5897', 'is_enabled': True, 'is_new': False, 'name': 'Wholesome', 'penny_donate': None, 'penny_price': None, 'resized_icons': [{'height': 16, 'url': 'https://preview.redd.it/award_images/t5_22cerq/5izbv4fn0md41_Wholesome.png?width=16&amp;height=16&amp;auto=webp&amp;s=92932f465d58e4c16b12b6eac4ca07d27e3d11c0', 'width': 16}, {'height': 32, 'url': 'https://preview.redd.it/award_images/t5_22cerq/5izbv4fn0md41_Wholesome.png?width=32&amp;height=32&amp;auto=webp&amp;s=d11484a208d68a318bf9d4fcf371171a1cb6a7ef', 'width': 32}, {'height': 48, 'url': 'https://preview.redd.it/award_images/t5_22cerq/5izbv4fn0md41_Wholesome.png?width=48&amp;height=48&amp;auto=webp&amp;s=febdf28b6f39f7da7eb1365325b85e0bb49a9f63', 'width': 48}, {'height': 64, 'url': 'https://preview.redd.it/award_images/t5_22cerq/5izbv4fn0md41_Wholesome.png?width=64&amp;height=64&amp;auto=webp&amp;s=b4406a2d88bf86fa3dc8a45aacf7e0c7bdccc4fb', 'width': 64}, {'height': 128, 'url': 'https://preview.redd.it/award_images/t5_22cerq/5izbv4fn0md41_Wholesome.png?width=128&amp;height=128&amp;auto=webp&amp;s=19555b13e3e196b62eeb9160d1ac1d1b372dcb0b', 'width': 128}], 'resized_static_icons': [{'height': 16, 'url': 'https://preview.redd.it/award_images/t5_22cerq/5izbv4fn0md41_Wholesome.png?width=16&amp;height=16&amp;auto=webp&amp;s=92932f465d58e4c16b12b6eac4ca07d27e3d11c0', 'width': 16}, {'height': 32, 'url': 'https://preview.redd.it/award_images/t5_22cerq/5izbv4fn0md41_Wholesome.png?width=32&amp;height=32&amp;auto=webp&amp;s=d11484a208d68a318bf9d4fcf371171a1cb6a7ef', 'width': 32}, {'height': 48, 'url': 'https://preview.redd.it/award_images/t5_22cerq/5izbv4fn0md41_Wholesome.png?width=48&amp;height=48&amp;auto=webp&amp;s=febdf28b6f39f7da7eb1365325b85e0bb49a9f63', 'width': 48}, {'height': 64, 'url': 'https://preview.redd.it/award_images/t5_22cerq/5izbv4fn0md41_Wholesome.png?width=64&amp;height=64&amp;auto=webp&amp;s=b4406a2d88bf86fa3dc8a45aacf7e0c7bdccc4fb', 'width': 64}, {'height': 128, 'url': 'https://preview.redd.it/award_images/t5_22cerq/5izbv4fn0md41_Wholesome.png?width=128&amp;height=128&amp;auto=webp&amp;s=19555b13e3e196b62eeb9160d1ac1d1b372dcb0b', 'width': 128}], 'start_date': None, 'static_icon_height': 2048, 'static_icon_url': 'https://i.redd.it/award_images/t5_22cerq/5izbv4fn0md41_Wholesome.png', 'static_icon_width': 2048, 'subreddit_coin_reward': 0, 'subreddit_id': None, 'tiers_by_required_awardings': None}]        2\n",
       "Name: all_awardings, dtype: int64"
      ]
     },
     "execution_count": 41,
     "metadata": {},
     "output_type": "execute_result"
    }
   ],
   "source": [
    "df['all_awardings'].value_counts()"
   ]
  },
  {
   "cell_type": "code",
   "execution_count": null,
   "id": "2f44e7e7-4bab-45b1-a60a-4c26fbfc633f",
   "metadata": {},
   "outputs": [],
   "source": []
  },
  {
   "cell_type": "code",
   "execution_count": null,
   "id": "d4091046-8b5e-4935-8c30-ce1820da45d0",
   "metadata": {},
   "outputs": [],
   "source": []
  },
  {
   "cell_type": "code",
   "execution_count": null,
   "id": "60e20dd1-9632-43a3-b300-cbd09d9ec040",
   "metadata": {},
   "outputs": [],
   "source": []
  },
  {
   "cell_type": "code",
   "execution_count": null,
   "id": "ffe55459-6146-459a-b33e-903d2d468121",
   "metadata": {},
   "outputs": [],
   "source": []
  },
  {
   "cell_type": "code",
   "execution_count": null,
   "id": "f9ccba95-2f2c-4f41-9795-dcda5257bddc",
   "metadata": {},
   "outputs": [],
   "source": []
  },
  {
   "cell_type": "code",
   "execution_count": 29,
   "id": "36074bbc-d888-4f04-a56b-dac5708501a3",
   "metadata": {},
   "outputs": [],
   "source": [
    "df.to_csv('reddit_math_posts.csv')"
   ]
  },
  {
   "cell_type": "code",
   "execution_count": 36,
   "id": "1c17e89e-6b41-47a1-8951-1330896bc1f4",
   "metadata": {},
   "outputs": [
    {
     "data": {
      "text/plain": [
       "0"
      ]
     },
     "execution_count": 36,
     "metadata": {},
     "output_type": "execute_result"
    }
   ],
   "source": [
    "df['approved_at_utc'].nunique()"
   ]
  },
  {
   "cell_type": "code",
   "execution_count": null,
   "id": "265ebb73-6e6d-47b1-8d44-987529c6883e",
   "metadata": {},
   "outputs": [],
   "source": []
  }
 ],
 "metadata": {
  "kernelspec": {
   "display_name": "Python 3 (ipykernel)",
   "language": "python",
   "name": "python3"
  },
  "language_info": {
   "codemirror_mode": {
    "name": "ipython",
    "version": 3
   },
   "file_extension": ".py",
   "mimetype": "text/x-python",
   "name": "python",
   "nbconvert_exporter": "python",
   "pygments_lexer": "ipython3",
   "version": "3.9.12"
  }
 },
 "nbformat": 4,
 "nbformat_minor": 5
}
