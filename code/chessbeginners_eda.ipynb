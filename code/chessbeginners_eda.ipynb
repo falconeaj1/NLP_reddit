{
 "cells": [
  {
   "cell_type": "code",
   "execution_count": 79,
   "id": "6f9e36ae-5474-4cce-9e0f-fa4d32b3e3a1",
   "metadata": {},
   "outputs": [],
   "source": [
    "import pytz\n",
    "import pandas as pd\n",
    "import numpy as np\n",
    "import datetime as dt\n",
    "\n",
    "\n",
    "import matplotlib.pyplot as plt\n",
    "import seaborn as sns\n",
    "import numpy as np\n",
    "from sklearn.feature_extraction.text import CountVectorizer\n",
    "\n",
    "# this setting widens how many characters pandas will display in a column:\n",
    "pd.options.display.max_colwidth = 300\n",
    "# help with layout\n",
    "plt.rcParams.update({'figure.autolayout': True})\n"
   ]
  },
  {
   "cell_type": "code",
   "execution_count": 2,
   "id": "1f5ce457-766c-46ca-a917-94dfadc99783",
   "metadata": {},
   "outputs": [],
   "source": [
    "df = pd.read_csv('../data/reddit_chessbeginners.csv')"
   ]
  },
  {
   "cell_type": "code",
   "execution_count": 3,
   "id": "22f53443-9fb8-4006-8b31-f064dadd993e",
   "metadata": {},
   "outputs": [],
   "source": [
    "df.drop(columns = ['Unnamed: 0'], inplace = True)"
   ]
  },
  {
   "cell_type": "code",
   "execution_count": 4,
   "id": "4142b17a-e8b0-41b4-8ad7-4327cf7b8d6f",
   "metadata": {},
   "outputs": [
    {
     "data": {
      "text/plain": [
       "(29732, 4)"
      ]
     },
     "execution_count": 4,
     "metadata": {},
     "output_type": "execute_result"
    }
   ],
   "source": [
    "df.shape"
   ]
  },
  {
   "cell_type": "code",
   "execution_count": 12,
   "id": "8acb9c55-33d7-4b70-ab9c-b075fd3fe2cd",
   "metadata": {},
   "outputs": [],
   "source": [
    "df.sort_values(by = ['created_utc'], inplace = True)"
   ]
  },
  {
   "cell_type": "code",
   "execution_count": 13,
   "id": "b9995d58-0bf5-4490-9fdb-e118118868f5",
   "metadata": {},
   "outputs": [
    {
     "data": {
      "text/html": [
       "<div>\n",
       "<style scoped>\n",
       "    .dataframe tbody tr th:only-of-type {\n",
       "        vertical-align: middle;\n",
       "    }\n",
       "\n",
       "    .dataframe tbody tr th {\n",
       "        vertical-align: top;\n",
       "    }\n",
       "\n",
       "    .dataframe thead th {\n",
       "        text-align: right;\n",
       "    }\n",
       "</style>\n",
       "<table border=\"1\" class=\"dataframe\">\n",
       "  <thead>\n",
       "    <tr style=\"text-align: right;\">\n",
       "      <th></th>\n",
       "      <th>title</th>\n",
       "      <th>created_utc</th>\n",
       "      <th>full_link</th>\n",
       "      <th>num_comments</th>\n",
       "      <th>GMT_time</th>\n",
       "    </tr>\n",
       "  </thead>\n",
       "  <tbody>\n",
       "    <tr>\n",
       "      <th>29609</th>\n",
       "      <td>Welcome to /r/ChessBeginners, the new subreddi...</td>\n",
       "      <td>1418346128</td>\n",
       "      <td>https://www.reddit.com/r/chessbeginners/commen...</td>\n",
       "      <td>5</td>\n",
       "      <td>2014-12-12 01:02:08+00:00</td>\n",
       "    </tr>\n",
       "    <tr>\n",
       "      <th>29622</th>\n",
       "      <td>I know very minimal basics, but would love to ...</td>\n",
       "      <td>1420916613</td>\n",
       "      <td>https://www.reddit.com/r/chessbeginners/commen...</td>\n",
       "      <td>1</td>\n",
       "      <td>2015-01-10 19:03:33+00:00</td>\n",
       "    </tr>\n",
       "    <tr>\n",
       "      <th>29621</th>\n",
       "      <td>Notice! This subreddit has no moderation and r...</td>\n",
       "      <td>1421739152</td>\n",
       "      <td>https://www.reddit.com/r/chessbeginners/commen...</td>\n",
       "      <td>3</td>\n",
       "      <td>2015-01-20 07:32:32+00:00</td>\n",
       "    </tr>\n",
       "    <tr>\n",
       "      <th>29620</th>\n",
       "      <td>Do you already know how to play but can't seem...</td>\n",
       "      <td>1421798878</td>\n",
       "      <td>https://www.reddit.com/r/chessbeginners/commen...</td>\n",
       "      <td>0</td>\n",
       "      <td>2015-01-21 00:07:58+00:00</td>\n",
       "    </tr>\n",
       "    <tr>\n",
       "      <th>29619</th>\n",
       "      <td>Are you a complete beginner or the aspiring no...</td>\n",
       "      <td>1421875896</td>\n",
       "      <td>https://www.reddit.com/r/chessbeginners/commen...</td>\n",
       "      <td>3</td>\n",
       "      <td>2015-01-21 21:31:36+00:00</td>\n",
       "    </tr>\n",
       "  </tbody>\n",
       "</table>\n",
       "</div>"
      ],
      "text/plain": [
       "                                                   title  created_utc  \\\n",
       "29609  Welcome to /r/ChessBeginners, the new subreddi...   1418346128   \n",
       "29622  I know very minimal basics, but would love to ...   1420916613   \n",
       "29621  Notice! This subreddit has no moderation and r...   1421739152   \n",
       "29620  Do you already know how to play but can't seem...   1421798878   \n",
       "29619  Are you a complete beginner or the aspiring no...   1421875896   \n",
       "\n",
       "                                               full_link  num_comments  \\\n",
       "29609  https://www.reddit.com/r/chessbeginners/commen...             5   \n",
       "29622  https://www.reddit.com/r/chessbeginners/commen...             1   \n",
       "29621  https://www.reddit.com/r/chessbeginners/commen...             3   \n",
       "29620  https://www.reddit.com/r/chessbeginners/commen...             0   \n",
       "29619  https://www.reddit.com/r/chessbeginners/commen...             3   \n",
       "\n",
       "                       GMT_time  \n",
       "29609 2014-12-12 01:02:08+00:00  \n",
       "29622 2015-01-10 19:03:33+00:00  \n",
       "29621 2015-01-20 07:32:32+00:00  \n",
       "29620 2015-01-21 00:07:58+00:00  \n",
       "29619 2015-01-21 21:31:36+00:00  "
      ]
     },
     "execution_count": 13,
     "metadata": {},
     "output_type": "execute_result"
    }
   ],
   "source": [
    "df.head()"
   ]
  },
  {
   "cell_type": "code",
   "execution_count": 26,
   "id": "7eb03798-c650-4b49-a535-707efbc09904",
   "metadata": {},
   "outputs": [],
   "source": [
    "# Modified code from: https://stackoverflow.com/questions/52451105/python-converting-utc-millisecond-timestamp-to-local-time\n",
    "def tz_from_utc_s_ts(utc_s_ts, tz_info):\n",
    "    \"\"\"Given second utc timestamp and a timezone return dateime\n",
    "\n",
    "    :param utc_s_ts: Unix UTC timestamp in seconds\n",
    "    :param tz_info: timezone info\n",
    "    :return: timezone aware datetime\n",
    "    \"\"\"\n",
    "    # convert from time stamp to datetime\n",
    "    utc_datetime = dt.datetime.utcfromtimestamp(utc_s_ts)\n",
    "\n",
    "    # set the timezone to UTC, and then convert to desired timezone\n",
    "    return utc_datetime.replace(tzinfo=pytz.timezone('UTC')).astimezone(tz_info)"
   ]
  },
  {
   "cell_type": "code",
   "execution_count": 80,
   "id": "c54713ed-003e-4466-941d-e3b4d509fdad",
   "metadata": {},
   "outputs": [
    {
     "data": {
      "text/html": [
       "<div>\n",
       "<style scoped>\n",
       "    .dataframe tbody tr th:only-of-type {\n",
       "        vertical-align: middle;\n",
       "    }\n",
       "\n",
       "    .dataframe tbody tr th {\n",
       "        vertical-align: top;\n",
       "    }\n",
       "\n",
       "    .dataframe thead th {\n",
       "        text-align: right;\n",
       "    }\n",
       "</style>\n",
       "<table border=\"1\" class=\"dataframe\">\n",
       "  <thead>\n",
       "    <tr style=\"text-align: right;\">\n",
       "      <th></th>\n",
       "      <th>title</th>\n",
       "      <th>created_utc</th>\n",
       "      <th>full_link</th>\n",
       "      <th>num_comments</th>\n",
       "      <th>GMT_time</th>\n",
       "      <th>year</th>\n",
       "      <th>month</th>\n",
       "      <th>day</th>\n",
       "      <th>hour</th>\n",
       "      <th>word_count</th>\n",
       "      <th>char_count</th>\n",
       "      <th>comm_greater_1</th>\n",
       "    </tr>\n",
       "  </thead>\n",
       "  <tbody>\n",
       "    <tr>\n",
       "      <th>29609</th>\n",
       "      <td>Welcome to /r/ChessBeginners, the new subreddit for all new chess players!</td>\n",
       "      <td>1418346128</td>\n",
       "      <td>https://www.reddit.com/r/chessbeginners/comments/2p159s/welcome_to_rchessbeginners_the_new_subreddit_for/</td>\n",
       "      <td>5</td>\n",
       "      <td>2014-12-12 01:02:08+00:00</td>\n",
       "      <td>2014</td>\n",
       "      <td>12</td>\n",
       "      <td>12</td>\n",
       "      <td>01</td>\n",
       "      <td>11</td>\n",
       "      <td>74</td>\n",
       "      <td>1</td>\n",
       "    </tr>\n",
       "    <tr>\n",
       "      <th>29622</th>\n",
       "      <td>I know very minimal basics, but would love to learn more.</td>\n",
       "      <td>1420916613</td>\n",
       "      <td>https://www.reddit.com/r/chessbeginners/comments/2rzhp2/i_know_very_minimal_basics_but_would_love_to/</td>\n",
       "      <td>1</td>\n",
       "      <td>2015-01-10 19:03:33+00:00</td>\n",
       "      <td>2015</td>\n",
       "      <td>01</td>\n",
       "      <td>10</td>\n",
       "      <td>19</td>\n",
       "      <td>11</td>\n",
       "      <td>57</td>\n",
       "      <td>0</td>\n",
       "    </tr>\n",
       "    <tr>\n",
       "      <th>29621</th>\n",
       "      <td>Notice! This subreddit has no moderation and r/chess is more equipped to handle beginners. However, please feel free to post here.</td>\n",
       "      <td>1421739152</td>\n",
       "      <td>https://www.reddit.com/r/chessbeginners/comments/2t13hx/notice_this_subreddit_has_no_moderation_and/</td>\n",
       "      <td>3</td>\n",
       "      <td>2015-01-20 07:32:32+00:00</td>\n",
       "      <td>2015</td>\n",
       "      <td>01</td>\n",
       "      <td>20</td>\n",
       "      <td>07</td>\n",
       "      <td>21</td>\n",
       "      <td>130</td>\n",
       "      <td>1</td>\n",
       "    </tr>\n",
       "    <tr>\n",
       "      <th>29620</th>\n",
       "      <td>Do you already know how to play but can't seem to improve? Head on over to chesstempo.com and use the tactics trainer as a start!</td>\n",
       "      <td>1421798878</td>\n",
       "      <td>https://www.reddit.com/r/chessbeginners/comments/2t41fx/do_you_already_know_how_to_play_but_cant_seem_to/</td>\n",
       "      <td>0</td>\n",
       "      <td>2015-01-21 00:07:58+00:00</td>\n",
       "      <td>2015</td>\n",
       "      <td>01</td>\n",
       "      <td>21</td>\n",
       "      <td>00</td>\n",
       "      <td>25</td>\n",
       "      <td>129</td>\n",
       "      <td>0</td>\n",
       "    </tr>\n",
       "    <tr>\n",
       "      <th>29619</th>\n",
       "      <td>Are you a complete beginner or the aspiring novice? Chesscademy.com currently has nine lessons on a variety of topics, from moving the pieces to strategic prophylaxis!</td>\n",
       "      <td>1421875896</td>\n",
       "      <td>https://www.reddit.com/r/chessbeginners/comments/2t7r7k/are_you_a_complete_beginner_or_the_aspiring/</td>\n",
       "      <td>3</td>\n",
       "      <td>2015-01-21 21:31:36+00:00</td>\n",
       "      <td>2015</td>\n",
       "      <td>01</td>\n",
       "      <td>21</td>\n",
       "      <td>21</td>\n",
       "      <td>26</td>\n",
       "      <td>167</td>\n",
       "      <td>1</td>\n",
       "    </tr>\n",
       "  </tbody>\n",
       "</table>\n",
       "</div>"
      ],
      "text/plain": [
       "                                                                                                                                                                         title  \\\n",
       "29609                                                                                               Welcome to /r/ChessBeginners, the new subreddit for all new chess players!   \n",
       "29622                                                                                                                I know very minimal basics, but would love to learn more.   \n",
       "29621                                       Notice! This subreddit has no moderation and r/chess is more equipped to handle beginners. However, please feel free to post here.   \n",
       "29620                                        Do you already know how to play but can't seem to improve? Head on over to chesstempo.com and use the tactics trainer as a start!   \n",
       "29619  Are you a complete beginner or the aspiring novice? Chesscademy.com currently has nine lessons on a variety of topics, from moving the pieces to strategic prophylaxis!   \n",
       "\n",
       "       created_utc  \\\n",
       "29609   1418346128   \n",
       "29622   1420916613   \n",
       "29621   1421739152   \n",
       "29620   1421798878   \n",
       "29619   1421875896   \n",
       "\n",
       "                                                                                                       full_link  \\\n",
       "29609  https://www.reddit.com/r/chessbeginners/comments/2p159s/welcome_to_rchessbeginners_the_new_subreddit_for/   \n",
       "29622      https://www.reddit.com/r/chessbeginners/comments/2rzhp2/i_know_very_minimal_basics_but_would_love_to/   \n",
       "29621       https://www.reddit.com/r/chessbeginners/comments/2t13hx/notice_this_subreddit_has_no_moderation_and/   \n",
       "29620  https://www.reddit.com/r/chessbeginners/comments/2t41fx/do_you_already_know_how_to_play_but_cant_seem_to/   \n",
       "29619       https://www.reddit.com/r/chessbeginners/comments/2t7r7k/are_you_a_complete_beginner_or_the_aspiring/   \n",
       "\n",
       "       num_comments                  GMT_time  year month day hour  \\\n",
       "29609             5 2014-12-12 01:02:08+00:00  2014    12  12   01   \n",
       "29622             1 2015-01-10 19:03:33+00:00  2015    01  10   19   \n",
       "29621             3 2015-01-20 07:32:32+00:00  2015    01  20   07   \n",
       "29620             0 2015-01-21 00:07:58+00:00  2015    01  21   00   \n",
       "29619             3 2015-01-21 21:31:36+00:00  2015    01  21   21   \n",
       "\n",
       "       word_count  char_count  comm_greater_1  \n",
       "29609          11          74               1  \n",
       "29622          11          57               0  \n",
       "29621          21         130               1  \n",
       "29620          25         129               0  \n",
       "29619          26         167               1  "
      ]
     },
     "execution_count": 80,
     "metadata": {},
     "output_type": "execute_result"
    }
   ],
   "source": [
    "# Adding potentially useful columns\n",
    "df['GMT_time'] = df['created_utc'].apply(lambda time_seconds: \n",
    "                                        tz_from_utc_s_ts(time_seconds, pytz.timezone('UTC')))\n",
    "df['year'] = df['GMT_time'].apply(lambda date:  (date.strftime('%Y')))\n",
    "df['month'] = df['GMT_time'].apply(lambda date:  (date.strftime('%m')))\n",
    "df['day'] = df['GMT_time'].apply(lambda date:  (date.strftime('%d')))\n",
    "df['hour'] = df['GMT_time'].apply(lambda date:  (date.strftime('%H')))\n",
    "\n",
    "df['char_count'] = df['title'].apply(lambda text: len(text))\n",
    "df['word_count'] = df['title'].apply(lambda text: len(text.split()))\n",
    "med = df['num_comments'].median()\n",
    "df['comm_greater_1'] = df['num_comments'].apply(lambda val: 1 if val > med else 0)\n",
    "\n",
    "\n",
    "\n",
    "df.to_csv('../data/reddit_chessbeginners_full.csv', index=False)\n",
    "df.head()"
   ]
  },
  {
   "cell_type": "code",
   "execution_count": 51,
   "id": "a857d23e-9dc3-42d2-bdac-e1578a32d044",
   "metadata": {},
   "outputs": [
    {
     "data": {
      "text/plain": [
       "0    0.510359\n",
       "1    0.489641\n",
       "Name: comm_greater_1, dtype: float64"
      ]
     },
     "execution_count": 51,
     "metadata": {},
     "output_type": "execute_result"
    }
   ],
   "source": [
    "df['comm_greater_1'].value_counts(normalize=True)"
   ]
  },
  {
   "cell_type": "code",
   "execution_count": 44,
   "id": "ec143381-68ea-42fb-815c-11e99418b868",
   "metadata": {},
   "outputs": [
    {
     "data": {
      "image/png": "[encoded data removed]",
      "text/plain": [
       "<Figure size 1440x576 with 2 Axes>"
      ]
     },
     "metadata": {
      "needs_background": "light"
     },
     "output_type": "display_data"
    }
   ],
   "source": [
    "fig, ax = plt.subplots(1,2, figsize = (20,8))\n",
    "sns.histplot(df['word_count'], ax=ax[0], bins = 20);\n",
    "sns.histplot(df['char_count'], ax = ax[1], bins = 20);"
   ]
  },
  {
   "cell_type": "code",
   "execution_count": 54,
   "id": "7f1d2aae-3077-4e6c-9575-4a65a0973af7",
   "metadata": {},
   "outputs": [
    {
     "data": {
      "image/png": "[encoded data removed]",
      "text/plain": [
       "<Figure size 1440x576 with 1 Axes>"
      ]
     },
     "metadata": {
      "needs_background": "light"
     },
     "output_type": "display_data"
    },
    {
     "data": {
      "image/png": "[encoded data removed]",
      "text/plain": [
       "<Figure size 1440x576 with 1 Axes>"
      ]
     },
     "metadata": {
      "needs_background": "light"
     },
     "output_type": "display_data"
    }
   ],
   "source": [
    "features = ['word_count', 'char_count']\n",
    "labels = ['Word Count', 'Character Count']\n",
    "color1 = (1,0,0,0.3)\n",
    "color2 = (0,0,1,0.3)\n",
    "target = df['comm_greater_1']\n",
    "for i in range(len(features)):\n",
    "    fig, ax = plt.subplots(figsize = (20,8))\n",
    "    feature = features[i]\n",
    "    bins = np.histogram(df[feature], bins=50)[1]\n",
    "    lab = labels[i]\n",
    "    avg_high_comments = df[target==1][feature].mean()\n",
    "    avg_low_comments = df[target == 0][feature].mean()\n",
    "    ax.hist(df[target==1][feature], bins = bins, label = f'High Comments: {lab}, mean = {round(avg_high_comments)}', color = color1,edgecolor='k');\n",
    "    ax.hist(df[target==0][feature], bins = bins, label = f'Low Comments: {lab}, mean = {round(avg_low_comments)}', color = color2, edgecolor='w');\n",
    "    ax.axvline(avg_high_comments, color = color1)\n",
    "    ax.axvline(avg_low_comments, color = color2)\n",
    "\n",
    "    ax.set_xlabel(f'Status Length', size=15)\n",
    "    ax.set(title = f'Freq vs status length')\n",
    "    ax.legend(loc='center');"
   ]
  },
  {
   "cell_type": "markdown",
   "id": "6a5f082a-f976-4a27-9848-cdf15b346276",
   "metadata": {},
   "source": [
    "# Modeling"
   ]
  },
  {
   "cell_type": "code",
   "execution_count": 59,
   "id": "bff6b3dc-be19-4851-b8a2-696bb8d357ab",
   "metadata": {},
   "outputs": [
    {
     "name": "stdout",
     "output_type": "stream",
     "text": [
      "shape of words df = (29732, 11528)\n"
     ]
    },
    {
     "data": {
      "text/html": [
       "<div>\n",
       "<style scoped>\n",
       "    .dataframe tbody tr th:only-of-type {\n",
       "        vertical-align: middle;\n",
       "    }\n",
       "\n",
       "    .dataframe tbody tr th {\n",
       "        vertical-align: top;\n",
       "    }\n",
       "\n",
       "    .dataframe thead th {\n",
       "        text-align: right;\n",
       "    }\n",
       "</style>\n",
       "<table border=\"1\" class=\"dataframe\">\n",
       "  <thead>\n",
       "    <tr style=\"text-align: right;\">\n",
       "      <th></th>\n",
       "      <th>00</th>\n",
       "      <th>000</th>\n",
       "      <th>000th</th>\n",
       "      <th>001st</th>\n",
       "      <th>0054</th>\n",
       "      <th>006</th>\n",
       "      <th>007</th>\n",
       "      <th>01</th>\n",
       "      <th>01s</th>\n",
       "      <th>02</th>\n",
       "      <th>...</th>\n",
       "      <th>يخص</th>\n",
       "      <th>අක</th>\n",
       "      <th>අද</th>\n",
       "      <th>ඉත</th>\n",
       "      <th>උසස</th>\n",
       "      <th>තන</th>\n",
       "      <th>රය</th>\n",
       "      <th>වර</th>\n",
       "      <th>对抗大炮</th>\n",
       "      <th>인터넷바둑이</th>\n",
       "    </tr>\n",
       "  </thead>\n",
       "  <tbody>\n",
       "    <tr>\n",
       "      <th>0</th>\n",
       "      <td>0</td>\n",
       "      <td>0</td>\n",
       "      <td>0</td>\n",
       "      <td>0</td>\n",
       "      <td>0</td>\n",
       "      <td>0</td>\n",
       "      <td>0</td>\n",
       "      <td>0</td>\n",
       "      <td>0</td>\n",
       "      <td>0</td>\n",
       "      <td>...</td>\n",
       "      <td>0</td>\n",
       "      <td>0</td>\n",
       "      <td>0</td>\n",
       "      <td>0</td>\n",
       "      <td>0</td>\n",
       "      <td>0</td>\n",
       "      <td>0</td>\n",
       "      <td>0</td>\n",
       "      <td>0</td>\n",
       "      <td>0</td>\n",
       "    </tr>\n",
       "    <tr>\n",
       "      <th>1</th>\n",
       "      <td>0</td>\n",
       "      <td>0</td>\n",
       "      <td>0</td>\n",
       "      <td>0</td>\n",
       "      <td>0</td>\n",
       "      <td>0</td>\n",
       "      <td>0</td>\n",
       "      <td>0</td>\n",
       "      <td>0</td>\n",
       "      <td>0</td>\n",
       "      <td>...</td>\n",
       "      <td>0</td>\n",
       "      <td>0</td>\n",
       "      <td>0</td>\n",
       "      <td>0</td>\n",
       "      <td>0</td>\n",
       "      <td>0</td>\n",
       "      <td>0</td>\n",
       "      <td>0</td>\n",
       "      <td>0</td>\n",
       "      <td>0</td>\n",
       "    </tr>\n",
       "    <tr>\n",
       "      <th>2</th>\n",
       "      <td>0</td>\n",
       "      <td>0</td>\n",
       "      <td>0</td>\n",
       "      <td>0</td>\n",
       "      <td>0</td>\n",
       "      <td>0</td>\n",
       "      <td>0</td>\n",
       "      <td>0</td>\n",
       "      <td>0</td>\n",
       "      <td>0</td>\n",
       "      <td>...</td>\n",
       "      <td>0</td>\n",
       "      <td>0</td>\n",
       "      <td>0</td>\n",
       "      <td>0</td>\n",
       "      <td>0</td>\n",
       "      <td>0</td>\n",
       "      <td>0</td>\n",
       "      <td>0</td>\n",
       "      <td>0</td>\n",
       "      <td>0</td>\n",
       "    </tr>\n",
       "    <tr>\n",
       "      <th>3</th>\n",
       "      <td>0</td>\n",
       "      <td>0</td>\n",
       "      <td>0</td>\n",
       "      <td>0</td>\n",
       "      <td>0</td>\n",
       "      <td>0</td>\n",
       "      <td>0</td>\n",
       "      <td>0</td>\n",
       "      <td>0</td>\n",
       "      <td>0</td>\n",
       "      <td>...</td>\n",
       "      <td>0</td>\n",
       "      <td>0</td>\n",
       "      <td>0</td>\n",
       "      <td>0</td>\n",
       "      <td>0</td>\n",
       "      <td>0</td>\n",
       "      <td>0</td>\n",
       "      <td>0</td>\n",
       "      <td>0</td>\n",
       "      <td>0</td>\n",
       "    </tr>\n",
       "    <tr>\n",
       "      <th>4</th>\n",
       "      <td>0</td>\n",
       "      <td>0</td>\n",
       "      <td>0</td>\n",
       "      <td>0</td>\n",
       "      <td>0</td>\n",
       "      <td>0</td>\n",
       "      <td>0</td>\n",
       "      <td>0</td>\n",
       "      <td>0</td>\n",
       "      <td>0</td>\n",
       "      <td>...</td>\n",
       "      <td>0</td>\n",
       "      <td>0</td>\n",
       "      <td>0</td>\n",
       "      <td>0</td>\n",
       "      <td>0</td>\n",
       "      <td>0</td>\n",
       "      <td>0</td>\n",
       "      <td>0</td>\n",
       "      <td>0</td>\n",
       "      <td>0</td>\n",
       "    </tr>\n",
       "  </tbody>\n",
       "</table>\n",
       "<p>5 rows × 11528 columns</p>\n",
       "</div>"
      ],
      "text/plain": [
       "   00  000  000th  001st  0054  006  007  01  01s  02  ...  يخص  අක  අද  ඉත  \\\n",
       "0   0    0      0      0     0    0    0   0    0   0  ...    0   0   0   0   \n",
       "1   0    0      0      0     0    0    0   0    0   0  ...    0   0   0   0   \n",
       "2   0    0      0      0     0    0    0   0    0   0  ...    0   0   0   0   \n",
       "3   0    0      0      0     0    0    0   0    0   0  ...    0   0   0   0   \n",
       "4   0    0      0      0     0    0    0   0    0   0  ...    0   0   0   0   \n",
       "\n",
       "   උසස  තන  රය  වර  对抗大炮  인터넷바둑이  \n",
       "0    0   0   0   0     0       0  \n",
       "1    0   0   0   0     0       0  \n",
       "2    0   0   0   0     0       0  \n",
       "3    0   0   0   0     0       0  \n",
       "4    0   0   0   0     0       0  \n",
       "\n",
       "[5 rows x 11528 columns]"
      ]
     },
     "execution_count": 59,
     "metadata": {},
     "output_type": "execute_result"
    }
   ],
   "source": [
    "cv = CountVectorizer(stop_words='english')\n",
    "\n",
    "cv.fit(df['title'])\n",
    "words_df = pd.DataFrame(cv.transform(df['title']).A, columns = cv.get_feature_names_out())\n",
    "print(f'shape of words df = {words_df.shape}')\n",
    "words_df.head()"
   ]
  },
  {
   "cell_type": "code",
   "execution_count": 77,
   "id": "be6901c1-7055-40ed-aa97-65277dc788ce",
   "metadata": {},
   "outputs": [
    {
     "data": {
      "text/plain": [
       "0    29708\n",
       "1       24\n",
       "Name: 000, dtype: int64"
      ]
     },
     "execution_count": 77,
     "metadata": {},
     "output_type": "execute_result"
    }
   ],
   "source": [
    "words_df['000'].value_counts()"
   ]
  },
  {
   "cell_type": "code",
   "execution_count": 62,
   "id": "5e59ede0-4b58-4005-b62f-f81dc30ccaf9",
   "metadata": {},
   "outputs": [
    {
     "data": {
      "text/plain": [
       "chess        5711\n",
       "game         4590\n",
       "mate         2204\n",
       "just         1830\n",
       "queen        1822\n",
       "white        1769\n",
       "black        1739\n",
       "best         1584\n",
       "checkmate    1511\n",
       "play         1472\n",
       "win          1354\n",
       "com          1308\n",
       "got          1217\n",
       "time         1192\n",
       "playing      1176\n",
       "played       1148\n",
       "games        1128\n",
       "opponent     1097\n",
       "finally      1090\n",
       "good         1062\n",
       "brilliant    1061\n",
       "moves        1027\n",
       "elo          1022\n",
       "pawn          968\n",
       "like          964\n",
       "dtype: int64"
      ]
     },
     "execution_count": 62,
     "metadata": {},
     "output_type": "execute_result"
    }
   ],
   "source": [
    "# k most common words\n",
    "top_k = 25\n",
    "words_df.sum().sort_values(ascending=False)[:top_k]"
   ]
  },
  {
   "cell_type": "code",
   "execution_count": 66,
   "id": "bb00077c-03d7-4566-9b02-c98f0be74e61",
   "metadata": {},
   "outputs": [
    {
     "data": {
      "image/png": "[encoded data removed]",
      "text/plain": [
       "<Figure size 1440x576 with 1 Axes>"
      ]
     },
     "metadata": {
      "needs_background": "light"
     },
     "output_type": "display_data"
    }
   ],
   "source": [
    "\n",
    "fig, ax = plt.subplots(figsize = (20,8))\n",
    "ax.bar(x=words_df.sum().sort_values(ascending=False)[:top_k].index, height=words_df.sum().sort_values(ascending=False)[:top_k]);\n",
    "ax.set(title = f'Top {top_k} word frequencies', xlabel = 'word', ylabel = 'frequency')\n",
    "plt.show()"
   ]
  },
  {
   "cell_type": "code",
   "execution_count": 70,
   "id": "65b2563f-21fb-442a-8b43-5a9dd1d44984",
   "metadata": {},
   "outputs": [
    {
     "data": {
      "text/plain": [
       "chess com          1270\n",
       "guess elo           225\n",
       "best game           204\n",
       "playing chess       196\n",
       "new chess           190\n",
       "white play          187\n",
       "started playing     180\n",
       "ve played           165\n",
       "got brilliant       152\n",
       "don know            150\n",
       "dtype: int64"
      ]
     },
     "execution_count": 70,
     "metadata": {},
     "output_type": "execute_result"
    }
   ],
   "source": [
    "# excluding stopwords\n",
    "cv_bigrams = CountVectorizer(ngram_range=(2,2), stop_words='english')\n",
    "cv_bigrams.fit(df['title'])\n",
    "X_train_bigrams = cv_bigrams.transform(df['title'])\n",
    "pd.DataFrame(X_train_bigrams.A, columns=cv_bigrams.get_feature_names_out()).sum().sort_values(ascending = False)[:10]\n"
   ]
  },
  {
   "cell_type": "code",
   "execution_count": null,
   "id": "0768f8e0-6fc6-4d36-a15e-9edbca2b1161",
   "metadata": {},
   "outputs": [],
   "source": []
  }
 ],
 "metadata": {
  "kernelspec": {
   "display_name": "Python 3 (ipykernel)",
   "language": "python",
   "name": "python3"
  },
  "language_info": {
   "codemirror_mode": {
    "name": "ipython",
    "version": 3
   },
   "file_extension": ".py",
   "mimetype": "text/x-python",
   "name": "python",
   "nbconvert_exporter": "python",
   "pygments_lexer": "ipython3",
   "version": "3.9.12"
  }
 },
 "nbformat": 4,
 "nbformat_minor": 5
}
