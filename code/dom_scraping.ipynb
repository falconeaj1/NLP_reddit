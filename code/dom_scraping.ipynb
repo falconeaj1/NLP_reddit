{
 "cells": [
  {
   "cell_type": "code",
   "execution_count": null,
   "id": "4de781ef-61fe-40e0-a610-e95f9bbe6d26",
   "metadata": {},
   "outputs": [],
   "source": []
  },
  {
   "cell_type": "code",
   "execution_count": 1,
   "id": "92a84dfe-de8b-4efe-902c-81282c36b355",
   "metadata": {},
   "outputs": [
    {
     "name": "stderr",
     "output_type": "stream",
     "text": [
      "Not all PushShift shards are active. Query results may be incomplete.\n",
      "Not all PushShift shards are active. Query results may be incomplete.\n",
      "Not all PushShift shards are active. Query results may be incomplete.\n",
      "Not all PushShift shards are active. Query results may be incomplete.\n",
      "Not all PushShift shards are active. Query results may be incomplete.\n",
      "Not all PushShift shards are active. Query results may be incomplete.\n",
      "Not all PushShift shards are active. Query results may be incomplete.\n",
      "Not all PushShift shards are active. Query results may be incomplete.\n",
      "Not all PushShift shards are active. Query results may be incomplete.\n",
      "Not all PushShift shards are active. Query results may be incomplete.\n",
      "Not all PushShift shards are active. Query results may be incomplete.\n",
      "Not all PushShift shards are active. Query results may be incomplete.\n",
      "Not all PushShift shards are active. Query results may be incomplete.\n",
      "Not all PushShift shards are active. Query results may be incomplete.\n",
      "Not all PushShift shards are active. Query results may be incomplete.\n",
      "Not all PushShift shards are active. Query results may be incomplete.\n",
      "Not all PushShift shards are active. Query results may be incomplete.\n",
      "Not all PushShift shards are active. Query results may be incomplete.\n",
      "Not all PushShift shards are active. Query results may be incomplete.\n",
      "Not all PushShift shards are active. Query results may be incomplete.\n",
      "Not all PushShift shards are active. Query results may be incomplete.\n",
      "Not all PushShift shards are active. Query results may be incomplete.\n",
      "Not all PushShift shards are active. Query results may be incomplete.\n",
      "Not all PushShift shards are active. Query results may be incomplete.\n"
     ]
    },
    {
     "data": {
      "text/plain": [
       "7121"
      ]
     },
     "execution_count": 1,
     "metadata": {},
     "output_type": "execute_result"
    }
   ],
   "source": [
    "import pandas as pd\n",
    "import matplotlib.pyplot as plt\n",
    "from pmaw import PushshiftAPI\n",
    "api = PushshiftAPI()\n",
    "\n",
    "\n",
    "def fxn(item):\n",
    "    return (item['score'] > 0) & (item['over_18'] == False)\n",
    "posts = api.search_submissions(filter_fn=fxn, subreddit=\"dominion\", limit=50000)\n",
    "post_list = [post for post in posts]\n",
    "\n",
    "len(post_list)\n"
   ]
  },
  {
   "cell_type": "code",
   "execution_count": 3,
   "id": "028c29dd-e812-4321-8e3e-32e750ffec80",
   "metadata": {},
   "outputs": [
    {
     "name": "stdout",
     "output_type": "stream",
     "text": [
      "i = 5000\n",
      "KotW 1/29: Baron, Bishop, Contraband, Goons, Merchant Guild, Mining Village, Monument, Diplomat, Steward, Stonemason. Colony/Platinum. [Intrigue, Prosperity, Guilds]\n",
      "\thttps://www.reddit.com/r/dominion/comments/5qzn8k/kotw_129_baron_bishop_contraband_goons_merchant/\n",
      "i = 5001\n",
      "Adventurer -1 card interaction\n",
      "\thttps://www.reddit.com/r/dominion/comments/5qyzos/adventurer_1_card_interaction/\n",
      "i = 5002\n",
      "Hobby Lobby now carries a dark-stained storage box\n",
      "\thttps://www.reddit.com/r/dominion/comments/5qycx5/hobby_lobby_now_carries_a_darkstained_storage_box/\n",
      "i = 5003\n",
      "How do you choose kingdoms in each game?\n",
      "\thttps://www.reddit.com/r/dominion/comments/5qwp0j/how_do_you_choose_kingdoms_in_each_game/\n",
      "i = 5004\n",
      "Recommended set of cards?\n",
      "\thttps://www.reddit.com/r/dominion/comments/5qwobb/recommended_set_of_cards/\n",
      "i = 5005\n",
      "Victory cards only (almost) set, final score 86-108\n",
      "\thttps://www.reddit.com/r/dominion/comments/5qw3lu/victory_cards_only_almost_set_final_score_86108/\n",
      "i = 5006\n",
      "I won by buying all 10 curses in a turn after 3 Provinces. Let's talk savage wins\n",
      "\thttps://www.reddit.com/r/dominion/comments/5qr6tj/i_won_by_buying_all_10_curses_in_a_turn_after_3/\n",
      "i = 5007\n",
      "Question about Patrol\n",
      "\thttps://www.reddit.com/r/dominion/comments/5qqf86/question_about_patrol/\n",
      "i = 5008\n",
      "Introducing Dominion the Gathering: A MTG themed reskinning of Dominion\n",
      "\thttps://www.reddit.com/r/dominion/comments/5qp99w/introducing_dominion_the_gathering_a_mtg_themed/\n",
      "i = 5009\n",
      "Can players without a subscription play with ones who do?\n",
      "\thttps://www.reddit.com/r/dominion/comments/5qkgx2/can_players_without_a_subscription_play_with_ones/\n"
     ]
    }
   ],
   "source": [
    "df = pd.DataFrame(post_list)\n",
    "start = 5000\n",
    "inc = 10\n",
    "for i in range(start,start+inc):\n",
    "    print(f'i = {i}')\n",
    "    print(df['title'].iloc[i])\n",
    "    print(f'\\t{df[\"full_link\"].iloc[i]}')"
   ]
  },
  {
   "cell_type": "code",
   "execution_count": 4,
   "id": "9eaac40c-8aea-4a34-8899-7c2ea2a41c0a",
   "metadata": {},
   "outputs": [
    {
     "data": {
      "text/plain": [
       "[('all_awardings', []),\n",
       " ('allow_live_comments', False),\n",
       " ('author', 'juels_123'),\n",
       " ('author_flair_css_class', None),\n",
       " ('author_flair_richtext', []),\n",
       " ('author_flair_text', None),\n",
       " ('author_flair_type', 'text'),\n",
       " ('author_fullname', 't2_144lpr'),\n",
       " ('author_is_blocked', nan),\n",
       " ('author_patreon_flair', False),\n",
       " ('author_premium', False),\n",
       " ('awarders', []),\n",
       " ('can_mod_post', False),\n",
       " ('contest_mode', False),\n",
       " ('created_utc', 1585798722),\n",
       " ('domain', 'self.dominion'),\n",
       " ('full_link',\n",
       "  'https://www.reddit.com/r/dominion/comments/ftf76x/best_cards_to_use_for_base_and_hinterlands/'),\n",
       " ('gildings', {}),\n",
       " ('id', 'ftf76x'),\n",
       " ('is_created_from_ads_ui', nan),\n",
       " ('is_crosspostable', True),\n",
       " ('is_meta', False),\n",
       " ('is_original_content', False),\n",
       " ('is_reddit_media_domain', False),\n",
       " ('is_robot_indexable', True),\n",
       " ('is_self', True),\n",
       " ('is_video', False),\n",
       " ('link_flair_background_color', ''),\n",
       " ('link_flair_richtext', []),\n",
       " ('link_flair_text_color', 'dark'),\n",
       " ('link_flair_type', 'text'),\n",
       " ('locked', False),\n",
       " ('media_only', False),\n",
       " ('no_follow', True),\n",
       " ('num_comments', 0),\n",
       " ('num_crossposts', 0.0),\n",
       " ('over_18', False),\n",
       " ('parent_whitelist_status', 'all_ads'),\n",
       " ('permalink',\n",
       "  '/r/dominion/comments/ftf76x/best_cards_to_use_for_base_and_hinterlands/'),\n",
       " ('pinned', False),\n",
       " ('pwls', 6.0),\n",
       " ('retrieved_on', 1585798728.0),\n",
       " ('score', 1),\n",
       " ('selftext',\n",
       "  'Hello, I am somewhat new to dominion, and have the base game and hinterlands. So far my boyfriend and I have being just picking at random, but what are the best cards to use with these games? (Mixing them too)'),\n",
       " ('send_replies', True),\n",
       " ('spoiler', False),\n",
       " ('stickied', False),\n",
       " ('subreddit', 'dominion'),\n",
       " ('subreddit_id', 't5_2s75q'),\n",
       " ('subreddit_subscribers', 8904.0),\n",
       " ('subreddit_type', 'public'),\n",
       " ('thumbnail', 'self'),\n",
       " ('title', 'Best cards to use for base and hinterlands'),\n",
       " ('total_awards_received', 0.0),\n",
       " ('treatment_tags', nan),\n",
       " ('upvote_ratio', nan),\n",
       " ('url',\n",
       "  'https://www.reddit.com/r/dominion/comments/ftf76x/best_cards_to_use_for_base_and_hinterlands/'),\n",
       " ('whitelist_status', 'all_ads'),\n",
       " ('wls', 6.0),\n",
       " ('media_metadata', nan),\n",
       " ('thumbnail_height', nan),\n",
       " ('thumbnail_width', nan),\n",
       " ('author_flair_template_id', nan),\n",
       " ('author_flair_text_color', nan),\n",
       " ('author_flair_background_color', nan),\n",
       " ('post_hint', nan),\n",
       " ('preview', nan),\n",
       " ('url_overridden_by_dest', nan),\n",
       " ('distinguished', nan),\n",
       " ('link_flair_css_class', nan),\n",
       " ('link_flair_template_id', nan),\n",
       " ('link_flair_text', nan),\n",
       " ('media', nan),\n",
       " ('media_embed', nan),\n",
       " ('secure_media', nan),\n",
       " ('secure_media_embed', nan),\n",
       " ('removed_by_category', nan),\n",
       " ('edited', nan),\n",
       " ('gallery_data', nan),\n",
       " ('is_gallery', nan),\n",
       " ('author_cakeday', nan),\n",
       " ('poll_data', nan),\n",
       " ('crosspost_parent', nan),\n",
       " ('crosspost_parent_list', nan),\n",
       " ('steward_reports', nan),\n",
       " ('updated_utc', nan),\n",
       " ('og_description', nan),\n",
       " ('og_title', nan),\n",
       " ('removed_by', nan),\n",
       " ('gilded', nan),\n",
       " ('brand_safe', nan),\n",
       " ('suggested_sort', nan),\n",
       " ('rte_mode', nan),\n",
       " ('previous_visits', nan),\n",
       " ('author_id', nan),\n",
       " ('author_created_utc', nan),\n",
       " ('approved_at_utc', nan),\n",
       " ('banned_at_utc', nan),\n",
       " ('view_count', nan),\n",
       " ('mod_reports', nan),\n",
       " ('user_reports', nan)]"
      ]
     },
     "execution_count": 4,
     "metadata": {},
     "output_type": "execute_result"
    }
   ],
   "source": [
    "list(zip(df.columns,df.iloc[3033]))"
   ]
  },
  {
   "cell_type": "code",
   "execution_count": 6,
   "id": "4cd5d8f1-e946-4a16-abb0-d82057071569",
   "metadata": {},
   "outputs": [
    {
     "data": {
      "text/plain": [
       "(array([2.384e+03, 1.421e+03, 7.420e+02, 2.970e+02, 1.870e+02, 9.100e+01,\n",
       "        5.800e+01, 2.300e+01, 1.200e+01, 1.300e+01, 9.000e+00, 8.000e+00,\n",
       "        5.000e+00, 2.000e+00, 4.000e+00, 2.000e+00, 3.000e+00, 1.000e+00,\n",
       "        1.000e+00, 2.000e+00]),\n",
       " array([  2. ,   9.5,  17. ,  24.5,  32. ,  39.5,  47. ,  54.5,  62. ,\n",
       "         69.5,  77. ,  84.5,  92. ,  99.5, 107. , 114.5, 122. , 129.5,\n",
       "        137. , 144.5, 152. ]),\n",
       " <BarContainer object of 20 artists>)"
      ]
     },
     "execution_count": 6,
     "metadata": {},
     "output_type": "execute_result"
    },
    {
     "data": {
      "image/png": "[encoded data removed]",
      "text/plain": [
       "<Figure size 432x288 with 1 Axes>"
      ]
     },
     "metadata": {
      "needs_background": "light"
     },
     "output_type": "display_data"
    }
   ],
   "source": [
    "# import seaborn as sns\n",
    "# sns.histplot(df['num_comments'])\n",
    "df2 = df[(df['num_comments'] > 1) ]\n",
    "plt.hist((df2['num_comments']), bins = 20)\n",
    "# df['num_comments'].value_counts()"
   ]
  },
  {
   "cell_type": "code",
   "execution_count": 9,
   "id": "9f8b5271-bce4-440e-bbc5-edb554417bd7",
   "metadata": {},
   "outputs": [],
   "source": [
    "med = df['num_comments'].median()"
   ]
  },
  {
   "cell_type": "code",
   "execution_count": 13,
   "id": "f108056b-5ea7-4b04-ac26-49da4ff6ec72",
   "metadata": {},
   "outputs": [
    {
     "data": {
      "text/plain": [
       "(3693, 101)"
      ]
     },
     "execution_count": 13,
     "metadata": {},
     "output_type": "execute_result"
    }
   ],
   "source": [
    "df[df['num_comments'] <= med].shape"
   ]
  },
  {
   "cell_type": "code",
   "execution_count": 14,
   "id": "1181c444-9f12-4c05-b2b4-ed78ee653b7a",
   "metadata": {},
   "outputs": [
    {
     "data": {
      "text/plain": [
       "(3428, 101)"
      ]
     },
     "execution_count": 14,
     "metadata": {},
     "output_type": "execute_result"
    }
   ],
   "source": [
    "df[df['num_comments'] > med].shape"
   ]
  },
  {
   "cell_type": "code",
   "execution_count": 16,
   "id": "29b09897-2224-4c30-861b-0469753da737",
   "metadata": {},
   "outputs": [],
   "source": [
    "df2 = df[['title', 'created_utc', 'full_link', 'num_comments' ]]"
   ]
  },
  {
   "cell_type": "code",
   "execution_count": 18,
   "id": "dad325fb-7b00-4079-ae6f-cc4a5e7c07b0",
   "metadata": {},
   "outputs": [],
   "source": [
    "df2.to_csv('../data/reddit_dominion.csv')"
   ]
  },
  {
   "cell_type": "code",
   "execution_count": null,
   "id": "9d2dc152-703f-4efa-a89c-63aeeda1d10a",
   "metadata": {},
   "outputs": [],
   "source": []
  }
 ],
 "metadata": {
  "kernelspec": {
   "display_name": "Python 3 (ipykernel)",
   "language": "python",
   "name": "python3"
  },
  "language_info": {
   "codemirror_mode": {
    "name": "ipython",
    "version": 3
   },
   "file_extension": ".py",
   "mimetype": "text/x-python",
   "name": "python",
   "nbconvert_exporter": "python",
   "pygments_lexer": "ipython3",
   "version": "3.9.12"
  }
 },
 "nbformat": 4,
 "nbformat_minor": 5
}
