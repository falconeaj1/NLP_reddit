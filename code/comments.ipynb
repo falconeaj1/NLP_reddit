{
 "cells": [
  {
   "cell_type": "code",
   "execution_count": 1,
   "id": "f3cd6c91-8179-43a3-9a56-5438e458d444",
   "metadata": {},
   "outputs": [],
   "source": [
    "from pmaw import PushshiftAPI\n"
   ]
  },
  {
   "cell_type": "code",
   "execution_count": null,
   "id": "80f8f77d-2d5a-4844-a6bf-ef740c2e3d1f",
   "metadata": {},
   "outputs": [],
   "source": []
  },
  {
   "cell_type": "code",
   "execution_count": 2,
   "id": "23d8b90c-53e2-445c-8965-0da248e495c7",
   "metadata": {},
   "outputs": [],
   "source": [
    "api = PushshiftAPI()"
   ]
  },
  {
   "cell_type": "code",
   "execution_count": null,
   "id": "882913f5-3b52-4fef-b013-8a9f851f0dc9",
   "metadata": {},
   "outputs": [],
   "source": []
  },
  {
   "cell_type": "code",
   "execution_count": 3,
   "id": "3a6ad46f-ed4c-4084-8c08-ac98dd275a92",
   "metadata": {},
   "outputs": [],
   "source": [
    "def fxn(item):\n",
    "    return item['num_comments'] > 0 & item['over_18'] == False\n"
   ]
  },
  {
   "cell_type": "code",
   "execution_count": 4,
   "id": "4d677fff-a5f3-4933-998f-af840f63448e",
   "metadata": {},
   "outputs": [
    {
     "name": "stderr",
     "output_type": "stream",
     "text": [
      "Not all PushShift shards are active. Query results may be incomplete.\n",
      "Not all PushShift shards are active. Query results may be incomplete.\n",
      "Not all PushShift shards are active. Query results may be incomplete.\n",
      "Not all PushShift shards are active. Query results may be incomplete.\n",
      "Not all PushShift shards are active. Query results may be incomplete.\n",
      "Not all PushShift shards are active. Query results may be incomplete.\n",
      "Not all PushShift shards are active. Query results may be incomplete.\n",
      "Not all PushShift shards are active. Query results may be incomplete.\n",
      "Not all PushShift shards are active. Query results may be incomplete.\n",
      "Not all PushShift shards are active. Query results may be incomplete.\n",
      "Not all PushShift shards are active. Query results may be incomplete.\n",
      "Not all PushShift shards are active. Query results may be incomplete.\n",
      "Not all PushShift shards are active. Query results may be incomplete.\n",
      "Not all PushShift shards are active. Query results may be incomplete.\n",
      "Not all PushShift shards are active. Query results may be incomplete.\n",
      "Not all PushShift shards are active. Query results may be incomplete.\n",
      "Not all PushShift shards are active. Query results may be incomplete.\n",
      "Not all PushShift shards are active. Query results may be incomplete.\n",
      "Not all PushShift shards are active. Query results may be incomplete.\n",
      "Not all PushShift shards are active. Query results may be incomplete.\n",
      "Not all PushShift shards are active. Query results may be incomplete.\n",
      "Not all PushShift shards are active. Query results may be incomplete.\n",
      "Not all PushShift shards are active. Query results may be incomplete.\n",
      "Not all PushShift shards are active. Query results may be incomplete.\n",
      "Not all PushShift shards are active. Query results may be incomplete.\n",
      "Not all PushShift shards are active. Query results may be incomplete.\n",
      "Not all PushShift shards are active. Query results may be incomplete.\n",
      "Not all PushShift shards are active. Query results may be incomplete.\n",
      "Not all PushShift shards are active. Query results may be incomplete.\n",
      "Not all PushShift shards are active. Query results may be incomplete.\n",
      "Not all PushShift shards are active. Query results may be incomplete.\n",
      "Not all PushShift shards are active. Query results may be incomplete.\n",
      "Not all PushShift shards are active. Query results may be incomplete.\n"
     ]
    }
   ],
   "source": [
    "posts = api.search_submissions(filter_fn=fxn, subreddit=\"mathematics\", limit=50000)"
   ]
  },
  {
   "cell_type": "code",
   "execution_count": 5,
   "id": "20e84a4d-317b-419f-9b18-338ff100c26d",
   "metadata": {},
   "outputs": [
    {
     "data": {
      "text/plain": [
       "3"
      ]
     },
     "execution_count": 5,
     "metadata": {},
     "output_type": "execute_result"
    }
   ],
   "source": [
    "3"
   ]
  },
  {
   "cell_type": "code",
   "execution_count": 6,
   "id": "9feb9a04-dffc-4d15-995c-5d1168c8c46a",
   "metadata": {},
   "outputs": [],
   "source": [
    "post_list = [post for post in posts]"
   ]
  },
  {
   "cell_type": "code",
   "execution_count": 7,
   "id": "9a322f35-328d-4161-a962-893bedee4c93",
   "metadata": {},
   "outputs": [
    {
     "data": {
      "text/plain": [
       "11498"
      ]
     },
     "execution_count": 7,
     "metadata": {},
     "output_type": "execute_result"
    }
   ],
   "source": [
    "len(post_list)"
   ]
  },
  {
   "cell_type": "code",
   "execution_count": null,
   "id": "97d46198-d343-4a66-b272-8e2dddd1cd10",
   "metadata": {},
   "outputs": [],
   "source": [
    "df2 = df[['title', 'total_awards_received', 'upvote_ratio', 'author_fullname', 'author_is_blocked', \n",
    "          'created_utc', 'full_link', 'is_video','media_only', 'num_comments' ]]"
   ]
  },
  {
   "cell_type": "code",
   "execution_count": 8,
   "id": "34fb4d3d-578c-47d1-8bdd-30918e590e9e",
   "metadata": {},
   "outputs": [
    {
     "data": {
      "text/plain": [
       "{'all_awardings': [],\n",
       " 'allow_live_comments': False,\n",
       " 'author': 'epinephrine1337',\n",
       " 'author_flair_css_class': None,\n",
       " 'author_flair_richtext': [],\n",
       " 'author_flair_text': None,\n",
       " 'author_flair_type': 'text',\n",
       " 'author_fullname': 't2_1ic5i8kq',\n",
       " 'author_is_blocked': False,\n",
       " 'author_patreon_flair': False,\n",
       " 'author_premium': False,\n",
       " 'awarders': [],\n",
       " 'can_mod_post': False,\n",
       " 'contest_mode': False,\n",
       " 'created_utc': 1636730524,\n",
       " 'domain': 'i.redd.it',\n",
       " 'full_link': 'https://www.reddit.com/r/mathematics/comments/qsdgt9/help_defining_the_links_in_this_graph_more_in/',\n",
       " 'gildings': {},\n",
       " 'id': 'qsdgt9',\n",
       " 'is_created_from_ads_ui': False,\n",
       " 'is_crosspostable': True,\n",
       " 'is_meta': False,\n",
       " 'is_original_content': False,\n",
       " 'is_reddit_media_domain': True,\n",
       " 'is_robot_indexable': True,\n",
       " 'is_self': False,\n",
       " 'is_video': False,\n",
       " 'link_flair_background_color': '',\n",
       " 'link_flair_richtext': [{'e': 'text', 't': 'Problem'}],\n",
       " 'link_flair_template_id': 'ac378f8c-946d-11e3-8576-12313d1661cc',\n",
       " 'link_flair_text': 'Problem',\n",
       " 'link_flair_text_color': 'dark',\n",
       " 'link_flair_type': 'richtext',\n",
       " 'locked': False,\n",
       " 'media_only': False,\n",
       " 'no_follow': True,\n",
       " 'num_comments': 12,\n",
       " 'num_crossposts': 0,\n",
       " 'over_18': False,\n",
       " 'parent_whitelist_status': 'all_ads',\n",
       " 'permalink': '/r/mathematics/comments/qsdgt9/help_defining_the_links_in_this_graph_more_in/',\n",
       " 'pinned': False,\n",
       " 'post_hint': 'image',\n",
       " 'preview': {'enabled': True,\n",
       "  'images': [{'id': 'Gu9fLpBngj6dx2ll_SXPb86dlSbGsey2IhFu4PiQfZ8',\n",
       "    'resolutions': [{'height': 49,\n",
       "      'url': 'https://preview.redd.it/m5zpi2knm6z71.jpg?width=108&amp;crop=smart&amp;auto=webp&amp;s=810fbed994d4f248d1bfee2cfde28cd34f890a94',\n",
       "      'width': 108},\n",
       "     {'height': 99,\n",
       "      'url': 'https://preview.redd.it/m5zpi2knm6z71.jpg?width=216&amp;crop=smart&amp;auto=webp&amp;s=805e3bc4675a6c35f550e4f08cf775ebad16efab',\n",
       "      'width': 216},\n",
       "     {'height': 147,\n",
       "      'url': 'https://preview.redd.it/m5zpi2knm6z71.jpg?width=320&amp;crop=smart&amp;auto=webp&amp;s=1c71c308a8b28b4beaf0c969ac4b04af043f0e33',\n",
       "      'width': 320},\n",
       "     {'height': 295,\n",
       "      'url': 'https://preview.redd.it/m5zpi2knm6z71.jpg?width=640&amp;crop=smart&amp;auto=webp&amp;s=fe4a4c2e6a81923e5477f029508a40c768694a16',\n",
       "      'width': 640},\n",
       "     {'height': 443,\n",
       "      'url': 'https://preview.redd.it/m5zpi2knm6z71.jpg?width=960&amp;crop=smart&amp;auto=webp&amp;s=69752a6f39419bc9c0f53e1bd115ad3edffcb7e4',\n",
       "      'width': 960},\n",
       "     {'height': 498,\n",
       "      'url': 'https://preview.redd.it/m5zpi2knm6z71.jpg?width=1080&amp;crop=smart&amp;auto=webp&amp;s=a5116390aaef2d7cdf6a89dfefdef713beb1dc58',\n",
       "      'width': 1080}],\n",
       "    'source': {'height': 633,\n",
       "     'url': 'https://preview.redd.it/m5zpi2knm6z71.jpg?auto=webp&amp;s=90e0808ec0a2062c2f604d91c0cdf1d63c1ee7b9',\n",
       "     'width': 1371},\n",
       "    'variants': {}}]},\n",
       " 'pwls': 6,\n",
       " 'retrieved_on': 1636730536,\n",
       " 'score': 1,\n",
       " 'selftext': '',\n",
       " 'send_replies': True,\n",
       " 'spoiler': False,\n",
       " 'stickied': False,\n",
       " 'subreddit': 'mathematics',\n",
       " 'subreddit_id': 't5_2qjc8',\n",
       " 'subreddit_subscribers': 77253,\n",
       " 'subreddit_type': 'public',\n",
       " 'suggested_sort': 'top',\n",
       " 'thumbnail': 'https://b.thumbs.redditmedia.com/g0ZuPAVQZtnB7ddlKgfPkqVEYuJqHhtaM4TSnCkLhMI.jpg',\n",
       " 'thumbnail_height': 64,\n",
       " 'thumbnail_width': 140,\n",
       " 'title': 'Help defining the links in this graph (more in comment)',\n",
       " 'total_awards_received': 0,\n",
       " 'treatment_tags': [],\n",
       " 'upvote_ratio': 1.0,\n",
       " 'url': 'https://i.redd.it/m5zpi2knm6z71.jpg',\n",
       " 'url_overridden_by_dest': 'https://i.redd.it/m5zpi2knm6z71.jpg',\n",
       " 'whitelist_status': 'all_ads',\n",
       " 'wls': 6}"
      ]
     },
     "execution_count": 8,
     "metadata": {},
     "output_type": "execute_result"
    }
   ],
   "source": [
    "post_list[0]"
   ]
  },
  {
   "cell_type": "code",
   "execution_count": null,
   "id": "06432dea-e417-4fa7-91b2-2bf3a973334b",
   "metadata": {},
   "outputs": [],
   "source": []
  }
 ],
 "metadata": {
  "kernelspec": {
   "display_name": "Python 3 (ipykernel)",
   "language": "python",
   "name": "python3"
  },
  "language_info": {
   "codemirror_mode": {
    "name": "ipython",
    "version": 3
   },
   "file_extension": ".py",
   "mimetype": "text/x-python",
   "name": "python",
   "nbconvert_exporter": "python",
   "pygments_lexer": "ipython3",
   "version": "3.9.12"
  }
 },
 "nbformat": 4,
 "nbformat_minor": 5
}
