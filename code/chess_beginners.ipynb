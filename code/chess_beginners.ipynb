{
 "cells": [
  {
   "cell_type": "code",
   "execution_count": 4,
   "id": "a5cb9eb7-3135-455d-a647-0eafc4a416a5",
   "metadata": {},
   "outputs": [
    {
     "name": "stderr",
     "output_type": "stream",
     "text": [
      "Not all PushShift shards are active. Query results may be incomplete.\n",
      "Not all PushShift shards are active. Query results may be incomplete.\n",
      "Not all PushShift shards are active. Query results may be incomplete.\n",
      "Not all PushShift shards are active. Query results may be incomplete.\n",
      "Not all PushShift shards are active. Query results may be incomplete.\n",
      "Not all PushShift shards are active. Query results may be incomplete.\n",
      "Not all PushShift shards are active. Query results may be incomplete.\n",
      "Not all PushShift shards are active. Query results may be incomplete.\n",
      "Not all PushShift shards are active. Query results may be incomplete.\n",
      "Not all PushShift shards are active. Query results may be incomplete.\n",
      "Not all PushShift shards are active. Query results may be incomplete.\n",
      "Not all PushShift shards are active. Query results may be incomplete.\n",
      "Not all PushShift shards are active. Query results may be incomplete.\n",
      "Not all PushShift shards are active. Query results may be incomplete.\n",
      "Not all PushShift shards are active. Query results may be incomplete.\n",
      "Not all PushShift shards are active. Query results may be incomplete.\n"
     ]
    },
    {
     "data": {
      "text/plain": [
       "29732"
      ]
     },
     "execution_count": 4,
     "metadata": {},
     "output_type": "execute_result"
    }
   ],
   "source": [
    "import pandas as pd\n",
    "import matplotlib.pyplot as plt\n",
    "from pmaw import PushshiftAPI\n",
    "api = PushshiftAPI()\n",
    "\n",
    "\n",
    "def fxn(item):\n",
    "    return (item['score'] > 0) & (item['over_18'] == False)\n",
    "posts = api.search_submissions(filter_fn=fxn, subreddit=\"chessbeginners\", limit=50000)\n",
    "post_list = [post for post in posts]\n",
    "\n",
    "len(post_list)\n"
   ]
  },
  {
   "cell_type": "code",
   "execution_count": 30,
   "id": "c6e58cf0-2789-408f-8925-8a64d55c88bb",
   "metadata": {},
   "outputs": [
    {
     "name": "stdout",
     "output_type": "stream",
     "text": [
      "i = 27000\n",
      "Chess.com Subscription Worth It?\n",
      "\thttps://www.reddit.com/r/chessbeginners/comments/fs1213/chesscom_subscription_worth_it/\n",
      "i = 27001\n",
      "Bishop and Knight Checkmate! Also make sure to subscribe, leave a like, and comment if you want to learn anything about chess! -ChessRook-e\n",
      "\thttps://www.reddit.com/r/chessbeginners/comments/frvbzo/bishop_and_knight_checkmate_also_make_sure_to/\n",
      "i = 27002\n",
      "Looks like I accidentally posted the Trap Tuesday video early 🤣. Anyway hope you guys enjoy! ♟️\n",
      "\thttps://www.reddit.com/r/chessbeginners/comments/frs10m/looks_like_i_accidentally_posted_the_trap_tuesday/\n",
      "i = 27003\n",
      "Reached this position gaining the bishop pair, now I'm overwhelmed with candidate moves and no idea how to calculate/choose. Help!\n",
      "\thttps://www.reddit.com/r/chessbeginners/comments/frr9y2/reached_this_position_gaining_the_bishop_pair_now/\n",
      "i = 27004\n",
      "Which opening would you recommend for black for beginners?\n",
      "\thttps://www.reddit.com/r/chessbeginners/comments/frp97j/which_opening_would_you_recommend_for_black_for/\n",
      "i = 27005\n",
      "Which app can you use to play people online?\n",
      "\thttps://www.reddit.com/r/chessbeginners/comments/frd0qg/which_app_can_you_use_to_play_people_online/\n",
      "i = 27006\n",
      "Where to start\n",
      "\thttps://www.reddit.com/r/chessbeginners/comments/frbh2v/where_to_start/\n",
      "i = 27007\n",
      "Is it a good idea to trade queen for queen?\n",
      "\thttps://www.reddit.com/r/chessbeginners/comments/fr6nv9/is_it_a_good_idea_to_trade_queen_for_queen/\n",
      "i = 27008\n",
      "How to \"fix\" the fact that I make a blunder (lose a piece) but only realise it the millisecond after I make it?\n",
      "\thttps://www.reddit.com/r/chessbeginners/comments/fr6hzg/how_to_fix_the_fact_that_i_make_a_blunder_lose_a/\n",
      "i = 27009\n",
      "Alireza Firouzja [Fantastic Star with Controversial Game]\n",
      "\thttps://www.reddit.com/r/chessbeginners/comments/fr4x0p/alireza_firouzja_fantastic_star_with/\n"
     ]
    }
   ],
   "source": [
    "df = pd.DataFrame(post_list)\n",
    "start = 27000\n",
    "inc = 10\n",
    "for i in range(start,start+inc):\n",
    "    print(f'i = {i}')\n",
    "    print(df['title'].iloc[i])\n",
    "    print(f'\\t{df[\"full_link\"].iloc[i]}')"
   ]
  },
  {
   "cell_type": "code",
   "execution_count": 11,
   "id": "1fc36628-4f42-413d-b46c-bc620a796ac3",
   "metadata": {},
   "outputs": [
    {
     "data": {
      "text/plain": [
       "[('all_awardings', []),\n",
       " ('allow_live_comments', False),\n",
       " ('author', 'AbleCancel'),\n",
       " ('author_flair_css_class', None),\n",
       " ('author_flair_richtext', []),\n",
       " ('author_flair_text', None),\n",
       " ('author_flair_type', 'text'),\n",
       " ('author_fullname', 't2_3a4dlj64'),\n",
       " ('author_is_blocked', False),\n",
       " ('author_patreon_flair', False),\n",
       " ('author_premium', False),\n",
       " ('awarders', []),\n",
       " ('can_mod_post', False),\n",
       " ('contest_mode', False),\n",
       " ('created_utc', 1639630604),\n",
       " ('domain', 'i.redd.it'),\n",
       " ('full_link',\n",
       "  'https://www.reddit.com/r/chessbeginners/comments/rhizof/puzzle_from_one_of_my_own_games_i_was_white_and/'),\n",
       " ('gildings', {}),\n",
       " ('id', 'rhizof'),\n",
       " ('is_created_from_ads_ui', False),\n",
       " ('is_crosspostable', True),\n",
       " ('is_meta', False),\n",
       " ('is_original_content', False),\n",
       " ('is_reddit_media_domain', True),\n",
       " ('is_robot_indexable', True),\n",
       " ('is_self', False),\n",
       " ('is_video', False),\n",
       " ('link_flair_background_color', ''),\n",
       " ('link_flair_richtext', []),\n",
       " ('link_flair_text_color', 'dark'),\n",
       " ('link_flair_type', 'text'),\n",
       " ('locked', False),\n",
       " ('media_only', False),\n",
       " ('no_follow', True),\n",
       " ('num_comments', 1),\n",
       " ('num_crossposts', 0.0),\n",
       " ('over_18', False),\n",
       " ('parent_whitelist_status', 'all_ads'),\n",
       " ('permalink',\n",
       "  '/r/chessbeginners/comments/rhizof/puzzle_from_one_of_my_own_games_i_was_white_and/'),\n",
       " ('pinned', False),\n",
       " ('post_hint', 'image'),\n",
       " ('preview',\n",
       "  {'enabled': True,\n",
       "   'images': [{'id': '51EPREo5std6gdHuZuNDYy0k2H4lj9RfcAeQrDpZGSA',\n",
       "     'resolutions': [{'height': 108,\n",
       "       'url': 'https://preview.redd.it/fxskcuw26u581.jpg?width=108&amp;crop=smart&amp;auto=webp&amp;s=27033033fb85ce790a0892c6b601952d0fdbd455',\n",
       "       'width': 108},\n",
       "      {'height': 216,\n",
       "       'url': 'https://preview.redd.it/fxskcuw26u581.jpg?width=216&amp;crop=smart&amp;auto=webp&amp;s=c9b1dfc50875d1b8333a30211e4147bd3c6321e6',\n",
       "       'width': 216},\n",
       "      {'height': 320,\n",
       "       'url': 'https://preview.redd.it/fxskcuw26u581.jpg?width=320&amp;crop=smart&amp;auto=webp&amp;s=4cd23c623bdc6e5298b5a4f6b5f12ae1a71fbb41',\n",
       "       'width': 320},\n",
       "      {'height': 640,\n",
       "       'url': 'https://preview.redd.it/fxskcuw26u581.jpg?width=640&amp;crop=smart&amp;auto=webp&amp;s=9b61ac08ee868810d1cca5b90522780bfbfaf75e',\n",
       "       'width': 640}],\n",
       "     'source': {'height': 742,\n",
       "      'url': 'https://preview.redd.it/fxskcuw26u581.jpg?auto=webp&amp;s=676738b7a440ec6f27ddb613fd0dda8a3b0020d6',\n",
       "      'width': 741},\n",
       "     'variants': {}}]}),\n",
       " ('pwls', 6.0),\n",
       " ('removed_by_category', nan),\n",
       " ('retrieved_on', 1639630615),\n",
       " ('score', 1),\n",
       " ('selftext', ''),\n",
       " ('send_replies', True),\n",
       " ('spoiler', False),\n",
       " ('stickied', False),\n",
       " ('subreddit', 'chessbeginners'),\n",
       " ('subreddit_id', 't5_35d04'),\n",
       " ('subreddit_subscribers', 94933.0),\n",
       " ('subreddit_type', 'public'),\n",
       " ('thumbnail',\n",
       "  'https://b.thumbs.redditmedia.com/5_-ADw4aU-leUAM8t9mKLBUYmNOl979ZfMELUs6_qQc.jpg'),\n",
       " ('thumbnail_height', 140.0),\n",
       " ('thumbnail_width', 140.0),\n",
       " ('title',\n",
       "  'Puzzle from one of my own games. I was white and failed to see this mate in 3 until later. It was a casual game so we didn’t really finish and just decided to discuss the position instead. Can you find the mate in 3?'),\n",
       " ('total_awards_received', 0.0),\n",
       " ('treatment_tags', []),\n",
       " ('upvote_ratio', 1.0),\n",
       " ('url', 'https://i.redd.it/fxskcuw26u581.jpg'),\n",
       " ('url_overridden_by_dest', 'https://i.redd.it/fxskcuw26u581.jpg'),\n",
       " ('whitelist_status', 'all_ads'),\n",
       " ('wls', 6.0),\n",
       " ('author_flair_background_color', nan),\n",
       " ('author_flair_text_color', nan),\n",
       " ('media_metadata', nan),\n",
       " ('crosspost_parent', nan),\n",
       " ('crosspost_parent_list', nan),\n",
       " ('media', nan),\n",
       " ('media_embed', nan),\n",
       " ('secure_media', nan),\n",
       " ('secure_media_embed', nan),\n",
       " ('is_gallery', nan),\n",
       " ('gallery_data', nan),\n",
       " ('author_cakeday', nan),\n",
       " ('poll_data', nan),\n",
       " ('banned_by', nan),\n",
       " ('edited', nan),\n",
       " ('steward_reports', nan),\n",
       " ('removed_by', nan),\n",
       " ('updated_utc', nan),\n",
       " ('og_description', nan),\n",
       " ('og_title', nan),\n",
       " ('distinguished', nan),\n",
       " ('gilded', nan),\n",
       " ('brand_safe', nan),\n",
       " ('rte_mode', nan),\n",
       " ('author_id', nan),\n",
       " ('author_created_utc', nan),\n",
       " ('suggested_sort', nan),\n",
       " ('approved_at_utc', nan),\n",
       " ('banned_at_utc', nan)]"
      ]
     },
     "execution_count": 35,
     "metadata": {},
     "output_type": "execute_result"
    }
   ],
   "source": [
    "list(zip(df.columns,df.iloc[3033]))"
   ]
  },
  {
   "cell_type": "code",
   "execution_count": 31,
   "id": "20638505-5ca5-4c65-8ec9-b4d01b42ea5a",
   "metadata": {},
   "outputs": [
    {
     "data": {
      "text/plain": [
       "(array([8495., 2823., 1207.,  581.,  335.,  235.,  107.,  128.,  114.,\n",
       "          92.,   70.,   66.,   54.,   21.,   30.,   28.,   25.,   21.,\n",
       "          17.,   18.]),\n",
       " array([ 2.  ,  6.85, 11.7 , 16.55, 21.4 , 26.25, 31.1 , 35.95, 40.8 ,\n",
       "        45.65, 50.5 , 55.35, 60.2 , 65.05, 69.9 , 74.75, 79.6 , 84.45,\n",
       "        89.3 , 94.15, 99.  ]),\n",
       " <BarContainer object of 20 artists>)"
      ]
     },
     "execution_count": 31,
     "metadata": {},
     "output_type": "execute_result"
    },
    {
     "data": {
      "image/png": "[encoded data removed]",
      "text/plain": [
       "<Figure size 432x288 with 1 Axes>"
      ]
     },
     "metadata": {
      "needs_background": "light"
     },
     "output_type": "display_data"
    }
   ],
   "source": [
    "# import seaborn as sns\n",
    "# sns.histplot(df['num_comments'])\n",
    "df2 = df[(df['num_comments'] > 1) & (df['num_comments'] < 100)]\n",
    "plt.hist((df2['num_comments']), bins = 20)\n",
    "# df['num_comments'].value_counts()"
   ]
  },
  {
   "cell_type": "code",
   "execution_count": 25,
   "id": "cea86480-50f7-4f38-9979-ee0f806fee65",
   "metadata": {},
   "outputs": [
    {
     "data": {
      "text/plain": [
       "15174"
      ]
     },
     "execution_count": 25,
     "metadata": {},
     "output_type": "execute_result"
    }
   ],
   "source": [
    "len(df[(df['num_comments']==0) | (df['num_comments']==1)])"
   ]
  },
  {
   "cell_type": "code",
   "execution_count": 40,
   "id": "1ce97399-e8bf-41d1-b386-9a7036a3d855",
   "metadata": {},
   "outputs": [
    {
     "data": {
      "text/plain": [
       "False    15111\n",
       "Name: author_is_blocked, dtype: int64"
      ]
     },
     "execution_count": 40,
     "metadata": {},
     "output_type": "execute_result"
    }
   ],
   "source": [
    "df['author_is_blocked'].value_counts()"
   ]
  },
  {
   "cell_type": "code",
   "execution_count": 57,
   "id": "8f7ea2f1-d678-49f1-b646-3305b513f915",
   "metadata": {},
   "outputs": [],
   "source": [
    "df2 = df[['title', 'created_utc', 'full_link', 'num_comments' ]]"
   ]
  },
  {
   "cell_type": "code",
   "execution_count": 50,
   "id": "0cda2914-74ee-4be4-b79d-400206c599b0",
   "metadata": {},
   "outputs": [
    {
     "data": {
      "text/plain": [
       "False    15111\n",
       "Name: author_is_blocked, dtype: int64"
      ]
     },
     "execution_count": 50,
     "metadata": {},
     "output_type": "execute_result"
    }
   ],
   "source": [
    "df[[type(x)==bool for x in df['author_is_blocked']]]['author_is_blocked'].value_counts()"
   ]
  },
  {
   "cell_type": "code",
   "execution_count": 55,
   "id": "8f752d85-2998-4f04-b11d-b92b385d7af7",
   "metadata": {},
   "outputs": [
    {
     "data": {
      "text/plain": [
       "False    29397\n",
       "Name: media_only, dtype: int64"
      ]
     },
     "execution_count": 55,
     "metadata": {},
     "output_type": "execute_result"
    }
   ],
   "source": [
    "df['media_only'].value_counts()"
   ]
  },
  {
   "cell_type": "code",
   "execution_count": 56,
   "id": "e1dc5cdf-bc4c-4d31-b56f-9decbad2b13e",
   "metadata": {},
   "outputs": [
    {
     "data": {
      "text/plain": [
       "29732"
      ]
     },
     "execution_count": 56,
     "metadata": {},
     "output_type": "execute_result"
    }
   ],
   "source": [
    "len(df)"
   ]
  },
  {
   "cell_type": "code",
   "execution_count": 60,
   "id": "26d64597-c7d6-46ec-902a-bf0e5dd058c5",
   "metadata": {},
   "outputs": [],
   "source": [
    "df2.to_csv('../data/reddit_chessbeginners.csv')"
   ]
  },
  {
   "cell_type": "code",
   "execution_count": null,
   "id": "7a1d8c90-43f9-4a5d-a001-1aeb6bba279b",
   "metadata": {},
   "outputs": [],
   "source": []
  }
 ],
 "metadata": {
  "kernelspec": {
   "display_name": "Python 3 (ipykernel)",
   "language": "python",
   "name": "python3"
  },
  "language_info": {
   "codemirror_mode": {
    "name": "ipython",
    "version": 3
   },
   "file_extension": ".py",
   "mimetype": "text/x-python",
   "name": "python",
   "nbconvert_exporter": "python",
   "pygments_lexer": "ipython3",
   "version": "3.9.12"
  }
 },
 "nbformat": 4,
 "nbformat_minor": 5
}
