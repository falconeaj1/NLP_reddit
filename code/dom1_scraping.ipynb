{
 "cells": [
  {
   "cell_type": "markdown",
   "id": "d18ef55c-6812-492f-8a5d-937aa64899b3",
   "metadata": {},
   "source": [
    "# Imports and Scraping"
   ]
  },
  {
   "cell_type": "code",
   "execution_count": 92,
   "id": "4de781ef-61fe-40e0-a610-e95f9bbe6d26",
   "metadata": {},
   "outputs": [],
   "source": [
    "import praw\n",
    "import pytz\n",
    "import datetime as dt"
   ]
  },
  {
   "cell_type": "code",
   "execution_count": 1,
   "id": "92a84dfe-de8b-4efe-902c-81282c36b355",
   "metadata": {},
   "outputs": [
    {
     "name": "stderr",
     "output_type": "stream",
     "text": [
      "Not all PushShift shards are active. Query results may be incomplete.\n",
      "Not all PushShift shards are active. Query results may be incomplete.\n",
      "Not all PushShift shards are active. Query results may be incomplete.\n",
      "Not all PushShift shards are active. Query results may be incomplete.\n",
      "Not all PushShift shards are active. Query results may be incomplete.\n",
      "Not all PushShift shards are active. Query results may be incomplete.\n",
      "Not all PushShift shards are active. Query results may be incomplete.\n",
      "Not all PushShift shards are active. Query results may be incomplete.\n",
      "Not all PushShift shards are active. Query results may be incomplete.\n",
      "Not all PushShift shards are active. Query results may be incomplete.\n",
      "Not all PushShift shards are active. Query results may be incomplete.\n",
      "Not all PushShift shards are active. Query results may be incomplete.\n",
      "Not all PushShift shards are active. Query results may be incomplete.\n",
      "Not all PushShift shards are active. Query results may be incomplete.\n",
      "Not all PushShift shards are active. Query results may be incomplete.\n",
      "Not all PushShift shards are active. Query results may be incomplete.\n",
      "Not all PushShift shards are active. Query results may be incomplete.\n",
      "Not all PushShift shards are active. Query results may be incomplete.\n",
      "Not all PushShift shards are active. Query results may be incomplete.\n",
      "Not all PushShift shards are active. Query results may be incomplete.\n",
      "Not all PushShift shards are active. Query results may be incomplete.\n",
      "Not all PushShift shards are active. Query results may be incomplete.\n",
      "Not all PushShift shards are active. Query results may be incomplete.\n",
      "Not all PushShift shards are active. Query results may be incomplete.\n"
     ]
    },
    {
     "data": {
      "text/plain": [
       "7121"
      ]
     },
     "execution_count": 1,
     "metadata": {},
     "output_type": "execute_result"
    }
   ],
   "source": [
    "import pandas as pd\n",
    "import matplotlib.pyplot as plt\n",
    "from pmaw import PushshiftAPI\n",
    "api = PushshiftAPI()\n",
    "\n",
    "\n",
    "def fxn(item):\n",
    "    return (item['score'] > 0) & (item['over_18'] == False)\n",
    "posts = api.search_submissions(filter_fn=fxn, subreddit=\"dominion\", limit=50000)\n",
    "post_list = [post for post in posts]\n",
    "\n",
    "len(post_list)\n"
   ]
  },
  {
   "cell_type": "markdown",
   "id": "e66498be-1d19-4652-8b61-13f3892a2a76",
   "metadata": {},
   "source": [
    "### Note that the length of posts is 7121 slightly less of the desired 10k.\n",
    "Approval was granted by Caroline Schmitt on 9/6 to use lower amount of data."
   ]
  },
  {
   "cell_type": "markdown",
   "id": "0e4164fe-5ee5-45c7-b302-c7b73898b6e2",
   "metadata": {},
   "source": [
    "## Examining titles/links of ten posts"
   ]
  },
  {
   "cell_type": "code",
   "execution_count": 105,
   "id": "028c29dd-e812-4321-8e3e-32e750ffec80",
   "metadata": {},
   "outputs": [
    {
     "name": "stdout",
     "output_type": "stream",
     "text": [
      "i = 6480\n",
      "U.S. Printer Issue?\n",
      "\thttps://www.reddit.com/r/dominion/comments/38jhnu/us_printer_issue/\n",
      "i = 6481\n",
      "I need help deciding which expansion to get next\n",
      "\thttps://www.reddit.com/r/dominion/comments/38eohs/i_need_help_deciding_which_expansion_to_get_next/\n",
      "i = 6482\n",
      "Interesting [Base/Prosperity/Seaside/Dark Ages/Adventures] Kingdom\n",
      "\thttps://www.reddit.com/r/dominion/comments/38d8yr/interesting_baseprosperityseasidedark/\n",
      "i = 6483\n",
      "Are there any cards that you have NEVER bought?\n",
      "\thttps://www.reddit.com/r/dominion/comments/3882v9/are_there_any_cards_that_you_have_never_bought/\n",
      "i = 6484\n",
      "Can you chain a remodel?\n",
      "\thttps://www.reddit.com/r/dominion/comments/385pb3/can_you_chain_a_remodel/\n",
      "i = 6485\n",
      "KotW 5/31: Border Village, Cache, Highway, Horn of Plenty, Horse Traders, Mandarin, Menagerie, Remake, Scheme, Spice Merchant. [Cornucopia, Hinterlands]\n",
      "\thttps://www.reddit.com/r/dominion/comments/381jer/kotw_531_border_village_cache_highway_horn_of/\n",
      "i = 6486\n",
      "I love Dominion, but I don't seem to understand the deeper parts of the game as well as my game group does. Any suggestions on how I can get better at strategy?\n",
      "\thttps://www.reddit.com/r/dominion/comments/380ore/i_love_dominion_but_i_dont_seem_to_understand_the/\n",
      "i = 6487\n",
      "A fun turn and my opponents' reaction\n",
      "\thttps://www.reddit.com/r/dominion/comments/37vphm/a_fun_turn_and_my_opponents_reaction/\n",
      "i = 6488\n",
      "Goko Version 2 open beta starting June 11\n",
      "\thttps://www.reddit.com/r/dominion/comments/37s9ls/goko_version_2_open_beta_starting_june_11/\n",
      "i = 6489\n",
      "A DIY storage solution for ALL dominion sets.\n",
      "\thttps://www.reddit.com/r/dominion/comments/37rofm/a_diy_storage_solution_for_all_dominion_sets/\n"
     ]
    }
   ],
   "source": [
    "df = pd.DataFrame(post_list)\n",
    "start = 6480\n",
    "inc = 10\n",
    "for i in range(start,start+inc):\n",
    "    print(f'i = {i}')\n",
    "    print(df['title'].iloc[i])\n",
    "    print(f'\\t{df[\"full_link\"].iloc[i]}')"
   ]
  },
  {
   "cell_type": "markdown",
   "id": "52844bc1-59a7-41a3-ac72-77ee3a473216",
   "metadata": {},
   "source": [
    "## Examining data in one random post"
   ]
  },
  {
   "cell_type": "code",
   "execution_count": 50,
   "id": "9eaac40c-8aea-4a34-8899-7c2ea2a41c0a",
   "metadata": {},
   "outputs": [
    {
     "data": {
      "text/plain": [
       "[('all_awardings', []),\n",
       " ('allow_live_comments', False),\n",
       " ('author', 'Knavenstine'),\n",
       " ('author_flair_css_class', None),\n",
       " ('author_flair_richtext', []),\n",
       " ('author_flair_text', None),\n",
       " ('author_flair_type', 'text'),\n",
       " ('author_fullname', 't2_2ldkc4qq'),\n",
       " ('author_is_blocked', nan),\n",
       " ('author_patreon_flair', False),\n",
       " ('author_premium', False),\n",
       " ('awarders', []),\n",
       " ('can_mod_post', False),\n",
       " ('contest_mode', False),\n",
       " ('created_utc', 1596144932),\n",
       " ('domain', 'self.dominion'),\n",
       " ('full_link',\n",
       "  'https://www.reddit.com/r/dominion/comments/i0ur6i/sleeve_help/'),\n",
       " ('gildings', {}),\n",
       " ('id', 'i0ur6i'),\n",
       " ('is_created_from_ads_ui', nan),\n",
       " ('is_crosspostable', True),\n",
       " ('is_meta', False),\n",
       " ('is_original_content', False),\n",
       " ('is_reddit_media_domain', False),\n",
       " ('is_robot_indexable', True),\n",
       " ('is_self', True),\n",
       " ('is_video', False),\n",
       " ('link_flair_background_color', ''),\n",
       " ('link_flair_richtext', []),\n",
       " ('link_flair_text_color', 'dark'),\n",
       " ('link_flair_type', 'text'),\n",
       " ('locked', False),\n",
       " ('media_only', False),\n",
       " ('no_follow', True),\n",
       " ('num_comments', 2),\n",
       " ('num_crossposts', 0.0),\n",
       " ('over_18', False),\n",
       " ('parent_whitelist_status', 'all_ads'),\n",
       " ('permalink', '/r/dominion/comments/i0ur6i/sleeve_help/'),\n",
       " ('pinned', False),\n",
       " ('pwls', 6.0),\n",
       " ('retrieved_on', 1596144943.0),\n",
       " ('score', 1),\n",
       " ('selftext',\n",
       "  \"So I've got Base, Prosperity &amp; Dark Ages nicely sleeved up with mayday black sleeves. Finally get my copy of menagerie along with some new mayday sleeves. Turns out they've completely changed their design and are these horrible glossy things! \\n\\nDoes anyone have any recommendations for some matte black Dominion sleeves that are the same size as the Mayday ones? Not having much luck looking online. I can't use those glossy ones!\"),\n",
       " ('send_replies', True),\n",
       " ('spoiler', False),\n",
       " ('stickied', False),\n",
       " ('subreddit', 'dominion'),\n",
       " ('subreddit_id', 't5_2s75q'),\n",
       " ('subreddit_subscribers', 10234.0),\n",
       " ('subreddit_type', 'public'),\n",
       " ('thumbnail', 'self'),\n",
       " ('title', 'Sleeve help!'),\n",
       " ('total_awards_received', 0.0),\n",
       " ('treatment_tags', []),\n",
       " ('upvote_ratio', 1.0),\n",
       " ('url', 'https://www.reddit.com/r/dominion/comments/i0ur6i/sleeve_help/'),\n",
       " ('whitelist_status', 'all_ads'),\n",
       " ('wls', 6.0),\n",
       " ('media_metadata', nan),\n",
       " ('thumbnail_height', nan),\n",
       " ('thumbnail_width', nan),\n",
       " ('author_flair_template_id', nan),\n",
       " ('author_flair_text_color', nan),\n",
       " ('author_flair_background_color', nan),\n",
       " ('post_hint', nan),\n",
       " ('preview', nan),\n",
       " ('url_overridden_by_dest', nan),\n",
       " ('distinguished', nan),\n",
       " ('link_flair_css_class', nan),\n",
       " ('link_flair_template_id', nan),\n",
       " ('link_flair_text', nan),\n",
       " ('media', nan),\n",
       " ('media_embed', nan),\n",
       " ('secure_media', nan),\n",
       " ('secure_media_embed', nan),\n",
       " ('removed_by_category', nan),\n",
       " ('edited', nan),\n",
       " ('gallery_data', nan),\n",
       " ('is_gallery', nan),\n",
       " ('author_cakeday', nan),\n",
       " ('poll_data', nan),\n",
       " ('crosspost_parent', nan),\n",
       " ('crosspost_parent_list', nan),\n",
       " ('steward_reports', nan),\n",
       " ('updated_utc', nan),\n",
       " ('og_description', nan),\n",
       " ('og_title', nan),\n",
       " ('removed_by', nan),\n",
       " ('gilded', nan),\n",
       " ('brand_safe', nan),\n",
       " ('suggested_sort', nan),\n",
       " ('rte_mode', nan),\n",
       " ('previous_visits', nan),\n",
       " ('author_id', nan),\n",
       " ('author_created_utc', nan),\n",
       " ('approved_at_utc', nan),\n",
       " ('banned_at_utc', nan),\n",
       " ('view_count', nan),\n",
       " ('mod_reports', nan),\n",
       " ('user_reports', nan)]"
      ]
     },
     "execution_count": 50,
     "metadata": {},
     "output_type": "execute_result"
    }
   ],
   "source": [
    "list(zip(df.columns,df.iloc[3460]))"
   ]
  },
  {
   "cell_type": "markdown",
   "id": "ac3e2f06-438a-4dad-b4f4-0abdd1741af4",
   "metadata": {},
   "source": [
    "### Examining data"
   ]
  },
  {
   "cell_type": "code",
   "execution_count": 128,
   "id": "14f4b968-db80-4f93-9bbc-75f19307fe09",
   "metadata": {},
   "outputs": [
    {
     "data": {
      "text/plain": [
       "0      1643\n",
       "5       339\n",
       "7       320\n",
       "6       319\n",
       "4       315\n",
       "       ... \n",
       "88        1\n",
       "71        1\n",
       "110       1\n",
       "59        1\n",
       "104       1\n",
       "Name: num_comments, Length: 103, dtype: int64"
      ]
     },
     "execution_count": 128,
     "metadata": {},
     "output_type": "execute_result"
    }
   ],
   "source": [
    "df['num_comments'].value_counts()"
   ]
  },
  {
   "cell_type": "code",
   "execution_count": 45,
   "id": "9f8b5271-bce4-440e-bbc5-edb554417bd7",
   "metadata": {},
   "outputs": [],
   "source": [
    "med = df['num_comments'].median()"
   ]
  },
  {
   "cell_type": "code",
   "execution_count": 46,
   "id": "f108056b-5ea7-4b04-ac26-49da4ff6ec72",
   "metadata": {},
   "outputs": [
    {
     "data": {
      "text/plain": [
       "(3693, 101)"
      ]
     },
     "execution_count": 46,
     "metadata": {},
     "output_type": "execute_result"
    }
   ],
   "source": [
    "df[df['num_comments'] <= med].shape"
   ]
  },
  {
   "cell_type": "code",
   "execution_count": 47,
   "id": "1181c444-9f12-4c05-b2b4-ed78ee653b7a",
   "metadata": {},
   "outputs": [
    {
     "data": {
      "text/plain": [
       "(3428, 101)"
      ]
     },
     "execution_count": 47,
     "metadata": {},
     "output_type": "execute_result"
    }
   ],
   "source": [
    "df[df['num_comments'] > med].shape"
   ]
  },
  {
   "cell_type": "code",
   "execution_count": 117,
   "id": "f7f54909-22af-4fd2-b825-fd9e4a8f32ae",
   "metadata": {},
   "outputs": [],
   "source": [
    "df['body_len'] = df['selftext'].apply(lambda val: 0 if type(val) == float else len(val))"
   ]
  },
  {
   "cell_type": "code",
   "execution_count": 118,
   "id": "80df3fe9-6407-411b-b1d0-1b2982886032",
   "metadata": {},
   "outputs": [],
   "source": [
    "df['has_media'] = df['media'].apply(lambda val: 1 if val == val else 0)"
   ]
  },
  {
   "cell_type": "markdown",
   "id": "1714841d-4aa8-40b2-adc5-cdbbf6087d58",
   "metadata": {
    "tags": []
   },
   "source": [
    "## Creating Time Columns"
   ]
  },
  {
   "cell_type": "code",
   "execution_count": 119,
   "id": "eba68367-d0e2-4341-82b6-51d8b38c4c83",
   "metadata": {},
   "outputs": [],
   "source": [
    "# Modified code from: https://stackoverflow.com/questions/52451105/python-converting-utc-millisecond-timestamp-to-local-time\n",
    "def tz_from_utc_s_ts(utc_s_ts, tz_info):\n",
    "    \"\"\"Given second utc timestamp and a timezone return dateime\n",
    "\n",
    "    :param utc_s_ts: Unix UTC timestamp in seconds\n",
    "    :param tz_info: timezone info\n",
    "    :return: timezone aware datetime\n",
    "    \"\"\"\n",
    "    # convert from time stamp to datetime\n",
    "    utc_datetime = dt.datetime.utcfromtimestamp(utc_s_ts)\n",
    "\n",
    "    # set the timezone to UTC, and then convert to desired timezone\n",
    "    return utc_datetime.replace(tzinfo=pytz.timezone('UTC')).astimezone(tz_info)"
   ]
  },
  {
   "cell_type": "code",
   "execution_count": 120,
   "id": "8844b049-b096-49a5-922d-cae46e59692f",
   "metadata": {},
   "outputs": [
    {
     "data": {
      "text/html": [
       "<div>\n",
       "<style scoped>\n",
       "    .dataframe tbody tr th:only-of-type {\n",
       "        vertical-align: middle;\n",
       "    }\n",
       "\n",
       "    .dataframe tbody tr th {\n",
       "        vertical-align: top;\n",
       "    }\n",
       "\n",
       "    .dataframe thead th {\n",
       "        text-align: right;\n",
       "    }\n",
       "</style>\n",
       "<table border=\"1\" class=\"dataframe\">\n",
       "  <thead>\n",
       "    <tr style=\"text-align: right;\">\n",
       "      <th></th>\n",
       "      <th>all_awardings</th>\n",
       "      <th>allow_live_comments</th>\n",
       "      <th>author</th>\n",
       "      <th>author_flair_css_class</th>\n",
       "      <th>author_flair_richtext</th>\n",
       "      <th>author_flair_text</th>\n",
       "      <th>author_flair_type</th>\n",
       "      <th>author_fullname</th>\n",
       "      <th>author_is_blocked</th>\n",
       "      <th>author_patreon_flair</th>\n",
       "      <th>...</th>\n",
       "      <th>GMT_time</th>\n",
       "      <th>year</th>\n",
       "      <th>month</th>\n",
       "      <th>day</th>\n",
       "      <th>hour</th>\n",
       "      <th>char_count</th>\n",
       "      <th>word_count</th>\n",
       "      <th>commments_greater</th>\n",
       "      <th>body_len</th>\n",
       "      <th>has_media</th>\n",
       "    </tr>\n",
       "  </thead>\n",
       "  <tbody>\n",
       "    <tr>\n",
       "      <th>0</th>\n",
       "      <td>[]</td>\n",
       "      <td>False</td>\n",
       "      <td>Matcur12</td>\n",
       "      <td>None</td>\n",
       "      <td>[]</td>\n",
       "      <td>None</td>\n",
       "      <td>text</td>\n",
       "      <td>t2_zpx31</td>\n",
       "      <td>False</td>\n",
       "      <td>False</td>\n",
       "      <td>...</td>\n",
       "      <td>2021-10-12 21:08:01+00:00</td>\n",
       "      <td>2021</td>\n",
       "      <td>10</td>\n",
       "      <td>12</td>\n",
       "      <td>21</td>\n",
       "      <td>63</td>\n",
       "      <td>10</td>\n",
       "      <td>0</td>\n",
       "      <td>808</td>\n",
       "      <td>0</td>\n",
       "    </tr>\n",
       "    <tr>\n",
       "      <th>1</th>\n",
       "      <td>[]</td>\n",
       "      <td>False</td>\n",
       "      <td>fermalion</td>\n",
       "      <td>None</td>\n",
       "      <td>[]</td>\n",
       "      <td>None</td>\n",
       "      <td>text</td>\n",
       "      <td>t2_m3ilj</td>\n",
       "      <td>False</td>\n",
       "      <td>False</td>\n",
       "      <td>...</td>\n",
       "      <td>2021-10-12 18:40:29+00:00</td>\n",
       "      <td>2021</td>\n",
       "      <td>10</td>\n",
       "      <td>12</td>\n",
       "      <td>18</td>\n",
       "      <td>55</td>\n",
       "      <td>11</td>\n",
       "      <td>1</td>\n",
       "      <td>1786</td>\n",
       "      <td>0</td>\n",
       "    </tr>\n",
       "    <tr>\n",
       "      <th>2</th>\n",
       "      <td>[]</td>\n",
       "      <td>False</td>\n",
       "      <td>ABoyIsNo1</td>\n",
       "      <td>None</td>\n",
       "      <td>[]</td>\n",
       "      <td>None</td>\n",
       "      <td>text</td>\n",
       "      <td>t2_1idri6nc</td>\n",
       "      <td>False</td>\n",
       "      <td>False</td>\n",
       "      <td>...</td>\n",
       "      <td>2021-10-12 17:18:24+00:00</td>\n",
       "      <td>2021</td>\n",
       "      <td>10</td>\n",
       "      <td>12</td>\n",
       "      <td>17</td>\n",
       "      <td>93</td>\n",
       "      <td>18</td>\n",
       "      <td>1</td>\n",
       "      <td>786</td>\n",
       "      <td>0</td>\n",
       "    </tr>\n",
       "    <tr>\n",
       "      <th>3</th>\n",
       "      <td>[]</td>\n",
       "      <td>False</td>\n",
       "      <td>NovaRogue</td>\n",
       "      <td>None</td>\n",
       "      <td>[]</td>\n",
       "      <td>Trash</td>\n",
       "      <td>text</td>\n",
       "      <td>t2_67a46</td>\n",
       "      <td>False</td>\n",
       "      <td>False</td>\n",
       "      <td>...</td>\n",
       "      <td>2021-10-12 15:53:08+00:00</td>\n",
       "      <td>2021</td>\n",
       "      <td>10</td>\n",
       "      <td>12</td>\n",
       "      <td>15</td>\n",
       "      <td>48</td>\n",
       "      <td>9</td>\n",
       "      <td>1</td>\n",
       "      <td>541</td>\n",
       "      <td>0</td>\n",
       "    </tr>\n",
       "    <tr>\n",
       "      <th>4</th>\n",
       "      <td>[]</td>\n",
       "      <td>False</td>\n",
       "      <td>Augie279</td>\n",
       "      <td>None</td>\n",
       "      <td>[]</td>\n",
       "      <td>None</td>\n",
       "      <td>text</td>\n",
       "      <td>t2_12gser</td>\n",
       "      <td>False</td>\n",
       "      <td>False</td>\n",
       "      <td>...</td>\n",
       "      <td>2021-10-11 17:29:05+00:00</td>\n",
       "      <td>2021</td>\n",
       "      <td>10</td>\n",
       "      <td>11</td>\n",
       "      <td>17</td>\n",
       "      <td>24</td>\n",
       "      <td>4</td>\n",
       "      <td>0</td>\n",
       "      <td>7389</td>\n",
       "      <td>0</td>\n",
       "    </tr>\n",
       "  </tbody>\n",
       "</table>\n",
       "<p>5 rows × 111 columns</p>\n",
       "</div>"
      ],
      "text/plain": [
       "  all_awardings allow_live_comments     author author_flair_css_class  \\\n",
       "0            []               False   Matcur12                   None   \n",
       "1            []               False  fermalion                   None   \n",
       "2            []               False  ABoyIsNo1                   None   \n",
       "3            []               False  NovaRogue                   None   \n",
       "4            []               False   Augie279                   None   \n",
       "\n",
       "  author_flair_richtext author_flair_text author_flair_type author_fullname  \\\n",
       "0                    []              None              text        t2_zpx31   \n",
       "1                    []              None              text        t2_m3ilj   \n",
       "2                    []              None              text     t2_1idri6nc   \n",
       "3                    []             Trash              text        t2_67a46   \n",
       "4                    []              None              text       t2_12gser   \n",
       "\n",
       "  author_is_blocked author_patreon_flair  ...                  GMT_time  year  \\\n",
       "0             False                False  ... 2021-10-12 21:08:01+00:00  2021   \n",
       "1             False                False  ... 2021-10-12 18:40:29+00:00  2021   \n",
       "2             False                False  ... 2021-10-12 17:18:24+00:00  2021   \n",
       "3             False                False  ... 2021-10-12 15:53:08+00:00  2021   \n",
       "4             False                False  ... 2021-10-11 17:29:05+00:00  2021   \n",
       "\n",
       "  month day  hour char_count word_count commments_greater body_len has_media  \n",
       "0    10  12    21         63         10                 0      808         0  \n",
       "1    10  12    18         55         11                 1     1786         0  \n",
       "2    10  12    17         93         18                 1      786         0  \n",
       "3    10  12    15         48          9                 1      541         0  \n",
       "4    10  11    17         24          4                 0     7389         0  \n",
       "\n",
       "[5 rows x 111 columns]"
      ]
     },
     "execution_count": 120,
     "metadata": {},
     "output_type": "execute_result"
    }
   ],
   "source": [
    "# Adding potentially useful columns\n",
    "df['GMT_time'] = df['created_utc'].apply(lambda time_seconds: \n",
    "                                        tz_from_utc_s_ts(time_seconds, pytz.timezone('UTC')))\n",
    "df['year'] = df['GMT_time'].apply(lambda date:  (date.strftime('%Y')))\n",
    "df['month'] = df['GMT_time'].apply(lambda date:  (date.strftime('%m')))\n",
    "df['day'] = df['GMT_time'].apply(lambda date:  (date.strftime('%d')))\n",
    "df['hour'] = df['GMT_time'].apply(lambda date:  (date.strftime('%H')))\n",
    "\n",
    "df['char_count'] = df['title'].apply(lambda text: len(text))\n",
    "df['word_count'] = df['title'].apply(lambda text: len(text.split()))\n",
    "med = df['num_comments'].median()\n",
    "df['commments_greater'] = df['num_comments'].apply(lambda val: 1 if val > med else 0)\n",
    "\n",
    "df.to_csv('../data/reddit_dominion_full.csv', index=False)\n",
    "df.head()"
   ]
  },
  {
   "cell_type": "code",
   "execution_count": 121,
   "id": "00fb95c2-d96b-45ac-8799-24cbaba275b6",
   "metadata": {},
   "outputs": [
    {
     "data": {
      "text/plain": [
       "0    0.518607\n",
       "1    0.481393\n",
       "Name: commments_greater, dtype: float64"
      ]
     },
     "execution_count": 121,
     "metadata": {},
     "output_type": "execute_result"
    }
   ],
   "source": [
    "df['commments_greater'].value_counts(normalize=True)"
   ]
  },
  {
   "cell_type": "code",
   "execution_count": 125,
   "id": "d7aac4e3-b2e1-450a-9f98-2b266616ec28",
   "metadata": {},
   "outputs": [],
   "source": [
    "df.sort_values(by='created_utc', inplace=True)"
   ]
  },
  {
   "cell_type": "code",
   "execution_count": 126,
   "id": "29b09897-2224-4c30-861b-0469753da737",
   "metadata": {},
   "outputs": [
    {
     "data": {
      "text/html": [
       "<div>\n",
       "<style scoped>\n",
       "    .dataframe tbody tr th:only-of-type {\n",
       "        vertical-align: middle;\n",
       "    }\n",
       "\n",
       "    .dataframe tbody tr th {\n",
       "        vertical-align: top;\n",
       "    }\n",
       "\n",
       "    .dataframe thead th {\n",
       "        text-align: right;\n",
       "    }\n",
       "</style>\n",
       "<table border=\"1\" class=\"dataframe\">\n",
       "  <thead>\n",
       "    <tr style=\"text-align: right;\">\n",
       "      <th></th>\n",
       "      <th>title</th>\n",
       "      <th>id</th>\n",
       "      <th>created_utc</th>\n",
       "      <th>year</th>\n",
       "      <th>month</th>\n",
       "      <th>full_link</th>\n",
       "      <th>body_len</th>\n",
       "      <th>word_count</th>\n",
       "      <th>char_count</th>\n",
       "      <th>has_media</th>\n",
       "      <th>num_comments</th>\n",
       "      <th>commments_greater</th>\n",
       "    </tr>\n",
       "  </thead>\n",
       "  <tbody>\n",
       "    <tr>\n",
       "      <th>7105</th>\n",
       "      <td>Dominion Deck Builder | Share, discuss and rat...</td>\n",
       "      <td>en9hw</td>\n",
       "      <td>1292565223</td>\n",
       "      <td>2010</td>\n",
       "      <td>12</td>\n",
       "      <td>https://www.reddit.com/r/dominion/comments/en9...</td>\n",
       "      <td>0</td>\n",
       "      <td>11</td>\n",
       "      <td>74</td>\n",
       "      <td>0</td>\n",
       "      <td>0</td>\n",
       "      <td>0</td>\n",
       "    </tr>\n",
       "    <tr>\n",
       "      <th>7106</th>\n",
       "      <td>Dominion: Cornucopia announced. Theme: Variety.</td>\n",
       "      <td>f2gt5</td>\n",
       "      <td>1295040872</td>\n",
       "      <td>2011</td>\n",
       "      <td>01</td>\n",
       "      <td>https://www.reddit.com/r/dominion/comments/f2g...</td>\n",
       "      <td>0</td>\n",
       "      <td>5</td>\n",
       "      <td>47</td>\n",
       "      <td>0</td>\n",
       "      <td>1</td>\n",
       "      <td>0</td>\n",
       "    </tr>\n",
       "    <tr>\n",
       "      <th>7109</th>\n",
       "      <td>Online Dominion</td>\n",
       "      <td>fe1r5</td>\n",
       "      <td>1296680348</td>\n",
       "      <td>2011</td>\n",
       "      <td>02</td>\n",
       "      <td>https://www.reddit.com/r/dominion/comments/fe1...</td>\n",
       "      <td>0</td>\n",
       "      <td>2</td>\n",
       "      <td>15</td>\n",
       "      <td>0</td>\n",
       "      <td>3</td>\n",
       "      <td>0</td>\n",
       "    </tr>\n",
       "    <tr>\n",
       "      <th>7108</th>\n",
       "      <td>Looking for someone to play a multiple rounds</td>\n",
       "      <td>fj3la</td>\n",
       "      <td>1297381276</td>\n",
       "      <td>2011</td>\n",
       "      <td>02</td>\n",
       "      <td>https://www.reddit.com/r/dominion/comments/fj3...</td>\n",
       "      <td>274</td>\n",
       "      <td>8</td>\n",
       "      <td>45</td>\n",
       "      <td>0</td>\n",
       "      <td>6</td>\n",
       "      <td>0</td>\n",
       "    </tr>\n",
       "    <tr>\n",
       "      <th>7107</th>\n",
       "      <td>The Secret History of the Dominion Cards (writ...</td>\n",
       "      <td>fw55j</td>\n",
       "      <td>1299108955</td>\n",
       "      <td>2011</td>\n",
       "      <td>03</td>\n",
       "      <td>https://www.reddit.com/r/dominion/comments/fw5...</td>\n",
       "      <td>0</td>\n",
       "      <td>12</td>\n",
       "      <td>71</td>\n",
       "      <td>0</td>\n",
       "      <td>0</td>\n",
       "      <td>0</td>\n",
       "    </tr>\n",
       "  </tbody>\n",
       "</table>\n",
       "</div>"
      ],
      "text/plain": [
       "                                                  title     id  created_utc  \\\n",
       "7105  Dominion Deck Builder | Share, discuss and rat...  en9hw   1292565223   \n",
       "7106    Dominion: Cornucopia announced. Theme: Variety.  f2gt5   1295040872   \n",
       "7109                                    Online Dominion  fe1r5   1296680348   \n",
       "7108      Looking for someone to play a multiple rounds  fj3la   1297381276   \n",
       "7107  The Secret History of the Dominion Cards (writ...  fw55j   1299108955   \n",
       "\n",
       "      year month                                          full_link  body_len  \\\n",
       "7105  2010    12  https://www.reddit.com/r/dominion/comments/en9...         0   \n",
       "7106  2011    01  https://www.reddit.com/r/dominion/comments/f2g...         0   \n",
       "7109  2011    02  https://www.reddit.com/r/dominion/comments/fe1...         0   \n",
       "7108  2011    02  https://www.reddit.com/r/dominion/comments/fj3...       274   \n",
       "7107  2011    03  https://www.reddit.com/r/dominion/comments/fw5...         0   \n",
       "\n",
       "      word_count  char_count  has_media  num_comments  commments_greater  \n",
       "7105          11          74          0             0                  0  \n",
       "7106           5          47          0             1                  0  \n",
       "7109           2          15          0             3                  0  \n",
       "7108           8          45          0             6                  0  \n",
       "7107          12          71          0             0                  0  "
      ]
     },
     "execution_count": 126,
     "metadata": {},
     "output_type": "execute_result"
    }
   ],
   "source": [
    "df2 = df[['title',  'id', 'created_utc', 'year', 'month', 'full_link', 'body_len', \n",
    "          'word_count', 'char_count', 'has_media', 'num_comments', \n",
    "          'commments_greater']]\n",
    "df2.head()"
   ]
  },
  {
   "cell_type": "code",
   "execution_count": 127,
   "id": "dad325fb-7b00-4079-ae6f-cc4a5e7c07b0",
   "metadata": {},
   "outputs": [],
   "source": [
    "df2.to_csv('../data/reddit_dominion.csv', index=False)"
   ]
  }
 ],
 "metadata": {
  "kernelspec": {
   "display_name": "Python 3 (ipykernel)",
   "language": "python",
   "name": "python3"
  },
  "language_info": {
   "codemirror_mode": {
    "name": "ipython",
    "version": 3
   },
   "file_extension": ".py",
   "mimetype": "text/x-python",
   "name": "python",
   "nbconvert_exporter": "python",
   "pygments_lexer": "ipython3",
   "version": "3.9.12"
  }
 },
 "nbformat": 4,
 "nbformat_minor": 5
}
